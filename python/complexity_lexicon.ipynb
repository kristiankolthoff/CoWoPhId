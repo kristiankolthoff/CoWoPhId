{
 "cells": [
  {
   "cell_type": "markdown",
   "metadata": {},
   "source": [
    "# Complexity Lexicon Construction"
   ]
  },
  {
   "cell_type": "markdown",
   "metadata": {},
   "source": [
    "## (1.0) Load Datasets"
   ]
  },
  {
   "cell_type": "code",
   "execution_count": 214,
   "metadata": {
    "collapsed": true
   },
   "outputs": [],
   "source": [
    "import pandas as pd\n",
    "import numpy as np\n",
    "import matplotlib.pyplot as plt\n",
    "from collections import namedtuple\n",
    "\n",
    "Dataset = namedtuple('Dataset', 'name, train, test')\n",
    "Model = namedtuple('Model', 'type, name, dimension, corpus, model')\n",
    "\n",
    "MAIN_PATH_DATASET = \"../cwishareddataset/traindevset/english/\"\n",
    "genres = ['Wikipedia', 'WikiNews', 'News']\n",
    "datasets = ['Train', 'Dev']\n",
    "columns = ['id', 'sentence', \"start\", \"end\", \"target\", \n",
    "           \"nat\", \"non_nat\", \"nat_marked\", \"non_nat_marked\", \"binary\", \"prob\"]\n",
    "\n",
    "\n",
    "datasets = [Dataset('Wikipedia', 'Train', 'Dev'),\n",
    "            Dataset('WikiNews', 'Train', 'Dev'),\n",
    "            Dataset('News', 'Train', 'Dev')]\n",
    "\n",
    "feature_categories = []\n",
    "\n",
    "def load_df(path):\n",
    "    df = pd.read_csv(path, header=None, sep = \"\\t\")\n",
    "    df.columns = columns\n",
    "    return df\n",
    "\n",
    "datasets = [Dataset(d.name, load_df(MAIN_PATH_DATASET + d.name + '_' + d.train + '.tsv'),\n",
    "                            load_df(MAIN_PATH_DATASET + d.name + '_' + d.test + '.tsv'))\n",
    "                            for d in datasets]"
   ]
  },
  {
   "cell_type": "markdown",
   "metadata": {},
   "source": [
    "## (1.1) Load Embedding Models"
   ]
  },
  {
   "cell_type": "markdown",
   "metadata": {},
   "source": [
    "### (1.1.1) Load GloVe embeddings"
   ]
  },
  {
   "cell_type": "code",
   "execution_count": null,
   "metadata": {},
   "outputs": [],
   "source": [
    "from gensim.test.utils import datapath, get_tmpfile\n",
    "from gensim.models import KeyedVectors\n",
    "from gensim.scripts.glove2word2vec import glove2word2vec\n",
    "\n",
    "MAIN_PATH = 'D:/workspace_python/CoWoReId/python/resources/word-embeddings/'\n",
    "\n",
    "glove_defs = [#Model('glove', 'glove.42B.300d.txt', 300, 'cc42B', None),  \n",
    "              #Model('glove', 'glove.840B.300d.txt', 300, 'cc840B', None), \n",
    "              Model('glove', 'glove.6B.50d.txt', 50, 'wikipedia+gigaword5', None), \n",
    "              #Model('glove', 'glove.6B.100d.txt',100, 'wikipedia+gigaword5', None),\n",
    "              #Model('glove', 'glove.6B.200d.txt', 200, 'wikipedia+gigaword5', None), \n",
    "              #Model('glove', 'glove.6B.300d.txt', 300, 'wikipedia+gigaword5', None),\n",
    "              Model('glove', 'glove.twitter.27B.25d.txt', 25, 'twitter', None)]\n",
    "              #Model('glove', 'glove.twitter.27B.50d.txt', 50, 'twitter', None), \n",
    "              #Model('glove', 'glove.twitter.27B.100d.txt', 100, 'twitter', None), \n",
    "              #Model('glove', 'glove.twitter.27B.200d.txt', 200, 'twitter', None)]\n",
    "\n",
    "glove_models = []\n",
    "for model in glove_defs:\n",
    "    glove_file = datapath(MAIN_PATH + model.name)\n",
    "    tmp_file = get_tmpfile(model.name + '-temp')\n",
    "    glove2word2vec(glove_file, tmp_file)\n",
    "    vecs = KeyedVectors.load_word2vec_format(tmp_file)\n",
    "    glove_models.append(Model(model.type, model.name, model.dimension, model.corpus, vecs))\n",
    "    print('load model : {}'.format(model.name))\n",
    "    \n",
    "print(glove_models)"
   ]
  },
  {
   "cell_type": "markdown",
   "metadata": {},
   "source": [
    "### (1.1.2) Load word2vec embeddings"
   ]
  },
  {
   "cell_type": "code",
   "execution_count": 159,
   "metadata": {
    "collapsed": true
   },
   "outputs": [],
   "source": [
    "from gensim.test.utils import datapath\n",
    "from gensim.models import KeyedVectors\n",
    "\n",
    "MAIN_PATH = 'D:/workspace_python/CoWoReId/python/resources/word-embeddings/'\n",
    "model_word2vec = Model('word2vec', 'GoogleNews-vectors-negative300.bin' , 300, 'GoogleNews', \\\n",
    "            KeyedVectors.load_word2vec_format(datapath(MAIN_PATH + 'GoogleNews-vectors-negative300.bin'), binary=True))"
   ]
  },
  {
   "cell_type": "markdown",
   "metadata": {},
   "source": [
    "### (1.1.3) Load FastText embeddings"
   ]
  },
  {
   "cell_type": "code",
   "execution_count": 160,
   "metadata": {
    "collapsed": true
   },
   "outputs": [],
   "source": [
    "from gensim.test.utils import datapath\n",
    "from gensim.models import KeyedVectors\n",
    "from gensim.models.wrappers import FastText\n",
    "\n",
    "MAIN_PATH = 'D:/workspace_python/CoWoReId/python/resources/word-embeddings/'\n",
    "model_fastText = Model('FastText', 'wiki.en.vec', 300, 'Wikipedia', \\\n",
    "                 KeyedVectors.load_word2vec_format(MAIN_PATH + 'wiki.en.vec'))"
   ]
  },
  {
   "cell_type": "code",
   "execution_count": 161,
   "metadata": {
    "collapsed": true
   },
   "outputs": [],
   "source": [
    "models = []\n",
    "models.extend(glove_models)\n",
    "models.append(model_word2vec)\n",
    "models.append(model_fastText)"
   ]
  },
  {
   "cell_type": "markdown",
   "metadata": {},
   "source": [
    "## (2) Boostrapped Lexicon Construction"
   ]
  },
  {
   "cell_type": "markdown",
   "metadata": {},
   "source": [
    "### (2.1) Baseline"
   ]
  },
  {
   "cell_type": "code",
   "execution_count": 308,
   "metadata": {},
   "outputs": [
    {
     "name": "stdout",
     "output_type": "stream",
     "text": [
      "----------Evaluation clean-----------\n",
      "[(0.7368421052631579, 'Wikipedia'), (0.7172264355362947, 'WikiNews'), (0.7416481069042317, 'News')]\n",
      "----------Evaluation weighted-----------\n",
      "[(0.746987951807229, 'Wikipedia'), (0.7390300230946882, 'WikiNews'), (0.8083441981747066, 'News')]\n",
      "----------Evaluation confidence-----------\n",
      "[(0.7398273736128236, 'Wikipedia'), (0.7184466019417476, 'WikiNews'), (0.7473002159827213, 'News')]\n"
     ]
    }
   ],
   "source": [
    "from collections import Counter\n",
    "\n",
    "'''\n",
    "Extract all words that are exactly identified as either complex\n",
    "or non-complex and use this as the vocabulary. Words that occur\n",
    "as both complex and non-complex are neglected for the vocabulary\n",
    "'''\n",
    "def build_clean_vocabulary(train):\n",
    "    targets_complex = set([mwe.strip().lower() for mwe in \n",
    "                train.loc[train['binary'] == 1,]['target'].tolist()])\n",
    "    targets_non_complex = set([mwe.strip().lower() for mwe in\n",
    "                train.loc[train['binary'] == 0,]['target'].tolist()])\n",
    "    targets_complex_cleaned = list(targets_complex.difference(targets_non_complex))\n",
    "    targets_non_complex_cleaned = list(targets_non_complex.difference(targets_complex))\n",
    "    vocabulary = {}\n",
    "    for target in targets_complex_cleaned:\n",
    "        vocabulary[target] = 1\n",
    "    for target in targets_non_complex_cleaned:\n",
    "        vocabulary[target] = 0\n",
    "    return vocabulary\n",
    "\n",
    "'''\n",
    "Extract all words that are identified as either complex\n",
    "or non-complex and use this as the vocabulary. Words that occur\n",
    "as both complex and non-complex are weighted based on the number\n",
    "of occurrences. If the word has been tagged more times as non-complex\n",
    "we save it as non-complex otherwise it is complex\n",
    "'''\n",
    "def build_weighted_vocabulary(train):\n",
    "    targets_complex = [mwe.strip().lower() for mwe in \n",
    "                train.loc[train['binary'] == 1,]['target'].tolist()]\n",
    "    targets_non_complex = [mwe.strip().lower() for mwe in\n",
    "                train.loc[train['binary'] == 0,]['target'].tolist()]\n",
    "    counts_complex = Counter(targets_complex)\n",
    "    counts_non_complex = Counter(targets_non_complex)\n",
    "    vocabulary = {}\n",
    "    for word, count in counts_complex.items():\n",
    "        count_nc = counts_non_complex.get(word, None)\n",
    "        if count_nc and count_nc > count:\n",
    "            vocabulary[word] = 0\n",
    "        else:\n",
    "            vocabulary[word] = 1\n",
    "    for word, count in counts_non_complex.items():\n",
    "        if word not in vocabulary:\n",
    "            vocabulary[word] = 0\n",
    "    return vocabulary\n",
    "\n",
    "def build_confidence_vocabulary_1(train, confidence):\n",
    "    targets_complex = [mwe.strip().lower() for mwe in \n",
    "                train.loc[train['prob'] >= confidence,]['target'].tolist()]\n",
    "    targets_non_complex = [mwe.strip().lower() for mwe in \n",
    "                train.loc[train['prob'] < confidence,]['target'].tolist()]\n",
    "    counts_complex = Counter(targets_complex)\n",
    "    counts_non_complex = Counter(targets_non_complex)\n",
    "    vocabulary = {}\n",
    "    for word, count in counts_complex.items():\n",
    "        count_nc = counts_non_complex.get(word, None)\n",
    "        if count_nc and count_nc > count:\n",
    "            vocabulary[word] = 0\n",
    "        else:\n",
    "            vocabulary[word] = 1\n",
    "    for word, count in counts_non_complex.items():\n",
    "        if word not in vocabulary:\n",
    "            vocabulary[word] = 0\n",
    "    return vocabulary\n",
    "\n",
    "def build_confidence_vocabulary_2(train, confidence):\n",
    "    targets_complex = [mwe.strip().lower() for mwe in \n",
    "                train.loc[train['prob'] >= confidence,]['target'].tolist()]\n",
    "    targets_non_complex = [mwe.strip().lower() for mwe in \n",
    "                train.loc[train['binary'] == 0,]['target'].tolist()]\n",
    "    counts_complex = Counter(targets_complex)\n",
    "    counts_non_complex = Counter(targets_non_complex)\n",
    "    vocabulary = {}\n",
    "    for word, count in counts_complex.items():\n",
    "        count_nc = counts_non_complex.get(word, None)\n",
    "        if count_nc and count_nc > count:\n",
    "            vocabulary[word] = 0\n",
    "        else:\n",
    "            vocabulary[word] = 1\n",
    "    for word, count in counts_non_complex.items():\n",
    "        if word not in vocabulary:\n",
    "            vocabulary[word] = 0\n",
    "    return vocabulary\n",
    "    \n",
    "\n",
    "def evaluate_label_target_predictions(test, vocabulary):\n",
    "    dict_test = list(zip(test.target, test.binary))\n",
    "    data = [(binary, (vocabulary[target.strip().lower()] if target.strip().lower() in vocabulary else 1)) \n",
    "            for target, binary in dict_test]\n",
    "    y_true = [vals[0] for vals in data]\n",
    "    prediction = [vals[1] for vals in data]\n",
    "    return f1_score(y_true, prediction)\n",
    "\n",
    "evaluation_clean = [(evaluate_label_target_predictions(ds.test, \n",
    "                    build_clean_vocabulary(ds.train)), ds.name) for ds in datasets]\n",
    "evaluation_weighted = [(evaluate_label_target_predictions(ds.test, \n",
    "                    build_weighted_vocabulary(ds.train)), ds.name) for ds in datasets]\n",
    "evaluation_conf = [(evaluate_label_target_predictions(ds.test, \n",
    "                    build_confidence_vocabulary_2(ds.train, 0.5)), ds.name) for ds in datasets]\n",
    "\n",
    "print('----------Evaluation clean-----------')\n",
    "print(evaluation_clean)\n",
    "print('----------Evaluation weighted-----------')\n",
    "print(evaluation_weighted)\n",
    "print('----------Evaluation confidence-----------')\n",
    "print(evaluation_conf)"
   ]
  },
  {
   "cell_type": "markdown",
   "metadata": {},
   "source": [
    "### (2.2) Boostrapping Lexicon"
   ]
  },
  {
   "cell_type": "code",
   "execution_count": 7,
   "metadata": {
    "collapsed": true
   },
   "outputs": [],
   "source": [
    "def ngram_embedding_similarity(model, word_l, word_r, missing_strat, ngram_repr):\n",
    "    vecs_l = [model[word.strip().lower()] if word.strip().lower() in model.vocab \n",
    "                  else missing_strat(word, model.vector_size) \n",
    "                  for word in word_l.split()]   \n",
    "    vecs_r = [model[word.strip().lower()] if word.strip().lower() in model.vocab \\\n",
    "                else missing_strat(word, model.vector_size)\n",
    "                for word in word_r.split()]\n",
    "    vec_l = ngram_repr(np.array(vecs_l))\n",
    "    vec_r = ngram_repr(np.array(vecs_r))\n",
    "    return np.dot(vec_l,vec_r) / (np.linalg.norm(vec_l) \\\n",
    "            * np.linalg.norm(vec_r))"
   ]
  },
  {
   "cell_type": "code",
   "execution_count": 173,
   "metadata": {},
   "outputs": [],
   "source": [
    "def bootstrap_lexicon(model, vocab, seeds_l, seeds_r, embedding_sim, \\\n",
    "                      missing_strat, ref_term, ngram_repr, agg_embed=True, epochs=10, \\\n",
    "                      bound_l=-1, bound_r=1, thresh_l=-0.5,thresh_r=0.5):\n",
    "    if not all(seed in vocab for seed in seeds_l):\n",
    "        raise ValueError('Not all left seeds contained in vocabulary')\n",
    "    if not all(seed in vocab for seed in seeds_r):\n",
    "        raise ValueError('Not all right seeds contained in vocabulary')\n",
    "    num_missing = np.sum([np.sum([1 for word in mwe.split()\n",
    "                        if word.strip().lower() not in model.vocab]) for mwe in vocab])\n",
    "    print('Missing vocab in model : {} / {}%'.format(num_missing, \\\n",
    "          (num_missing/len(vocab)*100)))\n",
    "    if agg_embed:\n",
    "        internal_vocab = vocab\n",
    "    else:\n",
    "        internal_vocab = [word for mwe in vocab for word in mwe.split()]\n",
    "    # 1. Initialize the left and right seeds\n",
    "    se_l = {seed : bound_l for seed in seeds_l}\n",
    "    se_r = {seed : bound_r for seed in seeds_r}\n",
    "    lexicon = se_l.copy()\n",
    "    lexicon.update(se_r)\n",
    "    for curr_epoch in range(1,epochs+1):\n",
    "        # 2. Compute left and right weights\n",
    "        print(se_l)\n",
    "        sum_l = np.abs(np.sum([score for word, score in se_l.items()]))\n",
    "        sum_r = np.abs(np.sum([score for word, score in se_r.items()]))\n",
    "        weight_l = sum_r / (sum_r + sum_l)\n",
    "        weight_r = sum_l / (sum_r + sum_l)\n",
    "        print(sum_l)\n",
    "        print(sum_r)\n",
    "        print('Epoch {} : Se_l_size = {}, Se_r_size = {}, weight_l = {}, weight_r = {},'.format(\\\n",
    "                      curr_epoch, len(se_l), len(se_r), weight_l, weight_r))\n",
    "        for index, curr_word in enumerate(internal_vocab):\n",
    "            if((index % 500) == 0):\n",
    "                print('{}|{}:{}%   '.format(index, len(internal_vocab), \n",
    "                                    (index/len(internal_vocab))), end='')\n",
    "            if curr_word in se_l or curr_word in se_r:\n",
    "                continue\n",
    "            # Compute the weighted left and right scores and sum them\n",
    "            score_l = [(weight_l * score * \\\n",
    "                        embedding_sim(model, curr_word, seed, missing_strat, ngram_repr)) \\\n",
    "                        for seed, score in se_l.items()]\n",
    "            score_r = [(weight_r * score * \\\n",
    "                        embedding_sim(model, curr_word, seed, missing_strat, ngram_repr)) \\\n",
    "                        for seed, score in se_r.items()]\n",
    "            print('Word : {}'.format(curr_word))\n",
    "            print(score_r)\n",
    "            print(score_l)\n",
    "            score = np.sum(score_l) + np.sum(score_r)\n",
    "            print('final score : {}'.format(score))\n",
    "            lexicon[curr_word] = score\n",
    "            print('{} : {}'.format(curr_word, score))\n",
    "            # Add word to the seed set if the score is low or high enough\n",
    "            if score <= thresh_l: se_l[curr_word] = score\n",
    "            if score >= thresh_r: se_r[curr_word] = score\n",
    "        #print(lexicon)\n",
    "    # 3. Compute final scores and normalize them\n",
    "    sim_ref = lexicon.get(ref_term)\n",
    "    #print('SIM_REF:{}'.format(sim_ref))\n",
    "    if not sim_ref:\n",
    "        return ValueError('Reference term {} not found in lexicon'.format(ref_term))\n",
    "    coll_l = {seed : (score - sim_ref) for seed, score in lexicon.items() \\\n",
    "                if (score - sim_ref) < 0}\n",
    "    coll_r = {seed : (score - sim_ref) for seed, score in lexicon.items() \\\n",
    "                if (score - sim_ref) > 0}\n",
    "    max_l = np.max(np.abs([score for _, score in coll_l.items()]))\n",
    "    max_r = np.max(np.abs([score for _, score in coll_r.items()]))\n",
    "    #print(coll_l)\n",
    "    #print(max_l)\n",
    "    lexicon[ref_term] = lexicon[ref_term] - sim_ref\n",
    "    for word, score in coll_l.items():\n",
    "        lexicon[word] = score / max_l\n",
    "    for word, score in coll_r.items():\n",
    "        lexicon[word] = score / max_r\n",
    "    # 4. Aggregate MWE complexity scores\n",
    "    if not agg_embed:\n",
    "        for mwe in vocab:\n",
    "            lexicon[mwe] = np.mean([lexicon[word] for word in mwe.split()])\n",
    "    return lexicon\n",
    "\n",
    "\n",
    "\n",
    "def bootstrap_lexicon_average(models, vocab, seeds_l, seeds_r, embedding_sim, \\\n",
    "                      missing_strat, ref_term, ngram_repr, agg_embed=True, epochs=10, \\\n",
    "                      bound_l=-1, bound_r=1, thresh_l=-0.5,thresh_r=0.5):\n",
    "    if not all(seed in vocab for seed in seeds_l):\n",
    "        raise ValueError('Not all left seeds contained in vocabulary')\n",
    "    if not all(seed in vocab for seed in seeds_r):\n",
    "        raise ValueError('Not all right seeds contained in vocabulary')\n",
    "    num_missing = np.sum([np.sum([1 for word in mwe.split()\n",
    "                        if word.strip().lower() not in model[0].vocab]) for mwe in vocab])\n",
    "    print('Missing vocab in models : {} / {}%'.format(num_missing, \\\n",
    "          (num_missing/len(vocab)*100)))\n",
    "    if agg_embed:\n",
    "        internal_vocab = vocab\n",
    "    else:\n",
    "        internal_vocab = [word for mwe in vocab for word in mwe.split()]\n",
    "    # 1. Initialize the left and right seeds\n",
    "    se_l = {seed : bound_l for seed in seeds_l}\n",
    "    se_r = {seed : bound_r for seed in seeds_r}\n",
    "    internal_lexicon = se_l.copy()\n",
    "    internal_lexicon.update(se_r)\n",
    "    for curr_epoch in range(1,epochs+1):\n",
    "        print('Epoch {} : Se_l_size = {}, Se_r_size = {}'.format(\\\n",
    "                      curr_epoch, len(se_l), len(se_r)))\n",
    "        for index, curr_word in enumerate(internal_vocab):\n",
    "            if((index % 500) == 0):\n",
    "                print('{}|{}:{}%   '.format(index, len(internal_vocab), \n",
    "                                    (index/len(internal_vocab))), end='')\n",
    "            if curr_word in se_l or curr_word in se_r:\n",
    "                continue\n",
    "            # Compute the weighted left and right scores and sum them\n",
    "            score_l = [(score * \\\n",
    "                        np.mean([embedding_sim(model, curr_word, seed, missing_strat, ngram_repr) \n",
    "                                for model in models])) \\\n",
    "                        for seed, score in se_l.items()]\n",
    "            score_r = [(score * \\\n",
    "                        np.mean([embedding_sim(model, curr_word, seed, missing_strat, ngram_repr)\n",
    "                                for model in models])) \\\n",
    "                        for seed, score in se_r.items()]\n",
    "            #print('Word : {}'.format(curr_word))\n",
    "            #print(score_r)\n",
    "            #print(score_l)\n",
    "            score = np.mean(score_l) + np.mean(score_r)\n",
    "            #print('final score : {}'.format(score))\n",
    "            internal_lexicon[curr_word] = score\n",
    "            #print('{} : {}'.format(curr_word, score))\n",
    "            # Add word to the seed set if the score is low or high enough\n",
    "            if score <= thresh_l: se_l[curr_word] = score\n",
    "            if score >= thresh_r: se_r[curr_word] = score\n",
    "        #print(lexicon)\n",
    "    # 3. Compute final scores and normalize them\n",
    "    sim_ref = internal_lexicon.get(ref_term)\n",
    "    print('SIM_REF:{}'.format(sim_ref))\n",
    "    if not sim_ref:\n",
    "        return ValueError('Reference term {} not found in lexicon'.format(ref_term))\n",
    "    coll_l = {seed : (score - sim_ref) for seed, score in internal_lexicon.items() \\\n",
    "                if (score - sim_ref) < 0}\n",
    "    coll_r = {seed : (score - sim_ref) for seed, score in internal_lexicon.items() \\\n",
    "                if (score - sim_ref) > 0}\n",
    "    max_l = np.max(np.abs([score for _, score in coll_l.items()]))\n",
    "    max_r = np.max(np.abs([score for _, score in coll_r.items()]))\n",
    "    #print(coll_l)\n",
    "    #print(max_l)\n",
    "    internal_lexicon[ref_term] = internal_lexicon[ref_term] - sim_ref\n",
    "    for word, score in coll_l.items():\n",
    "        internal_lexicon[word] = score / max_l\n",
    "    for word, score in coll_r.items():\n",
    "        internal_lexicon[word] = score / max_r\n",
    "    # 4. Aggregate MWE complexity scores\n",
    "    lexicon = {}\n",
    "    for word in vocab:\n",
    "        tokens = word.split()\n",
    "        if len(tokens) > 1 and not agg_embed:\n",
    "            lexicon[word] = np.mean([internal_lexicon[token] \n",
    "                                     for token in tokens])\n",
    "        else:\n",
    "            lexicon[word] = internal_lexicon[word]\n",
    "    return lexicon\n",
    "\n",
    "def bootstrap_lexicon_average_no_ref(models, vocab, seeds_l, seeds_r, embedding_sim, \\\n",
    "                      missing_strat, ngram_repr, agg_embed=True, epochs=10, \\\n",
    "                      bound_l=-1, bound_r=1, thresh_l=-0.5,thresh_r=0.5):\n",
    "    if not all(seed in vocab for seed in seeds_l):\n",
    "        raise ValueError('Not all left seeds contained in vocabulary')\n",
    "    if not all(seed in vocab for seed in seeds_r):\n",
    "        raise ValueError('Not all right seeds contained in vocabulary')\n",
    "    num_missing = np.sum([np.sum([1 for word in mwe.split()\n",
    "                        if word.strip().lower() not in model[0].vocab]) for mwe in vocab])\n",
    "    print('Missing vocab in models : {} / {}%'.format(num_missing, \\\n",
    "          (num_missing/len(vocab)*100)))\n",
    "    if agg_embed:\n",
    "        internal_vocab = vocab\n",
    "    else:\n",
    "        internal_vocab = [word for mwe in vocab for word in mwe.split()]\n",
    "    # 1. Initialize the left and right seeds\n",
    "    se_l = {seed : bound_l for seed in seeds_l}\n",
    "    se_r = {seed : bound_r for seed in seeds_r}\n",
    "    internal_lexicon = se_l.copy()\n",
    "    internal_lexicon.update(se_r)\n",
    "    for curr_epoch in range(1,epochs+1):\n",
    "        print('Epoch {} : Se_l_size = {}, Se_r_size = {}'.format(\\\n",
    "                      curr_epoch, len(se_l), len(se_r)))\n",
    "        for index, curr_word in enumerate(internal_vocab):\n",
    "            if((index % 500) == 0):\n",
    "                print('{}|{}:{}%   '.format(index, len(internal_vocab), \n",
    "                                    (index/len(internal_vocab))), end='')\n",
    "            if curr_word in se_l or curr_word in se_r:\n",
    "                continue\n",
    "            # Compute the weighted left and right scores and sum them\n",
    "            score_l = [(score * \\\n",
    "                        np.mean([embedding_sim(model, curr_word, seed, missing_strat, ngram_repr) \n",
    "                                for model in models])) \\\n",
    "                        for seed, score in se_l.items()]\n",
    "            score_r = [(score * \\\n",
    "                        np.mean([embedding_sim(model, curr_word, seed, missing_strat, ngram_repr)\n",
    "                                for model in models])) \\\n",
    "                        for seed, score in se_r.items()]\n",
    "            #print('Word : {}'.format(curr_word))\n",
    "            #print(score_r)\n",
    "            #print(score_l)\n",
    "            score = np.mean(score_l) + np.mean(score_r)\n",
    "            #print('final score : {}'.format(score))\n",
    "            internal_lexicon[curr_word] = score\n",
    "            #print('{} : {}'.format(curr_word, score))\n",
    "            # Add word to the seed set if the score is low or high enough\n",
    "            if score <= thresh_l: se_l[curr_word] = score\n",
    "            if score >= thresh_r: se_r[curr_word] = score\n",
    "        #print(lexicon)\n",
    "    # 4. Aggregate MWE complexity scores\n",
    "    lexicon = {}\n",
    "    for word in vocab:\n",
    "        tokens = word.split()\n",
    "        if len(tokens) > 1 and not agg_embed:\n",
    "            lexicon[word] = np.mean([internal_lexicon[token] \n",
    "                                     for token in tokens])\n",
    "        else:\n",
    "            lexicon[word] = internal_lexicon[word]\n",
    "    return lexicon"
   ]
  },
  {
   "cell_type": "markdown",
   "metadata": {},
   "source": [
    "## (3) Toy-Example Lexicon"
   ]
  },
  {
   "cell_type": "markdown",
   "metadata": {},
   "source": [
    "### (3.1) Single Model with reference term and score aggregation"
   ]
  },
  {
   "cell_type": "code",
   "execution_count": 174,
   "metadata": {
    "scrolled": false
   },
   "outputs": [
    {
     "name": "stdout",
     "output_type": "stream",
     "text": [
      "---------Complex Seeds----------------\n",
      "['aboriginal']\n",
      "---------Non-Complex Seeds----------------\n",
      "['bad', 'worse', 'unfortunately', 'really']\n",
      "---------Vocabulary----------------\n",
      "['aboriginal', 'bad', 'worse', 'unfortunately', 'really', 'good', 'inuit', 'and', 'to this end']\n",
      "Missing vocab in models : 0.0 / 0.0%\n",
      "Epoch 1 : Se_l_size = 4, Se_r_size = 1\n",
      "0|11:0.0%   Epoch 2 : Se_l_size = 7, Se_r_size = 2\n",
      "0|11:0.0%   Epoch 3 : Se_l_size = 7, Se_r_size = 2\n",
      "0|11:0.0%   SIM_REF:-0.33638048225707995\n",
      "{'aboriginal': 1.0, 'bad': -1.0, 'worse': -1.0, 'unfortunately': -1.0, 'really': -1.0, 'good': -0.43517536551322916, 'inuit': 0.8350315056510479, 'and': 0.0, 'to this end': -0.266093955672061}\n"
     ]
    }
   ],
   "source": [
    "from ngram_representation import missing_strat_random\n",
    "from ngram_representation import ngram_repr_bow_mean\n",
    "import gensim\n",
    "\n",
    "seeds_complex = ['aboriginal']\n",
    "seeds_non_complex = ['bad', 'worse', 'unfortunately', 'really']\n",
    "\n",
    "# Build the vocabulary\n",
    "vocabulary = []\n",
    "vocabulary.extend(seeds_complex)\n",
    "vocabulary.extend(seeds_non_complex)\n",
    "vocabulary.extend(['good', 'inuit', 'and', 'to this end'])\n",
    "\n",
    "print('---------Complex Seeds----------------')\n",
    "print(seeds_complex)\n",
    "print('---------Non-Complex Seeds----------------')\n",
    "print(seeds_non_complex)\n",
    "print('---------Vocabulary----------------')\n",
    "print(vocabulary)\n",
    "\n",
    "model = [models[0].model]\n",
    "ref_term = 'and'\n",
    "lexicon = bootstrap_lexicon_average(model, vocabulary, seeds_non_complex, seeds_complex, \\\n",
    "                  ngram_embedding_similarity, missing_strat_random, ref_term, \\\n",
    "                  ngram_repr_bow_mean, agg_embed=False, epochs=3, thresh_l=-0.5, thresh_r=0.5)\n",
    "print(lexicon)"
   ]
  },
  {
   "cell_type": "markdown",
   "metadata": {},
   "source": [
    "### (3.2) Single Model and score aggregation"
   ]
  },
  {
   "cell_type": "code",
   "execution_count": 175,
   "metadata": {},
   "outputs": [
    {
     "name": "stdout",
     "output_type": "stream",
     "text": [
      "---------Complex Seeds----------------\n",
      "['aboriginal']\n",
      "---------Non-Complex Seeds----------------\n",
      "['bad', 'worse', 'unfortunately', 'really']\n",
      "---------Vocabulary----------------\n",
      "['aboriginal', 'bad', 'worse', 'unfortunately', 'really', 'good', 'inuit', 'and', 'to this end']\n",
      "Missing vocab in models : 0.0 / 0.0%\n",
      "Epoch 1 : Se_l_size = 4, Se_r_size = 1\n",
      "0|11:0.0%   Epoch 2 : Se_l_size = 7, Se_r_size = 2\n",
      "0|11:0.0%   Epoch 3 : Se_l_size = 7, Se_r_size = 2\n",
      "0|11:0.0%   {'aboriginal': 1, 'bad': -1, 'worse': -1, 'unfortunately': -1, 'really': -1, 'good': -0.625171348452568, 'inuit': 0.7795393239647231, 'and': -0.33638048225707995, 'to this end': -0.512965624794479}\n"
     ]
    }
   ],
   "source": [
    "from ngram_representation import missing_strat_random\n",
    "from ngram_representation import ngram_repr_bow_mean\n",
    "import gensim\n",
    "\n",
    "seeds_complex = ['aboriginal']\n",
    "seeds_non_complex = ['bad', 'worse', 'unfortunately', 'really']\n",
    "\n",
    "# Build the vocabulary\n",
    "vocabulary = []\n",
    "vocabulary.extend(seeds_complex)\n",
    "vocabulary.extend(seeds_non_complex)\n",
    "vocabulary.extend(['good', 'inuit', 'and', 'to this end'])\n",
    "\n",
    "print('---------Complex Seeds----------------')\n",
    "print(seeds_complex)\n",
    "print('---------Non-Complex Seeds----------------')\n",
    "print(seeds_non_complex)\n",
    "print('---------Vocabulary----------------')\n",
    "print(vocabulary)\n",
    "\n",
    "model = [models[0].model]\n",
    "lexicon = bootstrap_lexicon_average_no_ref(model, vocabulary, seeds_non_complex, seeds_complex, \\\n",
    "                  ngram_embedding_similarity, missing_strat_random, \\\n",
    "                  ngram_repr_bow_mean, agg_embed=False, epochs=3, thresh_l=-0.5, thresh_r=0.5)\n",
    "print(lexicon)"
   ]
  },
  {
   "cell_type": "markdown",
   "metadata": {},
   "source": [
    "### (3.3) Multiple Models with reference term and score aggregation"
   ]
  },
  {
   "cell_type": "code",
   "execution_count": 176,
   "metadata": {},
   "outputs": [
    {
     "name": "stdout",
     "output_type": "stream",
     "text": [
      "---------Complex Seeds----------------\n",
      "['aboriginal']\n",
      "---------Non-Complex Seeds----------------\n",
      "['bad']\n",
      "---------Vocabulary----------------\n",
      "['aboriginal', 'bad', 'good', 'inuit', 'and', 'to this end', 'extraordinary']\n",
      "[<gensim.models.keyedvectors.Word2VecKeyedVectors object at 0x000000741AD63A90>, <gensim.models.keyedvectors.Word2VecKeyedVectors object at 0x00000074283E2EF0>, <gensim.models.keyedvectors.Word2VecKeyedVectors object at 0x00000074158159E8>, <gensim.models.keyedvectors.Word2VecKeyedVectors object at 0x0000007415817AC8>]\n",
      "Missing vocab in models : 0.0 / 0.0%\n",
      "Epoch 1 : Se_l_size = 1, Se_r_size = 1\n",
      "0|9:0.0%   Epoch 2 : Se_l_size = 2, Se_r_size = 2\n",
      "0|9:0.0%   Epoch 3 : Se_l_size = 2, Se_r_size = 2\n",
      "0|9:0.0%   SIM_REF:-0.1700541415844552\n",
      "{'aboriginal': 1.0, 'bad': -1.0, 'good': -0.5230610309483759, 'inuit': 0.5964667506036255, 'and': 0.0, 'to this end': -0.1312578920535429, 'extraordinary': 0.020110890897360213}\n"
     ]
    }
   ],
   "source": [
    "from ngram_representation import missing_strat_random\n",
    "from ngram_representation import ngram_repr_bow_mean\n",
    "import gensim\n",
    "\n",
    "seeds_complex = ['aboriginal']\n",
    "seeds_non_complex = ['bad']\n",
    "\n",
    "# Build the vocabulary\n",
    "vocabulary = []\n",
    "vocabulary.extend(seeds_complex)\n",
    "vocabulary.extend(seeds_non_complex)\n",
    "vocabulary.extend(['good', 'inuit', 'and', 'to this end', 'extraordinary'])\n",
    "\n",
    "print('---------Complex Seeds----------------')\n",
    "print(seeds_complex)\n",
    "print('---------Non-Complex Seeds----------------')\n",
    "print(seeds_non_complex)\n",
    "print('---------Vocabulary----------------')\n",
    "print(vocabulary)\n",
    "\n",
    "models_selected = [model.model for model in models]\n",
    "ref_term = 'and'\n",
    "lexicon = bootstrap_lexicon_average(models_selected, vocabulary, seeds_non_complex, seeds_complex, \\\n",
    "                  ngram_embedding_similarity, missing_strat_random, ref_term, \\\n",
    "                  ngram_repr_bow_mean, agg_embed=False, epochs=3, thresh_l=-0.5, thresh_r=0.5)\n",
    "print(lexicon)"
   ]
  },
  {
   "cell_type": "markdown",
   "metadata": {},
   "source": [
    "### (3.4) Single Model with reference term and embedding aggregation"
   ]
  },
  {
   "cell_type": "code",
   "execution_count": 177,
   "metadata": {},
   "outputs": [
    {
     "name": "stdout",
     "output_type": "stream",
     "text": [
      "---------Complex Seeds----------------\n",
      "['aboriginal']\n",
      "---------Non-Complex Seeds----------------\n",
      "['bad', 'worse', 'unfortunately', 'really']\n",
      "---------Vocabulary----------------\n",
      "['aboriginal', 'bad', 'worse', 'unfortunately', 'really', 'good', 'inuit', 'and', 'to this end']\n",
      "Missing vocab in models : 0.0 / 0.0%\n",
      "Epoch 1 : Se_l_size = 4, Se_r_size = 1\n",
      "0|9:0.0%   Epoch 2 : Se_l_size = 6, Se_r_size = 2\n",
      "0|9:0.0%   Epoch 3 : Se_l_size = 6, Se_r_size = 2\n",
      "0|9:0.0%   SIM_REF:-0.36147909368740827\n",
      "{'aboriginal': 1.0, 'bad': -1.0, 'worse': -1.0, 'unfortunately': -1.0, 'really': -1.0, 'good': -0.41297356462134016, 'inuit': 0.8380726688661927, 'and': 0.0, 'to this end': -0.31752104683715165}\n"
     ]
    }
   ],
   "source": [
    "from ngram_representation import missing_strat_random\n",
    "from ngram_representation import ngram_repr_bow_mean\n",
    "import gensim\n",
    "\n",
    "seeds_complex = ['aboriginal']\n",
    "seeds_non_complex = ['bad', 'worse', 'unfortunately', 'really']\n",
    "\n",
    "# Build the vocabulary\n",
    "vocabulary = []\n",
    "vocabulary.extend(seeds_complex)\n",
    "vocabulary.extend(seeds_non_complex)\n",
    "vocabulary.extend(['good', 'inuit', 'and', 'to this end'])\n",
    "\n",
    "print('---------Complex Seeds----------------')\n",
    "print(seeds_complex)\n",
    "print('---------Non-Complex Seeds----------------')\n",
    "print(seeds_non_complex)\n",
    "print('---------Vocabulary----------------')\n",
    "print(vocabulary)\n",
    "\n",
    "model = [models[0].model]\n",
    "ref_term = 'and'\n",
    "lexicon = bootstrap_lexicon_average(model, vocabulary, seeds_non_complex, seeds_complex, \\\n",
    "                  ngram_embedding_similarity, missing_strat_random, ref_term, \\\n",
    "                  ngram_repr_bow_mean, agg_embed=True, epochs=3, thresh_l=-0.5, thresh_r=0.5)\n",
    "print(lexicon)"
   ]
  },
  {
   "cell_type": "markdown",
   "metadata": {},
   "source": [
    "## (4) Complexity Lexicon"
   ]
  },
  {
   "cell_type": "code",
   "execution_count": 222,
   "metadata": {
    "collapsed": true
   },
   "outputs": [],
   "source": [
    "def construct_pairs(lexicon, df_test):\n",
    "    dict_test = list(zip(df_test.target, df_test.binary))\n",
    "    return [(target, binary, lexicon[target.strip().lower()]) \n",
    "            for target, binary in dict_test]"
   ]
  },
  {
   "cell_type": "markdown",
   "metadata": {},
   "source": [
    "### (4.1) MWE with Embedding Aggregation"
   ]
  },
  {
   "cell_type": "code",
   "execution_count": 319,
   "metadata": {},
   "outputs": [
    {
     "name": "stdout",
     "output_type": "stream",
     "text": [
      "-----------------------------------------\n",
      "-----------------------------------------\n",
      "Dataset :Wikipedia\n",
      "---------Training Targets----------------\n",
      "Targets complex : 2019\n",
      "Target non-complex : 1558\n",
      "---------Testing Seeds----------------\n",
      "Target test : 694\n",
      "Missing vocab in models : 201.0 / 4.705056179775281%\n",
      "Epoch 1 : Se_l_size = 1558, Se_r_size = 2019\n",
      "0|4272:0.0%   500|4272:0.11704119850187265%   1000|4272:0.2340823970037453%   1500|4272:0.351123595505618%   2000|4272:0.4681647940074906%   2500|4272:0.5852059925093633%   3000|4272:0.702247191011236%   3500|4272:0.8192883895131086%   4000|4272:0.9363295880149812%   "
     ]
    }
   ],
   "source": [
    "import pandas as pd\n",
    "from ngram_representation import missing_strat_random\n",
    "from ngram_representation import ngram_repr_bow_mean\n",
    "from ngram_representation import ngram_repr_bow_max\n",
    "from ngram_representation import ngram_repr_bow_min\n",
    "from ngram_representation import ngram_repr_wiki_weighted_bow\n",
    "\n",
    "\n",
    "# Get the basic seeds for complex and non_complex words\n",
    "# Group targets into complex and non-complex and flatten MWE\n",
    "targets_train = [(ds.name, build_weighted_vocabulary(ds.train)) for ds in datasets]\n",
    "seeds_complex = [(name, [word for word, score in vocab.items() if score == 1]) for name, vocab in targets_train]\n",
    "seeds_non_complex = [(name, [word for word, score in vocab.items() if score == 0]) for name, vocab in targets_train]\n",
    "\n",
    "lexicons = []\n",
    "# Parameters for lexicon construction\n",
    "epochs=1\n",
    "thresh_l=-0.5\n",
    "thresh_r=0.5\n",
    "agg_embed=True\n",
    "embedding_sim = ngram_embedding_similarity\n",
    "ngram_repr = ngram_repr_bow_max\n",
    "missing_strat = missing_strat_random\n",
    "model = [model.model for model in models]\n",
    "data = [datasets[0]]\n",
    "\n",
    "for ds in data:\n",
    "    t_complex = [seeds for name, seeds in seeds_complex if name == ds.name][0]\n",
    "    t_non_complex = [seeds for name, seeds in seeds_non_complex if name == ds.name][0]\n",
    "    t_test = [d.test.target.tolist() for d in datasets \n",
    "              if d.name == ds.name][0]\n",
    "    t_test = [mwe.strip().lower() for mwe in t_test]\n",
    "    vocabulary = []\n",
    "    vocabulary.extend(t_complex)\n",
    "    vocabulary.extend(t_non_complex)\n",
    "    vocabulary.extend(t_test)\n",
    "    vocabulary.append(ref_term)\n",
    "    print('-----------------------------------------')\n",
    "    print('-----------------------------------------')\n",
    "    print('Dataset :{}'.format(ds.name))\n",
    "    print('---------Training Targets----------------')\n",
    "    print('Targets complex : {}'.format(len(t_complex)))\n",
    "    print('Target non-complex : {}'.format(len(t_non_complex)))\n",
    "    print('---------Testing Seeds----------------')\n",
    "    print('Target test : {}'.format(len(t_test)))\n",
    "    lexicon = bootstrap_lexicon_average_no_ref(model, vocabulary, t_non_complex, t_complex, \\\n",
    "                  embedding_sim=embedding_sim, \\\n",
    "                  missing_strat=missing_strat, \\\n",
    "                  ngram_repr=ngram_repr, agg_embed=agg_embed, epochs=epochs, \\\n",
    "                  thresh_l=thresh_l, thresh_r=thresh_r)\n",
    "    lexicons.append(Lexicon(ds.name, epochs, thresh_l, thresh_r, agg_embed, lexicon))"
   ]
  },
  {
   "cell_type": "code",
   "execution_count": 320,
   "metadata": {},
   "outputs": [
    {
     "name": "stderr",
     "output_type": "stream",
     "text": [
      "C:\\Users\\Studio\\Anaconda3\\lib\\site-packages\\scipy\\stats\\stats.py:1626: FutureWarning: Using a non-tuple sequence for multidimensional indexing is deprecated; use `arr[tuple(seq)]` instead of `arr[seq]`. In the future this will be interpreted as an array index, `arr[np.array(seq)]`, which will result either in an error or a different result.\n",
      "  return np.add.reduce(sorted[indexer] * weights, axis=axis) / sumval\n"
     ]
    },
    {
     "data": {
      "image/png": "[encoded data removed]",
      "text/plain": [
       "<Figure size 432x288 with 1 Axes>"
      ]
     },
     "metadata": {},
     "output_type": "display_data"
    }
   ],
   "source": [
    "import seaborn as sns, numpy as np\n",
    "import matplotlib.pyplot as plt\n",
    "sns.set(style=\"darkgrid\")\n",
    "np.random.seed(0)\n",
    "x = np.array([score for word, score in lexicon.items()])\n",
    "ax = sns.distplot(x)\n",
    "plt.show(ax)"
   ]
  },
  {
   "cell_type": "code",
   "execution_count": 321,
   "metadata": {
    "collapsed": true
   },
   "outputs": [],
   "source": [
    "pairs = [construct_pairs(lexicon.lexicon, ds.test)\n",
    "            for lexicon in lexicons \n",
    "            for ds in datasets if lexicon.name == ds.name][0]"
   ]
  },
  {
   "cell_type": "code",
   "execution_count": 322,
   "metadata": {},
   "outputs": [
    {
     "name": "stdout",
     "output_type": "stream",
     "text": [
      "694\n",
      "694\n"
     ]
    },
    {
     "data": {
      "text/plain": [
       "0.746987951807229"
      ]
     },
     "execution_count": 322,
     "metadata": {},
     "output_type": "execute_result"
    }
   ],
   "source": [
    "import numpy\n",
    "from sklearn.metrics import f1_score\n",
    "\n",
    "y_true = [pair[1] for pair in pairs]\n",
    "print(len(y_true))\n",
    "prediction = [pair[2] for pair in pairs]\n",
    "print(len(prediction))\n",
    "numpy.corrcoef(y_true, prediction)[0, 1]\n",
    "f1_score(y_true, list(map(lambda val: 1 if val>-1 else 0, prediction)))"
   ]
  },
  {
   "cell_type": "markdown",
   "metadata": {},
   "source": [
    "### (4.2) MWE with Embedding Aggregation and Reference Term"
   ]
  },
  {
   "cell_type": "code",
   "execution_count": 314,
   "metadata": {},
   "outputs": [
    {
     "name": "stdout",
     "output_type": "stream",
     "text": [
      "-----------------------------------------\n",
      "-----------------------------------------\n",
      "Dataset :Wikipedia\n",
      "---------Training Targets----------------\n",
      "Targets complex : 2019\n",
      "Target non-complex : 1558\n",
      "---------Testing Seeds----------------\n",
      "Target test : 694\n",
      "Missing vocab in models : 201.0 / 4.705056179775281%\n",
      "Epoch 1 : Se_l_size = 1558, Se_r_size = 2019\n",
      "0|4272:0.0%   500|4272:0.11704119850187265%   1000|4272:0.2340823970037453%   1500|4272:0.351123595505618%   2000|4272:0.4681647940074906%   2500|4272:0.5852059925093633%   3000|4272:0.702247191011236%   3500|4272:0.8192883895131086%   4000|4272:0.9363295880149812%   SIM_REF:-0.05605420319279125\n"
     ]
    }
   ],
   "source": [
    "import pandas as pd\n",
    "from ngram_representation import missing_strat_random\n",
    "from ngram_representation import ngram_repr_bow_mean\n",
    "from ngram_representation import ngram_repr_bow_max\n",
    "from ngram_representation import ngram_repr_bow_min\n",
    "from ngram_representation import ngram_repr_wiki_weighted_bow\n",
    "\n",
    "\n",
    "# Get the basic seeds for complex and non_complex words\n",
    "# Group targets into complex and non-complex and flatten MWE\n",
    "targets_train = [(ds.name, build_weighted_vocabulary(ds.train)) for ds in datasets]\n",
    "seeds_complex = [(name, [word for word, score in vocab.items() if score == 1]) for name, vocab in targets_train]\n",
    "seeds_non_complex = [(name, [word for word, score in vocab.items() if score == 0]) for name, vocab in targets_train]\n",
    "\n",
    "lexicons = []\n",
    "# Parameters for lexicon construction\n",
    "epochs=1\n",
    "thresh_l=-0.5\n",
    "thresh_r=0.5\n",
    "agg_embed=True\n",
    "ref_term = 'and'\n",
    "embedding_sim = ngram_embedding_similarity\n",
    "ngram_repr = ngram_repr_bow_max\n",
    "missing_strat = missing_strat_random\n",
    "model = [model.model for model in models]\n",
    "data = [datasets[0]]\n",
    "\n",
    "for ds in data:\n",
    "    t_complex = [seeds for name, seeds in seeds_complex if name == ds.name][0]\n",
    "    t_non_complex = [seeds for name, seeds in seeds_non_complex if name == ds.name][0]\n",
    "    t_test = [d.test.target.tolist() for d in datasets \n",
    "              if d.name == ds.name][0]\n",
    "    t_test = [mwe.strip().lower() for mwe in t_test]\n",
    "    vocabulary = []\n",
    "    vocabulary.extend(t_complex)\n",
    "    vocabulary.extend(t_non_complex)\n",
    "    vocabulary.extend(t_test)\n",
    "    vocabulary.append(ref_term)\n",
    "    print('-----------------------------------------')\n",
    "    print('-----------------------------------------')\n",
    "    print('Dataset :{}'.format(ds.name))\n",
    "    print('---------Training Targets----------------')\n",
    "    print('Targets complex : {}'.format(len(t_complex)))\n",
    "    print('Target non-complex : {}'.format(len(t_non_complex)))\n",
    "    print('---------Testing Seeds----------------')\n",
    "    print('Target test : {}'.format(len(t_test)))\n",
    "    lexicon = bootstrap_lexicon_average(model, vocabulary, t_non_complex, t_complex, \\\n",
    "                  embedding_sim=embedding_sim, \\\n",
    "                  missing_strat=missing_strat, ref_term=ref_term, \\\n",
    "                  ngram_repr=ngram_repr, agg_embed=agg_embed, epochs=epochs, \\\n",
    "                  thresh_l=thresh_l, thresh_r=thresh_r)\n",
    "    lexicons.append(Lexicon(ds.name, epochs, thresh_l, thresh_r, agg_embed, lexicon))"
   ]
  },
  {
   "cell_type": "code",
   "execution_count": 315,
   "metadata": {},
   "outputs": [
    {
     "name": "stderr",
     "output_type": "stream",
     "text": [
      "C:\\Users\\Studio\\Anaconda3\\lib\\site-packages\\scipy\\stats\\stats.py:1626: FutureWarning: Using a non-tuple sequence for multidimensional indexing is deprecated; use `arr[tuple(seq)]` instead of `arr[seq]`. In the future this will be interpreted as an array index, `arr[np.array(seq)]`, which will result either in an error or a different result.\n",
      "  return np.add.reduce(sorted[indexer] * weights, axis=axis) / sumval\n"
     ]
    },
    {
     "data": {
      "image/png": "[encoded data removed]",
      "text/plain": [
       "<Figure size 432x288 with 1 Axes>"
      ]
     },
     "metadata": {},
     "output_type": "display_data"
    }
   ],
   "source": [
    "import seaborn as sns, numpy as np\n",
    "import matplotlib.pyplot as plt\n",
    "sns.set(style=\"darkgrid\")\n",
    "np.random.seed(0)\n",
    "x = np.array([score for word, score in lexicon.items()])\n",
    "ax = sns.distplot(x)\n",
    "plt.show(ax)"
   ]
  },
  {
   "cell_type": "code",
   "execution_count": 316,
   "metadata": {
    "collapsed": true
   },
   "outputs": [],
   "source": [
    "pairs = [construct_pairs(lexicon.lexicon, ds.test)\n",
    "            for lexicon in lexicons \n",
    "            for ds in datasets if lexicon.name == ds.name][0]"
   ]
  },
  {
   "cell_type": "code",
   "execution_count": 318,
   "metadata": {},
   "outputs": [
    {
     "data": {
      "text/plain": [
       "0.746987951807229"
      ]
     },
     "execution_count": 318,
     "metadata": {},
     "output_type": "execute_result"
    }
   ],
   "source": [
    "import numpy\n",
    "from sklearn.metrics import f1_score\n",
    "\n",
    "y_true = [pair[1] for pair in pairs]\n",
    "prediction = [pair[2] for pair in pairs]\n",
    "numpy.corrcoef(y_true, prediction)[0, 1]\n",
    "f1_score(y_true, list(map(lambda val: 1 if val>-1 else 0, prediction)))"
   ]
  },
  {
   "cell_type": "markdown",
   "metadata": {},
   "source": [
    "### (4.3) MWE with Complexity Score Aggregation no reference term"
   ]
  },
  {
   "cell_type": "code",
   "execution_count": 179,
   "metadata": {},
   "outputs": [
    {
     "name": "stdout",
     "output_type": "stream",
     "text": [
      "---------Training Targets----------------\n",
      "Targets complex : 7688\n",
      "Target non-complex : 6316\n",
      "Targets clean-complex : 6559\n",
      "Target clean-non-complex : 5187\n",
      "---------Testing Seeds----------------\n",
      "Target test : 3328\n",
      "False\n",
      "-----------------------------------------\n",
      "-----------------------------------------\n",
      "Dataset :Wikipedia\n",
      "---------Training Targets----------------\n",
      "Targets complex : 1901\n",
      "Target non-complex : 1603\n",
      "---------Testing Seeds----------------\n",
      "Target test : 694\n",
      "Missing vocab in models : 192.0 / 4.5736064792758455%\n",
      "Epoch 1 : Se_l_size = 1504, Se_r_size = 1873\n",
      "0|5306:0.0%   500|5306:0.09423294383716548%   1000|5306:0.18846588767433095%   1500|5306:0.28269883151149644%   2000|5306:0.3769317753486619%   2500|5306:0.47116471918582736%   3000|5306:0.5653976630229929%   3500|5306:0.6596306068601583%   4000|5306:0.7538635506973238%   4500|5306:0.8480964945344892%   5000|5306:0.9423294383716547%   "
     ]
    }
   ],
   "source": [
    "import pandas as pd\n",
    "from ngram_representation import missing_strat_random\n",
    "from ngram_representation import ngram_repr_bow_mean\n",
    "from ngram_representation import ngram_repr_bow_max\n",
    "from ngram_representation import ngram_repr_bow_min\n",
    "from ngram_representation import ngram_repr_wiki_weighted_bow\n",
    "\n",
    "\n",
    "# Get the basic seeds for complex and non_complex words\n",
    "# Group targets into complex and non-complex and flatten MWE\n",
    "targets_train = [(ds.name, build_weighted_vocabulary(ds.train)) for ds in datasets]\n",
    "seeds_complex = [(name, [word for word, score in vocab.items() if score == 1]) for name, vocab in targets_train]\n",
    "seeds_non_complex = [(name, [word for word, score in vocab.items() if score == 0]) for name, vocab in targets_train]\n",
    "\n",
    "lexicons = []\n",
    "# Parameters for lexicon construction\n",
    "epochs=1\n",
    "thresh_l=-0.5\n",
    "thresh_r=0.5\n",
    "agg_embed=False\n",
    "embedding_sim = ngram_embedding_similarity\n",
    "ngram_repr = ngram_repr_bow_max\n",
    "missing_strat = missing_strat_random\n",
    "model = [model.model for model in models]\n",
    "data = [datasets[0]]\n",
    "\n",
    "for ds in data:\n",
    "    t_complex = [seeds for name, seeds in seeds_complex if name == ds.name][0]\n",
    "    t_non_complex = [seeds for name, seeds in seeds_non_complex if name == ds.name][0]\n",
    "    t_test = [d.test.target.tolist() for d in datasets \n",
    "              if d.name == ds.name][0]\n",
    "    t_test = [mwe.strip().lower() for mwe in t_test]\n",
    "    vocabulary = []\n",
    "    vocabulary.extend(t_complex)\n",
    "    vocabulary.extend(t_non_complex)\n",
    "    vocabulary.extend(t_test)\n",
    "    print('and' in vocabulary)\n",
    "    print('-----------------------------------------')\n",
    "    print('-----------------------------------------')\n",
    "    print('Dataset :{}'.format(ds.name))\n",
    "    print('---------Training Targets----------------')\n",
    "    print('Targets complex : {}'.format(len(t_complex)))\n",
    "    print('Target non-complex : {}'.format(len(t_non_complex)))\n",
    "    print('---------Testing Seeds----------------')\n",
    "    print('Target test : {}'.format(len(t_test)))\n",
    "    lexicon = bootstrap_lexicon_average_no_ref(model, vocabulary, t_non_complex, t_complex, \\\n",
    "                  embedding_sim=embedding_sim, \\\n",
    "                  missing_strat=missing_strat, \\\n",
    "                  ngram_repr=ngram_repr, agg_embed=agg_embed, epochs=epochs, \\\n",
    "                  thresh_l=thresh_l, thresh_r=thresh_r)\n",
    "    lexicons.append(Lexicon(ds.name, epochs, thresh_l, thresh_r, agg_embed, lexicon))"
   ]
  },
  {
   "cell_type": "code",
   "execution_count": 180,
   "metadata": {},
   "outputs": [
    {
     "name": "stderr",
     "output_type": "stream",
     "text": [
      "C:\\Users\\Studio\\Anaconda3\\lib\\site-packages\\scipy\\stats\\stats.py:1626: FutureWarning: Using a non-tuple sequence for multidimensional indexing is deprecated; use `arr[tuple(seq)]` instead of `arr[seq]`. In the future this will be interpreted as an array index, `arr[np.array(seq)]`, which will result either in an error or a different result.\n",
      "  return np.add.reduce(sorted[indexer] * weights, axis=axis) / sumval\n"
     ]
    },
    {
     "data": {
      "image/png": "[encoded data removed]",
      "text/plain": [
       "<Figure size 432x288 with 1 Axes>"
      ]
     },
     "metadata": {},
     "output_type": "display_data"
    }
   ],
   "source": [
    "import seaborn as sns, numpy as np\n",
    "import matplotlib.pyplot as plt\n",
    "sns.set(style=\"darkgrid\")\n",
    "np.random.seed(0)\n",
    "x = np.array([score for word, score in lexicon.items()])\n",
    "ax = sns.distplot(x)\n",
    "plt.show(ax)"
   ]
  },
  {
   "cell_type": "code",
   "execution_count": 224,
   "metadata": {
    "collapsed": true
   },
   "outputs": [],
   "source": [
    "pairs = [construct_pairs(lexicon.lexicon, ds.test)\n",
    "            for lexicon in lexicons \n",
    "            for ds in datasets if lexicon.name == ds.name][0]"
   ]
  },
  {
   "cell_type": "code",
   "execution_count": 225,
   "metadata": {},
   "outputs": [
    {
     "name": "stdout",
     "output_type": "stream",
     "text": [
      "694\n",
      "694\n"
     ]
    },
    {
     "data": {
      "text/plain": [
       "0.7403055229142186"
      ]
     },
     "execution_count": 225,
     "metadata": {},
     "output_type": "execute_result"
    }
   ],
   "source": [
    "import numpy\n",
    "from sklearn.metrics import f1_score\n",
    "\n",
    "y_true = [pair[1] for pair in pairs]\n",
    "prediction = [pair[2] for pair in pairs]\n",
    "numpy.corrcoef(y_true, prediction)[0, 1]\n",
    "f1_score(y_true, list(map(lambda val: 1 if val>-0.7 else 0, prediction)))"
   ]
  },
  {
   "cell_type": "markdown",
   "metadata": {},
   "source": [
    "### (4.4) MWE with Complexity Score Aggregation no reference term (weighted seeds)"
   ]
  },
  {
   "cell_type": "code",
   "execution_count": 323,
   "metadata": {},
   "outputs": [
    {
     "name": "stdout",
     "output_type": "stream",
     "text": [
      "False\n",
      "-----------------------------------------\n",
      "-----------------------------------------\n",
      "Dataset :Wikipedia\n",
      "---------Training Targets----------------\n",
      "Targets complex : 2019\n",
      "Target non-complex : 1558\n",
      "---------Testing Seeds----------------\n",
      "Target test : 694\n",
      "Missing vocab in models : 201.0 / 4.7061578084757665%\n",
      "Epoch 1 : Se_l_size = 1558, Se_r_size = 2019\n",
      "0|5380:0.0%   500|5380:0.09293680297397769%   1000|5380:0.18587360594795538%   1500|5380:0.2788104089219331%   2000|5380:0.37174721189591076%   2500|5380:0.4646840148698885%   3000|5380:0.5576208178438662%   3500|5380:0.6505576208178439%   4000|5380:0.7434944237918215%   4500|5380:0.8364312267657993%   5000|5380:0.929368029739777%   "
     ]
    }
   ],
   "source": [
    "import pandas as pd\n",
    "from ngram_representation import missing_strat_random\n",
    "from ngram_representation import ngram_repr_bow_mean\n",
    "from ngram_representation import ngram_repr_bow_max\n",
    "from ngram_representation import ngram_repr_bow_min\n",
    "from ngram_representation import ngram_repr_wiki_weighted_bow\n",
    "\n",
    "\n",
    "# Get the basic seeds for complex and non_complex words\n",
    "# Group targets into complex and non-complex and flatten MWE\n",
    "targets_train = [(ds.name, build_weighted_vocabulary(ds.train)) for ds in datasets]\n",
    "seeds_complex = [(name, [word for word, score in vocab.items() if score == 1]) for name, vocab in targets_train]\n",
    "seeds_non_complex = [(name, [word for word, score in vocab.items() if score == 0]) for name, vocab in targets_train]\n",
    "\n",
    "lexicons = []\n",
    "# Parameters for lexicon construction\n",
    "epochs=1\n",
    "thresh_l=-0.5\n",
    "thresh_r=0.5\n",
    "agg_embed=False\n",
    "embedding_sim = ngram_embedding_similarity\n",
    "ngram_repr = ngram_repr_bow_max\n",
    "missing_strat = missing_strat_random\n",
    "model = [model.model for model in models]\n",
    "data = [datasets[0]]\n",
    "\n",
    "for ds in data:\n",
    "    t_complex = [seeds for name, seeds in seeds_complex if name == ds.name][0]\n",
    "    t_non_complex = [seeds for name, seeds in seeds_non_complex if name == ds.name][0]\n",
    "    t_test = [d.test.target.tolist() for d in datasets \n",
    "              if d.name == ds.name][0]\n",
    "    t_test = [mwe.strip().lower() for mwe in t_test]\n",
    "    vocabulary = []\n",
    "    vocabulary.extend(t_complex)\n",
    "    vocabulary.extend(t_non_complex)\n",
    "    vocabulary.extend(t_test)\n",
    "    print('and' in vocabulary)\n",
    "    print('-----------------------------------------')\n",
    "    print('-----------------------------------------')\n",
    "    print('Dataset :{}'.format(ds.name))\n",
    "    print('---------Training Targets----------------')\n",
    "    print('Targets complex : {}'.format(len(t_complex)))\n",
    "    print('Target non-complex : {}'.format(len(t_non_complex)))\n",
    "    print('---------Testing Seeds----------------')\n",
    "    print('Target test : {}'.format(len(t_test)))\n",
    "    lexicon = bootstrap_lexicon_average_no_ref(model, vocabulary, t_non_complex, t_complex, \\\n",
    "                  embedding_sim=embedding_sim, \\\n",
    "                  missing_strat=missing_strat, \\\n",
    "                  ngram_repr=ngram_repr, agg_embed=agg_embed, epochs=epochs, \\\n",
    "                  thresh_l=thresh_l, thresh_r=thresh_r)\n",
    "    lexicons.append(Lexicon(ds.name, epochs, thresh_l, thresh_r, agg_embed, lexicon))"
   ]
  },
  {
   "cell_type": "code",
   "execution_count": 324,
   "metadata": {},
   "outputs": [
    {
     "name": "stderr",
     "output_type": "stream",
     "text": [
      "C:\\Users\\Studio\\Anaconda3\\lib\\site-packages\\scipy\\stats\\stats.py:1626: FutureWarning: Using a non-tuple sequence for multidimensional indexing is deprecated; use `arr[tuple(seq)]` instead of `arr[seq]`. In the future this will be interpreted as an array index, `arr[np.array(seq)]`, which will result either in an error or a different result.\n",
      "  return np.add.reduce(sorted[indexer] * weights, axis=axis) / sumval\n"
     ]
    },
    {
     "data": {
      "image/png": "[encoded data removed]",
      "text/plain": [
       "<Figure size 432x288 with 1 Axes>"
      ]
     },
     "metadata": {},
     "output_type": "display_data"
    }
   ],
   "source": [
    "import seaborn as sns, numpy as np\n",
    "import matplotlib.pyplot as plt\n",
    "sns.set(style=\"darkgrid\")\n",
    "np.random.seed(0)\n",
    "x = np.array([score for word, score in lexicon.items()])\n",
    "ax = sns.distplot(x)\n",
    "plt.show(ax)"
   ]
  },
  {
   "cell_type": "code",
   "execution_count": 325,
   "metadata": {
    "collapsed": true
   },
   "outputs": [],
   "source": [
    "pairs = [construct_pairs(lexicon.lexicon, ds.test)\n",
    "            for lexicon in lexicons \n",
    "            for ds in datasets if lexicon.name == ds.name][0]"
   ]
  },
  {
   "cell_type": "code",
   "execution_count": 326,
   "metadata": {},
   "outputs": [
    {
     "data": {
      "text/plain": [
       "0.7463768115942029"
      ]
     },
     "execution_count": 326,
     "metadata": {},
     "output_type": "execute_result"
    }
   ],
   "source": [
    "import numpy\n",
    "from sklearn.metrics import f1_score\n",
    "\n",
    "y_true = [pair[1] for pair in pairs]\n",
    "prediction = [pair[2] for pair in pairs]\n",
    "numpy.corrcoef(y_true, prediction)[0, 1]\n",
    "f1_score(y_true, list(map(lambda val: 1 if val>-0.7 else 0, prediction)))"
   ]
  },
  {
   "cell_type": "markdown",
   "metadata": {},
   "source": [
    "### (4.5) MWE with particular Model"
   ]
  },
  {
   "cell_type": "code",
   "execution_count": 335,
   "metadata": {},
   "outputs": [
    {
     "name": "stdout",
     "output_type": "stream",
     "text": [
      "False\n",
      "-----------------------------------------\n",
      "-----------------------------------------\n",
      "Dataset :Wikipedia\n",
      "---------Training Targets----------------\n",
      "Targets complex : 2019\n",
      "Target non-complex : 1558\n",
      "---------Testing Seeds----------------\n",
      "Target test : 694\n",
      "Missing vocab in models : 206.0 / 4.823226410676656%\n",
      "Epoch 1 : Se_l_size = 1558, Se_r_size = 2019\n",
      "0|5380:0.0%   500|5380:0.09293680297397769%   1000|5380:0.18587360594795538%   1500|5380:0.2788104089219331%   2000|5380:0.37174721189591076%   2500|5380:0.4646840148698885%   3000|5380:0.5576208178438662%   3500|5380:0.6505576208178439%   4000|5380:0.7434944237918215%   4500|5380:0.8364312267657993%   5000|5380:0.929368029739777%   "
     ]
    }
   ],
   "source": [
    "import pandas as pd\n",
    "from ngram_representation import missing_strat_random\n",
    "from ngram_representation import ngram_repr_bow_mean\n",
    "from ngram_representation import ngram_repr_bow_max\n",
    "from ngram_representation import ngram_repr_bow_min\n",
    "from ngram_representation import ngram_repr_wiki_weighted_bow\n",
    "\n",
    "\n",
    "# Get the basic seeds for complex and non_complex words\n",
    "# Group targets into complex and non-complex and flatten MWE\n",
    "targets_train = [(ds.name, build_weighted_vocabulary(ds.train)) for ds in datasets]\n",
    "seeds_complex = [(name, [word for word, score in vocab.items() if score == 1]) for name, vocab in targets_train]\n",
    "seeds_non_complex = [(name, [word for word, score in vocab.items() if score == 0]) for name, vocab in targets_train]\n",
    "\n",
    "lexicons = []\n",
    "# Parameters for lexicon construction\n",
    "epochs=1\n",
    "thresh_l=-0.5\n",
    "thresh_r=0.5\n",
    "agg_embed=False\n",
    "embedding_sim = ngram_embedding_similarity\n",
    "ngram_repr = ngram_repr_bow_max\n",
    "missing_strat = missing_strat_random\n",
    "model = [models[3].model]\n",
    "data = [datasets[0]]\n",
    "\n",
    "for ds in data:\n",
    "    t_complex = [seeds for name, seeds in seeds_complex if name == ds.name][0]\n",
    "    t_non_complex = [seeds for name, seeds in seeds_non_complex if name == ds.name][0]\n",
    "    t_test = [d.test.target.tolist() for d in datasets \n",
    "              if d.name == ds.name][0]\n",
    "    t_test = [mwe.strip().lower() for mwe in t_test]\n",
    "    vocabulary = []\n",
    "    vocabulary.extend(t_complex)\n",
    "    vocabulary.extend(t_non_complex)\n",
    "    vocabulary.extend(t_test)\n",
    "    print('and' in vocabulary)\n",
    "    print('-----------------------------------------')\n",
    "    print('-----------------------------------------')\n",
    "    print('Dataset :{}'.format(ds.name))\n",
    "    print('---------Training Targets----------------')\n",
    "    print('Targets complex : {}'.format(len(t_complex)))\n",
    "    print('Target non-complex : {}'.format(len(t_non_complex)))\n",
    "    print('---------Testing Seeds----------------')\n",
    "    print('Target test : {}'.format(len(t_test)))\n",
    "    lexicon = bootstrap_lexicon_average_no_ref(model, vocabulary, t_non_complex, t_complex, \\\n",
    "                  embedding_sim=embedding_sim, \\\n",
    "                  missing_strat=missing_strat, \\\n",
    "                  ngram_repr=ngram_repr, agg_embed=agg_embed, epochs=epochs, \\\n",
    "                  thresh_l=thresh_l, thresh_r=thresh_r)\n",
    "    lexicons.append(Lexicon(ds.name, epochs, thresh_l, thresh_r, agg_embed, lexicon))"
   ]
  },
  {
   "cell_type": "code",
   "execution_count": 336,
   "metadata": {},
   "outputs": [
    {
     "name": "stderr",
     "output_type": "stream",
     "text": [
      "C:\\Users\\Studio\\Anaconda3\\lib\\site-packages\\scipy\\stats\\stats.py:1626: FutureWarning: Using a non-tuple sequence for multidimensional indexing is deprecated; use `arr[tuple(seq)]` instead of `arr[seq]`. In the future this will be interpreted as an array index, `arr[np.array(seq)]`, which will result either in an error or a different result.\n",
      "  return np.add.reduce(sorted[indexer] * weights, axis=axis) / sumval\n"
     ]
    },
    {
     "data": {
      "image/png": "[encoded data removed]",
      "text/plain": [
       "<Figure size 432x288 with 1 Axes>"
      ]
     },
     "metadata": {},
     "output_type": "display_data"
    }
   ],
   "source": [
    "import seaborn as sns, numpy as np\n",
    "import matplotlib.pyplot as plt\n",
    "sns.set(style=\"darkgrid\")\n",
    "np.random.seed(0)\n",
    "x = np.array([score for word, score in lexicon.items()])\n",
    "ax = sns.distplot(x)\n",
    "plt.show(ax)"
   ]
  },
  {
   "cell_type": "code",
   "execution_count": 337,
   "metadata": {
    "collapsed": true
   },
   "outputs": [],
   "source": [
    "pairs = [construct_pairs(lexicon.lexicon, ds.test)\n",
    "            for lexicon in lexicons \n",
    "            for ds in datasets if lexicon.name == ds.name][0]"
   ]
  },
  {
   "cell_type": "code",
   "execution_count": 338,
   "metadata": {},
   "outputs": [
    {
     "data": {
      "text/plain": [
       "0.7463768115942029"
      ]
     },
     "execution_count": 338,
     "metadata": {},
     "output_type": "execute_result"
    }
   ],
   "source": [
    "import numpy\n",
    "from sklearn.metrics import f1_score\n",
    "\n",
    "y_true = [pair[1] for pair in pairs]\n",
    "prediction = [pair[2] for pair in pairs]\n",
    "numpy.corrcoef(y_true, prediction)[0, 1]\n",
    "f1_score(y_true, list(map(lambda val: 1 if val>-1 else 0, prediction)))"
   ]
  }
 ],
 "metadata": {
  "kernelspec": {
   "display_name": "Python 3",
   "language": "python",
   "name": "python3"
  },
  "language_info": {
   "codemirror_mode": {
    "name": "ipython",
    "version": 3
   },
   "file_extension": ".py",
   "mimetype": "text/x-python",
   "name": "python",
   "nbconvert_exporter": "python",
   "pygments_lexer": "ipython3",
   "version": "3.6.6"
  }
 },
 "nbformat": 4,
 "nbformat_minor": 2
}
