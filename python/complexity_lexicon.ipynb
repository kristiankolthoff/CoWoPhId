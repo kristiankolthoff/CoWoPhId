{
 "cells": [
  {
   "cell_type": "markdown",
   "metadata": {},
   "source": [
    "# Complexity Lexicon Construction"
   ]
  },
  {
   "cell_type": "markdown",
   "metadata": {},
   "source": [
    "## (1.0) Load Datasets"
   ]
  },
  {
   "cell_type": "code",
   "execution_count": 1,
   "metadata": {},
   "outputs": [],
   "source": [
    "import pandas as pd\n",
    "import numpy as np\n",
    "import matplotlib.pyplot as plt\n",
    "from nltk.corpus import wordnet as wn\n",
    "from nltk.corpus import sentiwordnet as swn\n",
    "from nltk.wsd import lesk\n",
    "import nltk\n",
    "\n",
    "pd.set_option('display.max_columns', 500)\n",
    "pd.set_option('display.max_colwidth', 200)\n",
    "pd.set_option('display.max_rows', 500)"
   ]
  },
  {
   "cell_type": "code",
   "execution_count": 2,
   "metadata": {},
   "outputs": [],
   "source": [
    "from collections import namedtuple\n",
    "from collections import defaultdict\n",
    "\n",
    "Dataset = namedtuple('Dataset', 'name, train, test')\n",
    "ModelEmbed = namedtuple('ModelEmbed', 'type, name, dimension, corpus, model')\n",
    "Result = namedtuple('Result', 'dataset, fc, measure')\n",
    "Lexicon = namedtuple('Lexicon', 'name, epochs, thresh_l, thresh_r, agg_embed, lexicon')"
   ]
  },
  {
   "cell_type": "code",
   "execution_count": 3,
   "metadata": {},
   "outputs": [],
   "source": [
    "from nltk import word_tokenize\n",
    "\n",
    "columns = ['id', 'sentence', \"start\", \"end\", \"target\", \n",
    "           \"nat\", \"non_nat\", \"nat_marked\", \"non_nat_marked\", \"binary\", \"prob\"]\n",
    "\n",
    "def load_df(path, d_type, header):\n",
    "    df = pd.read_csv(path, header=header, sep = \"\\t\")\n",
    "    if len(df.columns) == len(columns):\n",
    "        df.columns = columns\n",
    "    if d_type == 'word':\n",
    "        df = df.loc[df.target.map(lambda target : len(word_tokenize(target)))<=1,]\n",
    "    elif d_type == 'phrase':\n",
    "        df = df.loc[df.target.map(lambda target : len(word_tokenize(target)))>1,]\n",
    "    return df\n",
    "\n",
    "def load_datasets(names, train_name, test_name, type_train = None, type_test = None, header=None):\n",
    "    MAIN_PATH_DATASET = \"../cwishareddataset/traindevset/english/\"\n",
    "    datasets = [Dataset(name, load_df(MAIN_PATH_DATASET + name + '_' + train_name + '.tsv', type_train, header),\n",
    "                              load_df(MAIN_PATH_DATASET + name + '_' + test_name + '.tsv', type_test, header))\n",
    "                              for name in names]\n",
    "    return datasets"
   ]
  },
  {
   "cell_type": "markdown",
   "metadata": {},
   "source": [
    "## (1.1) Load Embedding Models"
   ]
  },
  {
   "cell_type": "markdown",
   "metadata": {},
   "source": [
    "### (1.1.1) Load GloVe embeddings"
   ]
  },
  {
   "cell_type": "code",
   "execution_count": 4,
   "metadata": {},
   "outputs": [
    {
     "name": "stderr",
     "output_type": "stream",
     "text": [
      "C:\\Users\\Studio\\Anaconda3\\lib\\site-packages\\gensim-3.5.0-py3.6-win-amd64.egg\\gensim\\utils.py:1209: UserWarning: detected Windows; aliasing chunkize to chunkize_serial\n",
      "  warnings.warn(\"detected Windows; aliasing chunkize to chunkize_serial\")\n"
     ]
    }
   ],
   "source": [
    "from gensim.test.utils import datapath, get_tmpfile\n",
    "from gensim.models import KeyedVectors\n",
    "from gensim.scripts.glove2word2vec import glove2word2vec\n",
    "\n",
    "MAIN_PATH = 'D:/workspace_python/CoWoReId/python/resources/word-embeddings/'\n",
    "\n",
    "def get_embedding_models_glove():\n",
    "    glove_defs = [#ModelEmbed('glove', 'glove.42B.300d.txt', 300, 'cc42B', None),  \n",
    "                  #ModelEmbed('glove', 'glove.840B.300d.txt', 300, 'cc840B', None), \n",
    "                  ModelEmbed('glove', 'glove.6B.50d.txt', 50, 'wikipedia+gigaword5', None),\n",
    "                  ModelEmbed('glove', 'glove.6B.100d.txt',100, 'wikipedia+gigaword5', None),\n",
    "                  ModelEmbed('glove', 'glove.6B.200d.txt', 200, 'wikipedia+gigaword5', None)]\n",
    "                  #ModelEmbed('glove', 'glove.6B.300d.txt', 300, 'wikipedia+gigaword5', None),\n",
    "                  #ModelEmbed('glove', 'glove.twitter.27B.25d.txt', 25, 'twitter', None)]\n",
    "                 #ModelEmbed('glove', 'glove.twitter.27B.50d.txt', 50, 'twitter', None),\n",
    "                  #ModelEmbed('glove', 'glove.twitter.27B.100d.txt', 100, 'twitter', None),\n",
    "                  #ModelEmbed('glove', 'glove.twitter.27B.200d.txt', 200, 'twitter', None)]\n",
    "\n",
    "    models = []\n",
    "    for model in glove_defs:\n",
    "        glove_file = datapath(MAIN_PATH + model.name)\n",
    "        tmp_file = get_tmpfile(model.name + '-temp')\n",
    "        glove2word2vec(glove_file, tmp_file)\n",
    "        vecs = KeyedVectors.load_word2vec_format(tmp_file)\n",
    "        models.append(ModelEmbed(model.type, model.name, model.dimension, model.corpus, vecs))\n",
    "        print('load model : {}'.format(model.name))\n",
    "    return models"
   ]
  },
  {
   "cell_type": "markdown",
   "metadata": {},
   "source": [
    "### (1.1.2) Load word2vec embeddings"
   ]
  },
  {
   "cell_type": "code",
   "execution_count": 5,
   "metadata": {},
   "outputs": [],
   "source": [
    "from gensim.test.utils import datapath\n",
    "from gensim.models import KeyedVectors\n",
    "\n",
    "MAIN_PATH = 'D:/workspace_python/CoWoReId/python/resources/word-embeddings/'\n",
    "\n",
    "def get_embedding_models_word2vec():\n",
    "    return ModelEmbed('word2vec', 'GoogleNews-vectors-negative300.bin' , 300, 'GoogleNews', \\\n",
    "            KeyedVectors.load_word2vec_format(datapath(MAIN_PATH + 'GoogleNews-vectors-negative300.bin'), binary=True))"
   ]
  },
  {
   "cell_type": "markdown",
   "metadata": {},
   "source": [
    "### (1.1.3) Load FastText embeddings"
   ]
  },
  {
   "cell_type": "code",
   "execution_count": 6,
   "metadata": {},
   "outputs": [],
   "source": [
    "from gensim.test.utils import datapath\n",
    "from gensim.models import KeyedVectors\n",
    "from gensim.models.wrappers import FastText\n",
    "\n",
    "MAIN_PATH = 'D:/workspace_python/CoWoReId/python/resources/word-embeddings/'\n",
    "\n",
    "def get_embedding_models_fasttext():\n",
    "    return ModelEmbed('FastText', 'wiki.en.vec', 300, 'Wikipedia', \\\n",
    "                 KeyedVectors.load_word2vec_format(MAIN_PATH + 'wiki.en.vec'))"
   ]
  },
  {
   "cell_type": "markdown",
   "metadata": {},
   "source": [
    "## (2) Boostrapped Lexicon Construction"
   ]
  },
  {
   "cell_type": "markdown",
   "metadata": {},
   "source": [
    "### (2.1) Baseline"
   ]
  },
  {
   "cell_type": "code",
   "execution_count": 7,
   "metadata": {},
   "outputs": [],
   "source": [
    "from collections import Counter\n",
    "from sklearn.metrics import precision_recall_fscore_support\n",
    "\n",
    "'''\n",
    "Extract all words that are exactly identified as either complex\n",
    "or non-complex and use this as the vocabulary. Words that occur\n",
    "as both complex and non-complex are neglected for the vocabulary\n",
    "'''\n",
    "def build_clean_vocabulary(train):\n",
    "    targets_complex = set([mwe.strip().lower() for mwe in \n",
    "                train.loc[train['binary'] == 1,]['target'].tolist()])\n",
    "    targets_non_complex = set([mwe.strip().lower() for mwe in\n",
    "                train.loc[train['binary'] == 0,]['target'].tolist()])\n",
    "    targets_complex_cleaned = list(targets_complex.difference(targets_non_complex))\n",
    "    targets_non_complex_cleaned = list(targets_non_complex.difference(targets_complex))\n",
    "    vocabulary = {}\n",
    "    for target in targets_complex_cleaned:\n",
    "        vocabulary[target] = 1\n",
    "    for target in targets_non_complex_cleaned:\n",
    "        vocabulary[target] = 0\n",
    "    return vocabulary\n",
    "\n",
    "'''\n",
    "Extract all words that are identified as either complex\n",
    "or non-complex and use this as the vocabulary. Words that occur\n",
    "as both complex and non-complex are weighted based on the number\n",
    "of occurrences. If the word has been tagged more times as non-complex\n",
    "we save it as non-complex otherwise it is complex\n",
    "'''\n",
    "def build_weighted_vocabulary(train):\n",
    "    targets_complex = [mwe.strip().lower() for mwe in \n",
    "                train.loc[train['binary'] == 1,]['target'].tolist()]\n",
    "    targets_non_complex = [mwe.strip().lower() for mwe in\n",
    "                train.loc[train['binary'] == 0,]['target'].tolist()]\n",
    "    counts_complex = Counter(targets_complex)\n",
    "    counts_non_complex = Counter(targets_non_complex)\n",
    "    vocabulary = {}\n",
    "    for word, count in counts_complex.items():\n",
    "        count_nc = counts_non_complex.get(word, None)\n",
    "        if count_nc and count_nc > count:\n",
    "            vocabulary[word] = 0\n",
    "        else:\n",
    "            vocabulary[word] = 1\n",
    "    for word, count in counts_non_complex.items():\n",
    "        if word not in vocabulary:\n",
    "            vocabulary[word] = 0\n",
    "    return vocabulary\n",
    "\n",
    "def build_confidence_vocabulary_1(train, confidence):\n",
    "    targets_complex = [mwe.strip().lower() for mwe in \n",
    "                train.loc[train['prob'] >= confidence,]['target'].tolist()]\n",
    "    targets_non_complex = [mwe.strip().lower() for mwe in \n",
    "                train.loc[train['prob'] < confidence,]['target'].tolist()]\n",
    "    counts_complex = Counter(targets_complex)\n",
    "    counts_non_complex = Counter(targets_non_complex)\n",
    "    vocabulary = {}\n",
    "    for word, count in counts_complex.items():\n",
    "        count_nc = counts_non_complex.get(word, None)\n",
    "        if count_nc and count_nc > count:\n",
    "            vocabulary[word] = 0\n",
    "        else:\n",
    "            vocabulary[word] = 1\n",
    "    for word, count in counts_non_complex.items():\n",
    "        if word not in vocabulary:\n",
    "            vocabulary[word] = 0\n",
    "    return vocabulary\n",
    "\n",
    "def build_confidence_vocabulary_2(train, confidence):\n",
    "    targets_complex = [mwe.strip().lower() for mwe in \n",
    "                train.loc[train['prob'] >= confidence,]['target'].tolist()]\n",
    "    targets_non_complex = [mwe.strip().lower() for mwe in \n",
    "                train.loc[train['binary'] == 0,]['target'].tolist()]\n",
    "    counts_complex = Counter(targets_complex)\n",
    "    counts_non_complex = Counter(targets_non_complex)\n",
    "    vocabulary = {}\n",
    "    for word, count in counts_complex.items():\n",
    "        count_nc = counts_non_complex.get(word, None)\n",
    "        if count_nc and count_nc > count:\n",
    "            vocabulary[word] = 0\n",
    "        else:\n",
    "            vocabulary[word] = 1\n",
    "    for word, count in counts_non_complex.items():\n",
    "        if word not in vocabulary:\n",
    "            vocabulary[word] = 0\n",
    "    return vocabulary\n",
    "\n",
    "def build_confidence_vocabulary_mean(train):\n",
    "    train['target'] = train.target.apply(lambda target : target.strip().lower())\n",
    "    agg = train[['target', 'prob']].groupby('target',\n",
    "                        as_index=False).mean().values\n",
    "    tuples = [tuple(val) for val in agg]\n",
    "    vocabulary = {}\n",
    "    for target, confidence in tuples:\n",
    "        vocabulary[target] = confidence\n",
    "    return vocabulary\n",
    "\n",
    "def build_confidence_vocabulary_max(train):\n",
    "    train['target'] = train.target.apply(lambda target : target.strip().lower())\n",
    "    agg = train[['target', 'prob']].groupby('target',\n",
    "                        as_index=False).max().values\n",
    "    tuples = [tuple(val) for val in agg]\n",
    "    vocabulary = {}\n",
    "    for target, confidence in tuples:\n",
    "        vocabulary[target] = confidence\n",
    "    return vocabulary\n",
    "    \n",
    "\n",
    "def evaluate_label_target_predictions(test, vocabulary):\n",
    "    dict_test = list(zip(test.target, test.binary))\n",
    "    data = [(binary, (vocabulary[target.strip().lower()] if target.strip().lower() in vocabulary else 1)) \n",
    "            for target, binary in dict_test]\n",
    "    y_true = [vals[0] for vals in data]\n",
    "    prediction = [vals[1] for vals in data]\n",
    "    return precision_recall_fscore_support(y_true, prediction, average='macro')"
   ]
  },
  {
   "cell_type": "code",
   "execution_count": 8,
   "metadata": {},
   "outputs": [],
   "source": [
    "def baseline_vocab_clean(datasets):\n",
    "    evaluation_clean = [Result(ds.name, 'vocab_clean', \n",
    "                    evaluate_label_target_predictions(ds.test, \n",
    "                    build_clean_vocabulary(ds.train))) for ds in datasets]\n",
    "    results_clean = [{'dataset' : result.dataset, \n",
    "                        'zc' : result.fc, 'prec' : result.measure[0],\n",
    "                  'rec' : result.measure[1], 'f1' : result.measure[2]} \n",
    "                       for result in evaluation_clean]\n",
    "    return pd.DataFrame.from_records(results_clean)"
   ]
  },
  {
   "cell_type": "code",
   "execution_count": 9,
   "metadata": {},
   "outputs": [],
   "source": [
    "def baseline_vocab_weighted(datasets):\n",
    "    evaluation_weighted = [Result(ds.name, 'vocab_weighted', \n",
    "                        evaluate_label_target_predictions(ds.test, \n",
    "                    build_weighted_vocabulary(ds.train))) for ds in datasets]\n",
    "    results_weighted = [{'dataset' : result.dataset, \n",
    "                        'zc' : result.fc, 'prec' : result.measure[0],\n",
    "                  'rec' : result.measure[1], 'f1' : result.measure[2]} \n",
    "                       for result in evaluation_weighted]\n",
    "    return pd.DataFrame.from_records(results_weighted)"
   ]
  },
  {
   "cell_type": "code",
   "execution_count": 10,
   "metadata": {},
   "outputs": [],
   "source": [
    "def baseline_vocab_conf(datasets, confidence = 0.5):\n",
    "    evaluation_conf = [Result(ds.name, 'vocab_conf',\n",
    "                            evaluate_label_target_predictions(ds.test, \n",
    "                        build_confidence_vocabulary_2(ds.train, confidence))) for ds in datasets]\n",
    "    results_conf = [{'dataset' : result.dataset, \n",
    "                        'zc' : result.fc, 'prec' : result.measure[0],\n",
    "                  'rec' : result.measure[1], 'f1' : result.measure[2]} \n",
    "                       for result in evaluation_conf]\n",
    "    return pd.DataFrame.from_records(results_conf)"
   ]
  },
  {
   "cell_type": "markdown",
   "metadata": {},
   "source": [
    "### (2.2) Boostrapping Lexicon"
   ]
  },
  {
   "cell_type": "code",
   "execution_count": 37,
   "metadata": {},
   "outputs": [],
   "source": [
    "def ngram_embedding_similarity(model, word_l, word_r, missing_strat, ngram_repr):\n",
    "    vecs_l = [model[word.strip().lower()] if word.strip().lower() in model.vocab \n",
    "                  else missing_strat(word, model.vector_size) \n",
    "                  for word in word_l.split()]   \n",
    "    vecs_r = [model[word.strip().lower()] if word.strip().lower() in model.vocab \\\n",
    "                else missing_strat(word, model.vector_size)\n",
    "                for word in word_r.split()]\n",
    "    vec_l = ngram_repr(np.array(vecs_l), [word.strip().lower()\n",
    "                  for word in word_l.split()])\n",
    "    vec_r = ngram_repr(np.array(vecs_r), [word.strip().lower()\n",
    "                  for word in word_r.split()])\n",
    "    return np.dot(vec_l,vec_r) / (np.linalg.norm(vec_l) \\\n",
    "            * np.linalg.norm(vec_r))"
   ]
  },
  {
   "cell_type": "code",
   "execution_count": 12,
   "metadata": {},
   "outputs": [],
   "source": [
    "def bootstrap_lexicon(model, vocab, seeds_l, seeds_r, embedding_sim, \\\n",
    "                      missing_strat, ref_term, ngram_repr, agg_embed=True, epochs=10, \\\n",
    "                      bound_l=-1, bound_r=1, thresh_l=-0.5,thresh_r=0.5):\n",
    "    if not all(seed in vocab for seed in seeds_l):\n",
    "        raise ValueError('Not all left seeds contained in vocabulary')\n",
    "    if not all(seed in vocab for seed in seeds_r):\n",
    "        raise ValueError('Not all right seeds contained in vocabulary')\n",
    "    num_missing = np.sum([np.sum([1 for word in mwe.split()\n",
    "                        if word.strip().lower() not in model.vocab]) for mwe in vocab])\n",
    "    print('Missing vocab in model : {} / {}%'.format(num_missing, \\\n",
    "          (num_missing/len(vocab)*100)))\n",
    "    if agg_embed:\n",
    "        internal_vocab = vocab\n",
    "    else:\n",
    "        internal_vocab = [word for mwe in vocab for word in mwe.split()]\n",
    "    # 1. Initialize the left and right seeds\n",
    "    se_l = {seed : bound_l for seed in seeds_l}\n",
    "    se_r = {seed : bound_r for seed in seeds_r}\n",
    "    lexicon = se_l.copy()\n",
    "    lexicon.update(se_r)\n",
    "    for curr_epoch in range(1,epochs+1):\n",
    "        # 2. Compute left and right weights\n",
    "        print(se_l)\n",
    "        sum_l = np.abs(np.sum([score for word, score in se_l.items()]))\n",
    "        sum_r = np.abs(np.sum([score for word, score in se_r.items()]))\n",
    "        weight_l = sum_r / (sum_r + sum_l)\n",
    "        weight_r = sum_l / (sum_r + sum_l)\n",
    "        print(sum_l)\n",
    "        print(sum_r)\n",
    "        print('Epoch {} : Se_l_size = {}, Se_r_size = {}, weight_l = {}, weight_r = {},'.format(\\\n",
    "                      curr_epoch, len(se_l), len(se_r), weight_l, weight_r))\n",
    "        for index, curr_word in enumerate(internal_vocab):\n",
    "            if((index % 500) == 0):\n",
    "                print('{}|{}:{}%   '.format(index, len(internal_vocab), \n",
    "                                    (index/len(internal_vocab))), end='')\n",
    "            if curr_word in se_l or curr_word in se_r:\n",
    "                continue\n",
    "            # Compute the weighted left and right scores and sum them\n",
    "            score_l = [(weight_l * score * \\\n",
    "                        embedding_sim(model, curr_word, seed, missing_strat, ngram_repr)) \\\n",
    "                        for seed, score in se_l.items()]\n",
    "            score_r = [(weight_r * score * \\\n",
    "                        embedding_sim(model, curr_word, seed, missing_strat, ngram_repr)) \\\n",
    "                        for seed, score in se_r.items()]\n",
    "            print('Word : {}'.format(curr_word))\n",
    "            print(score_r)\n",
    "            print(score_l)\n",
    "            score = np.sum(score_l) + np.sum(score_r)\n",
    "            print('final score : {}'.format(score))\n",
    "            lexicon[curr_word] = score\n",
    "            print('{} : {}'.format(curr_word, score))\n",
    "            # Add word to the seed set if the score is low or high enough\n",
    "            if score <= thresh_l: se_l[curr_word] = score\n",
    "            if score >= thresh_r: se_r[curr_word] = score\n",
    "        #print(lexicon)\n",
    "    # 3. Compute final scores and normalize them\n",
    "    sim_ref = lexicon.get(ref_term)\n",
    "    #print('SIM_REF:{}'.format(sim_ref))\n",
    "    if not sim_ref:\n",
    "        return ValueError('Reference term {} not found in lexicon'.format(ref_term))\n",
    "    coll_l = {seed : (score - sim_ref) for seed, score in lexicon.items() \\\n",
    "                if (score - sim_ref) < 0}\n",
    "    coll_r = {seed : (score - sim_ref) for seed, score in lexicon.items() \\\n",
    "                if (score - sim_ref) > 0}\n",
    "    max_l = np.max(np.abs([score for _, score in coll_l.items()]))\n",
    "    max_r = np.max(np.abs([score for _, score in coll_r.items()]))\n",
    "    #print(coll_l)\n",
    "    #print(max_l)\n",
    "    lexicon[ref_term] = lexicon[ref_term] - sim_ref\n",
    "    for word, score in coll_l.items():\n",
    "        lexicon[word] = score / max_l\n",
    "    for word, score in coll_r.items():\n",
    "        lexicon[word] = score / max_r\n",
    "    # 4. Aggregate MWE complexity scores\n",
    "    if not agg_embed:\n",
    "        for mwe in vocab:\n",
    "            lexicon[mwe] = np.mean([lexicon[word] for word in mwe.split()])\n",
    "    return lexicon\n",
    "\n",
    "\n",
    "\n",
    "def bootstrap_lexicon_average(models, vocab, seeds_l, seeds_r, embedding_sim, \\\n",
    "                      missing_strat, ref_term, ngram_repr, agg_embed=True, epochs=10, \\\n",
    "                      bound_l=-1, bound_r=1, thresh_l=-0.5,thresh_r=0.5):\n",
    "    if not all(seed in vocab for seed in seeds_l):\n",
    "        raise ValueError('Not all left seeds contained in vocabulary')\n",
    "    if not all(seed in vocab for seed in seeds_r):\n",
    "        raise ValueError('Not all right seeds contained in vocabulary')\n",
    "    num_missing = np.sum([np.sum([1 for word in mwe.split()\n",
    "                        if word.strip().lower() not in model[0].vocab]) for mwe in vocab])\n",
    "    print('Missing vocab in models : {} / {}%'.format(num_missing, \\\n",
    "          (num_missing/len(vocab)*100)))\n",
    "    if agg_embed:\n",
    "        internal_vocab = vocab\n",
    "    else:\n",
    "        internal_vocab = [word for mwe in vocab for word in mwe.split()]\n",
    "    # 1. Initialize the left and right seeds\n",
    "    se_l = {seed : bound_l for seed in seeds_l}\n",
    "    se_r = {seed : bound_r for seed in seeds_r}\n",
    "    internal_lexicon = se_l.copy()\n",
    "    internal_lexicon.update(se_r)\n",
    "    for curr_epoch in range(1,epochs+1):\n",
    "        print('Epoch {} : Se_l_size = {}, Se_r_size = {}'.format(\\\n",
    "                      curr_epoch, len(se_l), len(se_r)))\n",
    "        for index, curr_word in enumerate(internal_vocab):\n",
    "            if((index % 500) == 0):\n",
    "                print('{}|{}:{}%   '.format(index, len(internal_vocab), \n",
    "                                    (index/len(internal_vocab))), end='')\n",
    "            if curr_word in se_l or curr_word in se_r:\n",
    "                continue\n",
    "            # Compute the weighted left and right scores and sum them\n",
    "            score_l = [(score * \\\n",
    "                        np.mean([embedding_sim(model, curr_word, seed, missing_strat, ngram_repr) \n",
    "                                for model in models])) \\\n",
    "                        for seed, score in se_l.items()]\n",
    "            score_r = [(score * \\\n",
    "                        np.mean([embedding_sim(model, curr_word, seed, missing_strat, ngram_repr)\n",
    "                                for model in models])) \\\n",
    "                        for seed, score in se_r.items()]\n",
    "            #print('Word : {}'.format(curr_word))\n",
    "            #print(score_r)\n",
    "            #print(score_l)\n",
    "            score = np.mean(score_l) + np.mean(score_r)\n",
    "            #print('final score : {}'.format(score))\n",
    "            internal_lexicon[curr_word] = score\n",
    "            #print('{} : {}'.format(curr_word, score))\n",
    "            # Add word to the seed set if the score is low or high enough\n",
    "            if score <= thresh_l: se_l[curr_word] = score\n",
    "            if score >= thresh_r: se_r[curr_word] = score\n",
    "        #print(lexicon)\n",
    "    # 3. Compute final scores and normalize them\n",
    "    sim_ref = internal_lexicon.get(ref_term)\n",
    "    print('SIM_REF:{}'.format(sim_ref))\n",
    "    if not sim_ref:\n",
    "        return ValueError('Reference term {} not found in lexicon'.format(ref_term))\n",
    "    coll_l = {seed : (score - sim_ref) for seed, score in internal_lexicon.items() \\\n",
    "                if (score - sim_ref) < 0}\n",
    "    coll_r = {seed : (score - sim_ref) for seed, score in internal_lexicon.items() \\\n",
    "                if (score - sim_ref) > 0}\n",
    "    max_l = np.max(np.abs([score for _, score in coll_l.items()]))\n",
    "    max_r = np.max(np.abs([score for _, score in coll_r.items()]))\n",
    "    #print(coll_l)\n",
    "    #print(max_l)\n",
    "    internal_lexicon[ref_term] = internal_lexicon[ref_term] - sim_ref\n",
    "    for word, score in coll_l.items():\n",
    "        internal_lexicon[word] = score / max_l\n",
    "    for word, score in coll_r.items():\n",
    "        internal_lexicon[word] = score / max_r\n",
    "    # 4. Aggregate MWE complexity scores\n",
    "    lexicon = {}\n",
    "    for word in vocab:\n",
    "        tokens = word.split()\n",
    "        if len(tokens) > 1 and not agg_embed:\n",
    "            lexicon[word] = np.mean([internal_lexicon[token] \n",
    "                                     for token in tokens])\n",
    "        else:\n",
    "            lexicon[word] = internal_lexicon[word]\n",
    "    return lexicon\n",
    "\n",
    "def bootstrap_lexicon_average_no_ref(models, vocab, seeds_l, seeds_r, embedding_sim, \\\n",
    "                      missing_strat, ngram_repr, agg_embed=True, epochs=10, \\\n",
    "                      bound_l=-1, bound_r=1, thresh_l=-0.5,thresh_r=0.5):\n",
    "    if not all(seed in vocab for seed in seeds_l):\n",
    "        raise ValueError('Not all left seeds contained in vocabulary')\n",
    "    if not all(seed in vocab for seed in seeds_r):\n",
    "        raise ValueError('Not all right seeds contained in vocabulary')\n",
    "    num_missing = np.sum([np.sum([1 for word in mwe.split()\n",
    "                        if word.strip().lower() not in model[0].vocab]) for mwe in vocab])\n",
    "    print('Missing vocab in models : {} / {}%'.format(num_missing, \\\n",
    "          (num_missing/len(vocab)*100)))\n",
    "    if agg_embed:\n",
    "        internal_vocab = vocab\n",
    "    else:\n",
    "        internal_vocab = [word for mwe in vocab for word in mwe.split()]\n",
    "    # 1. Initialize the left and right seeds\n",
    "    se_l = {seed : bound_l for seed in seeds_l}\n",
    "    se_r = {seed : bound_r for seed in seeds_r}\n",
    "    internal_lexicon = se_l.copy()\n",
    "    internal_lexicon.update(se_r)\n",
    "    for curr_epoch in range(1,epochs+1):\n",
    "        print('Epoch {} : Se_l_size = {}, Se_r_size = {}'.format(\\\n",
    "                      curr_epoch, len(se_l), len(se_r)))\n",
    "        for index, curr_word in enumerate(internal_vocab):\n",
    "            if((index % 500) == 0):\n",
    "                print('{}|{}:{}%   '.format(index, len(internal_vocab), \n",
    "                                    (index/len(internal_vocab))), end='')\n",
    "            if curr_word in se_l or curr_word in se_r:\n",
    "                continue\n",
    "            # Compute the weighted left and right scores and sum them\n",
    "            score_l = [(score * \\\n",
    "                        np.mean([embedding_sim(model, curr_word, seed, missing_strat, ngram_repr) \n",
    "                                for model in models])) \\\n",
    "                        for seed, score in se_l.items()]\n",
    "            score_r = [(score * \\\n",
    "                        np.mean([embedding_sim(model, curr_word, seed, missing_strat, ngram_repr)\n",
    "                                for model in models])) \\\n",
    "                        for seed, score in se_r.items()]\n",
    "            #print('Word : {}'.format(curr_word))\n",
    "            #print(score_r)\n",
    "            #print(score_l)\n",
    "            score = np.mean(score_l) + np.mean(score_r)\n",
    "            #print('final score : {}'.format(score))\n",
    "            internal_lexicon[curr_word] = score\n",
    "            #print('{} : {}'.format(curr_word, score))\n",
    "            # Add word to the seed set if the score is low or high enough\n",
    "            if score <= thresh_l: se_l[curr_word] = score\n",
    "            if score >= thresh_r: se_r[curr_word] = score\n",
    "        #print(lexicon)\n",
    "    # 4. Aggregate MWE complexity scores\n",
    "    lexicon = {}\n",
    "    for word in vocab:\n",
    "        tokens = word.split()\n",
    "        if len(tokens) > 1 and not agg_embed:\n",
    "            lexicon[word] = np.mean([internal_lexicon[token] \n",
    "                                     for token in tokens])\n",
    "        else:\n",
    "            lexicon[word] = internal_lexicon[word]\n",
    "    return lexicon"
   ]
  },
  {
   "cell_type": "code",
   "execution_count": 14,
   "metadata": {},
   "outputs": [],
   "source": [
    "import pylab as pl\n",
    "\n",
    "def search_best_threshold(y_true, prediction, border_l=-0.1, border_r=0.1, step_size=0.00001):\n",
    "    best_f1 = -1\n",
    "    best_scores = None\n",
    "    best_threshold = 0\n",
    "    print('Testing {} steps'.format(len(pl.frange(border_l, border_r, step_size))))\n",
    "    for step in pl.frange(border_l, border_r, step_size):\n",
    "        scores = precision_recall_fscore_support(y_true, list(map(lambda val: \\\n",
    "                                    1 if val>-step else 0, prediction)), average='macro')\n",
    "        if scores[0] > best_f1: \n",
    "            best_f1 = scores[0]\n",
    "            best_scores = scores\n",
    "            best_threshold = step\n",
    "    return best_scores, best_threshold"
   ]
  },
  {
   "cell_type": "code",
   "execution_count": 15,
   "metadata": {},
   "outputs": [],
   "source": [
    "import numpy\n",
    "from sklearn.metrics import precision_recall_fscore_support\n",
    "\n",
    "def compute_y_test_and_predictions(lexicon, dataset):\n",
    "    pairs = construct_pairs(lexicon.lexicon, dataset.test)\n",
    "    y_true = [pair[1] for pair in pairs]\n",
    "    prediction = [pair[2] for pair in pairs]\n",
    "    print(len(y_true))\n",
    "    print(len(prediction))\n",
    "    print('Verified Test/Prediction lengths OK : {}'.format((len(y_true)==len(prediction))))\n",
    "    return y_true, prediction"
   ]
  },
  {
   "cell_type": "code",
   "execution_count": 16,
   "metadata": {},
   "outputs": [],
   "source": [
    "def construct_pairs(lexicon, df_test):\n",
    "    dict_test = list(zip(df_test.target, df_test.binary))\n",
    "    return [(target, binary, lexicon[target.strip().lower()]) \n",
    "            for target, binary in dict_test]"
   ]
  },
  {
   "cell_type": "markdown",
   "metadata": {},
   "source": [
    "## (3) Toy-Example Lexicon"
   ]
  },
  {
   "cell_type": "code",
   "execution_count": 13,
   "metadata": {},
   "outputs": [
    {
     "name": "stdout",
     "output_type": "stream",
     "text": [
      "load model : glove.6B.50d.txt\n",
      "load model : glove.6B.100d.txt\n",
      "load model : glove.6B.200d.txt\n"
     ]
    }
   ],
   "source": [
    "models = get_embedding_models_glove()"
   ]
  },
  {
   "cell_type": "markdown",
   "metadata": {},
   "source": [
    "### (3.1) Single Model with reference term and score aggregation"
   ]
  },
  {
   "cell_type": "code",
   "execution_count": 17,
   "metadata": {
    "scrolled": false
   },
   "outputs": [
    {
     "name": "stdout",
     "output_type": "stream",
     "text": [
      "---------Complex Seeds----------------\n",
      "['aboriginal']\n",
      "---------Non-Complex Seeds----------------\n",
      "['bad', 'worse', 'unfortunately', 'really']\n",
      "---------Vocabulary----------------\n",
      "['aboriginal', 'bad', 'worse', 'unfortunately', 'really', 'good', 'inuit', 'and', 'to this end']\n",
      "Missing vocab in models : 0.0 / 0.0%\n",
      "Epoch 1 : Se_l_size = 4, Se_r_size = 1\n",
      "0|11:0.0%   Epoch 2 : Se_l_size = 7, Se_r_size = 2\n",
      "0|11:0.0%   Epoch 3 : Se_l_size = 7, Se_r_size = 2\n",
      "0|11:0.0%   SIM_REF:-0.33638048225707995\n",
      "{'aboriginal': 1.0, 'bad': -1.0, 'worse': -1.0, 'unfortunately': -1.0, 'really': -1.0, 'good': -0.43517536551322916, 'inuit': 0.8350315056510479, 'and': 0.0, 'to this end': -0.266093955672061}\n"
     ]
    }
   ],
   "source": [
    "from ngram_representation import missing_strat_random\n",
    "from ngram_representation import ngram_repr_bow_mean\n",
    "import gensim\n",
    "\n",
    "seeds_complex = ['aboriginal']\n",
    "seeds_non_complex = ['bad', 'worse', 'unfortunately', 'really']\n",
    "\n",
    "# Build the vocabulary\n",
    "vocabulary = []\n",
    "vocabulary.extend(seeds_complex)\n",
    "vocabulary.extend(seeds_non_complex)\n",
    "vocabulary.extend(['good', 'inuit', 'and', 'to this end'])\n",
    "\n",
    "print('---------Complex Seeds----------------')\n",
    "print(seeds_complex)\n",
    "print('---------Non-Complex Seeds----------------')\n",
    "print(seeds_non_complex)\n",
    "print('---------Vocabulary----------------')\n",
    "print(vocabulary)\n",
    "\n",
    "model = [models[0].model]\n",
    "ref_term = 'and'\n",
    "lexicon = bootstrap_lexicon_average(model, vocabulary, seeds_non_complex, seeds_complex, \\\n",
    "                  ngram_embedding_similarity, missing_strat_random, ref_term, \\\n",
    "                  ngram_repr_bow_mean, agg_embed=False, epochs=3, thresh_l=-0.5, thresh_r=0.5)\n",
    "print(lexicon)"
   ]
  },
  {
   "cell_type": "markdown",
   "metadata": {},
   "source": [
    "### (3.2) Single Model and score aggregation"
   ]
  },
  {
   "cell_type": "code",
   "execution_count": 18,
   "metadata": {},
   "outputs": [
    {
     "name": "stdout",
     "output_type": "stream",
     "text": [
      "---------Complex Seeds----------------\n",
      "['aboriginal']\n",
      "---------Non-Complex Seeds----------------\n",
      "['bad', 'worse', 'unfortunately', 'really']\n",
      "---------Vocabulary----------------\n",
      "['aboriginal', 'bad', 'worse', 'unfortunately', 'really', 'good', 'inuit', 'and', 'to this end']\n",
      "Missing vocab in models : 0.0 / 0.0%\n",
      "Epoch 1 : Se_l_size = 4, Se_r_size = 1\n",
      "0|11:0.0%   Epoch 2 : Se_l_size = 7, Se_r_size = 2\n",
      "0|11:0.0%   Epoch 3 : Se_l_size = 7, Se_r_size = 2\n",
      "0|11:0.0%   {'aboriginal': 1, 'bad': -1, 'worse': -1, 'unfortunately': -1, 'really': -1, 'good': -0.625171348452568, 'inuit': 0.7795393239647231, 'and': -0.33638048225707995, 'to this end': -0.512965624794479}\n"
     ]
    }
   ],
   "source": [
    "from ngram_representation import missing_strat_random\n",
    "from ngram_representation import ngram_repr_bow_mean\n",
    "import gensim\n",
    "\n",
    "seeds_complex = ['aboriginal']\n",
    "seeds_non_complex = ['bad', 'worse', 'unfortunately', 'really']\n",
    "\n",
    "# Build the vocabulary\n",
    "vocabulary = []\n",
    "vocabulary.extend(seeds_complex)\n",
    "vocabulary.extend(seeds_non_complex)\n",
    "vocabulary.extend(['good', 'inuit', 'and', 'to this end'])\n",
    "\n",
    "print('---------Complex Seeds----------------')\n",
    "print(seeds_complex)\n",
    "print('---------Non-Complex Seeds----------------')\n",
    "print(seeds_non_complex)\n",
    "print('---------Vocabulary----------------')\n",
    "print(vocabulary)\n",
    "\n",
    "model = [models[0].model]\n",
    "lexicon = bootstrap_lexicon_average_no_ref(model, vocabulary, seeds_non_complex, seeds_complex, \\\n",
    "                  ngram_embedding_similarity, missing_strat_random, \\\n",
    "                  ngram_repr_bow_mean, agg_embed=False, epochs=3, thresh_l=-0.5, thresh_r=0.5)\n",
    "print(lexicon)"
   ]
  },
  {
   "cell_type": "markdown",
   "metadata": {},
   "source": [
    "### (3.3) Multiple Models with reference term and score aggregation"
   ]
  },
  {
   "cell_type": "code",
   "execution_count": 19,
   "metadata": {},
   "outputs": [
    {
     "name": "stdout",
     "output_type": "stream",
     "text": [
      "---------Complex Seeds----------------\n",
      "['aboriginal']\n",
      "---------Non-Complex Seeds----------------\n",
      "['bad']\n",
      "---------Vocabulary----------------\n",
      "['aboriginal', 'bad', 'good', 'inuit', 'and', 'to this end', 'extraordinary']\n",
      "Missing vocab in models : 0.0 / 0.0%\n",
      "Epoch 1 : Se_l_size = 1, Se_r_size = 1\n",
      "0|9:0.0%   Epoch 2 : Se_l_size = 2, Se_r_size = 2\n",
      "0|9:0.0%   Epoch 3 : Se_l_size = 2, Se_r_size = 2\n",
      "0|9:0.0%   SIM_REF:-0.3394447895207775\n",
      "{'aboriginal': 1.0, 'bad': -1.0, 'good': -0.44711642938187895, 'inuit': 0.7827501611049796, 'and': 0.0, 'to this end': -0.10329034693032661, 'extraordinary': 0.023338522950455867}\n"
     ]
    }
   ],
   "source": [
    "from ngram_representation import missing_strat_random\n",
    "from ngram_representation import ngram_repr_bow_mean\n",
    "import gensim\n",
    "\n",
    "seeds_complex = ['aboriginal']\n",
    "seeds_non_complex = ['bad']\n",
    "\n",
    "# Build the vocabulary\n",
    "vocabulary = []\n",
    "vocabulary.extend(seeds_complex)\n",
    "vocabulary.extend(seeds_non_complex)\n",
    "vocabulary.extend(['good', 'inuit', 'and', 'to this end', 'extraordinary'])\n",
    "\n",
    "print('---------Complex Seeds----------------')\n",
    "print(seeds_complex)\n",
    "print('---------Non-Complex Seeds----------------')\n",
    "print(seeds_non_complex)\n",
    "print('---------Vocabulary----------------')\n",
    "print(vocabulary)\n",
    "\n",
    "models_selected = [model.model for model in models]\n",
    "ref_term = 'and'\n",
    "lexicon = bootstrap_lexicon_average(models_selected, vocabulary, seeds_non_complex, seeds_complex, \\\n",
    "                  ngram_embedding_similarity, missing_strat_random, ref_term, \\\n",
    "                  ngram_repr_bow_mean, agg_embed=False, epochs=3, thresh_l=-0.5, thresh_r=0.5)\n",
    "print(lexicon)"
   ]
  },
  {
   "cell_type": "markdown",
   "metadata": {},
   "source": [
    "### (3.4) Single Model with reference term and embedding aggregation"
   ]
  },
  {
   "cell_type": "code",
   "execution_count": 20,
   "metadata": {},
   "outputs": [
    {
     "name": "stdout",
     "output_type": "stream",
     "text": [
      "---------Complex Seeds----------------\n",
      "['aboriginal']\n",
      "---------Non-Complex Seeds----------------\n",
      "['bad', 'worse', 'unfortunately', 'really']\n",
      "---------Vocabulary----------------\n",
      "['aboriginal', 'bad', 'worse', 'unfortunately', 'really', 'good', 'inuit', 'and', 'to this end']\n",
      "Missing vocab in models : 0.0 / 0.0%\n",
      "Epoch 1 : Se_l_size = 4, Se_r_size = 1\n",
      "0|9:0.0%   Epoch 2 : Se_l_size = 6, Se_r_size = 2\n",
      "0|9:0.0%   Epoch 3 : Se_l_size = 6, Se_r_size = 2\n",
      "0|9:0.0%   SIM_REF:-0.36147909368740827\n",
      "{'aboriginal': 1.0, 'bad': -1.0, 'worse': -1.0, 'unfortunately': -1.0, 'really': -1.0, 'good': -0.41297356462134016, 'inuit': 0.8380726688661927, 'and': 0.0, 'to this end': -0.31752104683715165}\n"
     ]
    }
   ],
   "source": [
    "from ngram_representation import missing_strat_random\n",
    "from ngram_representation import ngram_repr_bow_mean\n",
    "import gensim\n",
    "\n",
    "seeds_complex = ['aboriginal']\n",
    "seeds_non_complex = ['bad', 'worse', 'unfortunately', 'really']\n",
    "\n",
    "# Build the vocabulary\n",
    "vocabulary = []\n",
    "vocabulary.extend(seeds_complex)\n",
    "vocabulary.extend(seeds_non_complex)\n",
    "vocabulary.extend(['good', 'inuit', 'and', 'to this end'])\n",
    "\n",
    "print('---------Complex Seeds----------------')\n",
    "print(seeds_complex)\n",
    "print('---------Non-Complex Seeds----------------')\n",
    "print(seeds_non_complex)\n",
    "print('---------Vocabulary----------------')\n",
    "print(vocabulary)\n",
    "\n",
    "model = [models[0].model]\n",
    "ref_term = 'and'\n",
    "lexicon = bootstrap_lexicon_average(model, vocabulary, seeds_non_complex, seeds_complex, \\\n",
    "                  ngram_embedding_similarity, missing_strat_random, ref_term, \\\n",
    "                  ngram_repr_bow_mean, agg_embed=True, epochs=3, thresh_l=-0.5, thresh_r=0.5)\n",
    "print(lexicon)"
   ]
  },
  {
   "cell_type": "markdown",
   "metadata": {},
   "source": [
    "## (4) Complexity Lexicon for CWI"
   ]
  },
  {
   "cell_type": "code",
   "execution_count": null,
   "metadata": {},
   "outputs": [],
   "source": [
    "models = get_embedding_models_glove()"
   ]
  },
  {
   "cell_type": "code",
   "execution_count": 21,
   "metadata": {},
   "outputs": [],
   "source": [
    "datasets = load_datasets(['Wikipedia', 'WikiNews', 'News'], 'Train', 'Dev', type_train='word', type_test='word')"
   ]
  },
  {
   "cell_type": "markdown",
   "metadata": {},
   "source": [
    "## (4.0) Baseline"
   ]
  },
  {
   "cell_type": "code",
   "execution_count": 30,
   "metadata": {},
   "outputs": [
    {
     "data": {
      "text/html": [
       "<div>\n",
       "<style scoped>\n",
       "    .dataframe tbody tr th:only-of-type {\n",
       "        vertical-align: middle;\n",
       "    }\n",
       "\n",
       "    .dataframe tbody tr th {\n",
       "        vertical-align: top;\n",
       "    }\n",
       "\n",
       "    .dataframe thead th {\n",
       "        text-align: right;\n",
       "    }\n",
       "</style>\n",
       "<table border=\"1\" class=\"dataframe\">\n",
       "  <thead>\n",
       "    <tr style=\"text-align: right;\">\n",
       "      <th></th>\n",
       "      <th>dataset</th>\n",
       "      <th>f1</th>\n",
       "      <th>prec</th>\n",
       "      <th>rec</th>\n",
       "      <th>zc</th>\n",
       "    </tr>\n",
       "  </thead>\n",
       "  <tbody>\n",
       "    <tr>\n",
       "      <th>0</th>\n",
       "      <td>Wikipedia</td>\n",
       "      <td>0.644488</td>\n",
       "      <td>0.714126</td>\n",
       "      <td>0.680523</td>\n",
       "      <td>vocab_clean</td>\n",
       "    </tr>\n",
       "    <tr>\n",
       "      <th>1</th>\n",
       "      <td>WikiNews</td>\n",
       "      <td>0.691826</td>\n",
       "      <td>0.735392</td>\n",
       "      <td>0.741662</td>\n",
       "      <td>vocab_clean</td>\n",
       "    </tr>\n",
       "    <tr>\n",
       "      <th>2</th>\n",
       "      <td>News</td>\n",
       "      <td>0.726351</td>\n",
       "      <td>0.755768</td>\n",
       "      <td>0.786249</td>\n",
       "      <td>vocab_clean</td>\n",
       "    </tr>\n",
       "  </tbody>\n",
       "</table>\n",
       "</div>"
      ],
      "text/plain": [
       "     dataset        f1      prec       rec           zc\n",
       "0  Wikipedia  0.644488  0.714126  0.680523  vocab_clean\n",
       "1   WikiNews  0.691826  0.735392  0.741662  vocab_clean\n",
       "2       News  0.726351  0.755768  0.786249  vocab_clean"
      ]
     },
     "execution_count": 30,
     "metadata": {},
     "output_type": "execute_result"
    }
   ],
   "source": [
    "baseline_vocab_clean(datasets)"
   ]
  },
  {
   "cell_type": "code",
   "execution_count": 32,
   "metadata": {},
   "outputs": [
    {
     "data": {
      "text/html": [
       "<div>\n",
       "<style scoped>\n",
       "    .dataframe tbody tr th:only-of-type {\n",
       "        vertical-align: middle;\n",
       "    }\n",
       "\n",
       "    .dataframe tbody tr th {\n",
       "        vertical-align: top;\n",
       "    }\n",
       "\n",
       "    .dataframe thead th {\n",
       "        text-align: right;\n",
       "    }\n",
       "</style>\n",
       "<table border=\"1\" class=\"dataframe\">\n",
       "  <thead>\n",
       "    <tr style=\"text-align: right;\">\n",
       "      <th></th>\n",
       "      <th>dataset</th>\n",
       "      <th>f1</th>\n",
       "      <th>prec</th>\n",
       "      <th>rec</th>\n",
       "      <th>zc</th>\n",
       "    </tr>\n",
       "  </thead>\n",
       "  <tbody>\n",
       "    <tr>\n",
       "      <th>0</th>\n",
       "      <td>Wikipedia</td>\n",
       "      <td>0.673146</td>\n",
       "      <td>0.721375</td>\n",
       "      <td>0.700415</td>\n",
       "      <td>vocab_weighted</td>\n",
       "    </tr>\n",
       "    <tr>\n",
       "      <th>1</th>\n",
       "      <td>WikiNews</td>\n",
       "      <td>0.734567</td>\n",
       "      <td>0.749724</td>\n",
       "      <td>0.768554</td>\n",
       "      <td>vocab_weighted</td>\n",
       "    </tr>\n",
       "    <tr>\n",
       "      <th>2</th>\n",
       "      <td>News</td>\n",
       "      <td>0.828990</td>\n",
       "      <td>0.820062</td>\n",
       "      <td>0.846029</td>\n",
       "      <td>vocab_weighted</td>\n",
       "    </tr>\n",
       "  </tbody>\n",
       "</table>\n",
       "</div>"
      ],
      "text/plain": [
       "     dataset        f1      prec       rec              zc\n",
       "0  Wikipedia  0.673146  0.721375  0.700415  vocab_weighted\n",
       "1   WikiNews  0.734567  0.749724  0.768554  vocab_weighted\n",
       "2       News  0.828990  0.820062  0.846029  vocab_weighted"
      ]
     },
     "execution_count": 32,
     "metadata": {},
     "output_type": "execute_result"
    }
   ],
   "source": [
    "baseline_vocab_weighted(datasets)"
   ]
  },
  {
   "cell_type": "code",
   "execution_count": 33,
   "metadata": {},
   "outputs": [
    {
     "data": {
      "text/html": [
       "<div>\n",
       "<style scoped>\n",
       "    .dataframe tbody tr th:only-of-type {\n",
       "        vertical-align: middle;\n",
       "    }\n",
       "\n",
       "    .dataframe tbody tr th {\n",
       "        vertical-align: top;\n",
       "    }\n",
       "\n",
       "    .dataframe thead th {\n",
       "        text-align: right;\n",
       "    }\n",
       "</style>\n",
       "<table border=\"1\" class=\"dataframe\">\n",
       "  <thead>\n",
       "    <tr style=\"text-align: right;\">\n",
       "      <th></th>\n",
       "      <th>dataset</th>\n",
       "      <th>f1</th>\n",
       "      <th>prec</th>\n",
       "      <th>rec</th>\n",
       "      <th>zc</th>\n",
       "    </tr>\n",
       "  </thead>\n",
       "  <tbody>\n",
       "    <tr>\n",
       "      <th>0</th>\n",
       "      <td>Wikipedia</td>\n",
       "      <td>0.673272</td>\n",
       "      <td>0.706433</td>\n",
       "      <td>0.694744</td>\n",
       "      <td>vocab_conf</td>\n",
       "    </tr>\n",
       "    <tr>\n",
       "      <th>1</th>\n",
       "      <td>WikiNews</td>\n",
       "      <td>0.722976</td>\n",
       "      <td>0.725654</td>\n",
       "      <td>0.744031</td>\n",
       "      <td>vocab_conf</td>\n",
       "    </tr>\n",
       "    <tr>\n",
       "      <th>2</th>\n",
       "      <td>News</td>\n",
       "      <td>0.778589</td>\n",
       "      <td>0.785862</td>\n",
       "      <td>0.772903</td>\n",
       "      <td>vocab_conf</td>\n",
       "    </tr>\n",
       "  </tbody>\n",
       "</table>\n",
       "</div>"
      ],
      "text/plain": [
       "     dataset        f1      prec       rec          zc\n",
       "0  Wikipedia  0.673272  0.706433  0.694744  vocab_conf\n",
       "1   WikiNews  0.722976  0.725654  0.744031  vocab_conf\n",
       "2       News  0.778589  0.785862  0.772903  vocab_conf"
      ]
     },
     "execution_count": 33,
     "metadata": {},
     "output_type": "execute_result"
    }
   ],
   "source": [
    "baseline_vocab_conf(datasets)"
   ]
  },
  {
   "cell_type": "markdown",
   "metadata": {},
   "source": [
    "## (4.1) Results"
   ]
  },
  {
   "cell_type": "code",
   "execution_count": 57,
   "metadata": {},
   "outputs": [
    {
     "name": "stdout",
     "output_type": "stream",
     "text": [
      "-----------------------------------------\n",
      "-----------------------------------------\n",
      "Dataset :Wikipedia\n",
      "---------Training Targets----------------\n",
      "Targets complex : 1454\n",
      "Target non-complex : 1426\n",
      "---------Testing Seeds----------------\n",
      "Target test : 606\n",
      "Missing vocab in models : 132.0 / 3.7854889589905363%\n",
      "Epoch 1 : Se_l_size = 1426, Se_r_size = 1454\n",
      "0|3487:0.0%   500|3487:0.14338973329509608%   1000|3487:0.28677946659019216%   1500|3487:0.43016919988528823%   2000|3487:0.5735589331803843%   2500|3487:0.7169486664754804%   3000|3487:0.8603383997705765%   -----------------------------------------\n",
      "-----------------------------------------\n",
      "Dataset :WikiNews\n",
      "---------Training Targets----------------\n",
      "Targets complex : 1548\n",
      "Target non-complex : 1543\n",
      "---------Testing Seeds----------------\n",
      "Target test : 776\n",
      "Missing vocab in models : 109.0 / 2.8179937952430194%\n",
      "Epoch 1 : Se_l_size = 1543, Se_r_size = 1548\n",
      "0|3868:0.0%   500|3868:0.12926577042399173%   1000|3868:0.25853154084798347%   1500|3868:0.3877973112719752%   2000|3868:0.5170630816959669%   2500|3868:0.6463288521199586%   3000|3868:0.7755946225439504%   3500|3868:0.9048603929679421%   -----------------------------------------\n",
      "-----------------------------------------\n",
      "Dataset :News\n",
      "---------Training Targets----------------\n",
      "Targets complex : 1597\n",
      "Target non-complex : 1584\n",
      "---------Testing Seeds----------------\n",
      "Target test : 1502\n",
      "Missing vocab in models : 89.0 / 1.9000853970964986%\n",
      "Epoch 1 : Se_l_size = 1584, Se_r_size = 1597\n",
      "0|4684:0.0%   500|4684:0.1067463706233988%   1000|4684:0.2134927412467976%   1500|4684:0.32023911187019644%   2000|4684:0.4269854824935952%   2500|4684:0.533731853116994%   3000|4684:0.6404782237403929%   3500|4684:0.7472245943637916%   4000|4684:0.8539709649871904%   4500|4684:0.9607173356105893%   "
     ]
    }
   ],
   "source": [
    "import pandas as pd\n",
    "from ngram_representation import missing_strat_random\n",
    "from ngram_representation import ngram_repr_bow_mean\n",
    "from ngram_representation import ngram_repr_bow_max\n",
    "from ngram_representation import ngram_repr_bow_min\n",
    "from ngram_representation import ngram_repr_wiki_weighted_bow\n",
    "\n",
    "\n",
    "# Get the basic seeds for complex and non_complex words\n",
    "# Group targets into complex and non-complex and flatten MWE\n",
    "targets_train = [(ds.name, build_weighted_vocabulary(ds.train)) for ds in datasets]\n",
    "seeds_complex = [(name, [word for word, score in vocab.items() if score == 1]) for name, vocab in targets_train]\n",
    "seeds_non_complex = [(name, [word for word, score in vocab.items() if score == 0]) for name, vocab in targets_train]\n",
    "\n",
    "lexicons = []\n",
    "# Parameters for lexicon construction\n",
    "epochs=1\n",
    "thresh_l=-0.5\n",
    "thresh_r=0.5\n",
    "agg_embed=True\n",
    "embedding_sim = ngram_embedding_similarity\n",
    "ngram_repr = ngram_repr_bow_max\n",
    "missing_strat = missing_strat_random\n",
    "model = [model.model for model in models]\n",
    "data = datasets\n",
    "\n",
    "for ds in data:\n",
    "    t_complex = [seeds for name, seeds in seeds_complex if name == ds.name][0]\n",
    "    t_non_complex = [seeds for name, seeds in seeds_non_complex if name == ds.name][0]\n",
    "    t_test = [d.test.target.tolist() for d in datasets \n",
    "              if d.name == ds.name][0]\n",
    "    t_test = [mwe.strip().lower() for mwe in t_test]\n",
    "    vocabulary = []\n",
    "    vocabulary.extend(t_complex)\n",
    "    vocabulary.extend(t_non_complex)\n",
    "    vocabulary.extend(t_test)\n",
    "    vocabulary.append(ref_term)\n",
    "    print('-----------------------------------------')\n",
    "    print('-----------------------------------------')\n",
    "    print('Dataset :{}'.format(ds.name))\n",
    "    print('---------Training Targets----------------')\n",
    "    print('Targets complex : {}'.format(len(t_complex)))\n",
    "    print('Target non-complex : {}'.format(len(t_non_complex)))\n",
    "    print('---------Testing Seeds----------------')\n",
    "    print('Target test : {}'.format(len(t_test)))\n",
    "    lexicon = bootstrap_lexicon_average_no_ref(model, vocabulary, t_non_complex, t_complex, \\\n",
    "                  embedding_sim=embedding_sim, \\\n",
    "                  missing_strat=missing_strat, \\\n",
    "                  ngram_repr=ngram_repr, agg_embed=agg_embed, epochs=epochs, \\\n",
    "                  thresh_l=thresh_l, thresh_r=thresh_r)\n",
    "    lexicons.append(Lexicon(ds.name, epochs, thresh_l, thresh_r, agg_embed, lexicon))"
   ]
  },
  {
   "cell_type": "code",
   "execution_count": 106,
   "metadata": {},
   "outputs": [
    {
     "data": {
      "image/png": "[encoded data removed]",
      "text/plain": [
       "<Figure size 432x288 with 1 Axes>"
      ]
     },
     "metadata": {},
     "output_type": "display_data"
    }
   ],
   "source": [
    "import seaborn as sns, numpy as np\n",
    "import matplotlib.pyplot as plt\n",
    "sns.set(style=\"darkgrid\")\n",
    "np.random.seed(0)\n",
    "x = np.array([score for word, score in lexicon.items()])\n",
    "ax = sns.distplot(x)\n",
    "plt.show(ax)"
   ]
  },
  {
   "cell_type": "code",
   "execution_count": 112,
   "metadata": {},
   "outputs": [
    {
     "name": "stdout",
     "output_type": "stream",
     "text": [
      "606\n",
      "606\n",
      "Verified Test/Prediction lengths OK : True\n",
      "Testing 20001 steps\n"
     ]
    },
    {
     "name": "stderr",
     "output_type": "stream",
     "text": [
      "C:\\Users\\Studio\\Anaconda3\\lib\\site-packages\\ipykernel_launcher.py:7: MatplotlibDeprecationWarning: numpy.arange\n",
      "  import sys\n",
      "C:\\Users\\Studio\\Anaconda3\\lib\\site-packages\\ipykernel_launcher.py:8: MatplotlibDeprecationWarning: numpy.arange\n",
      "  \n"
     ]
    },
    {
     "name": "stdout",
     "output_type": "stream",
     "text": [
      "Wikipedia : Scores = (0.7403267973856209, 0.74414319703425, 0.7397327351561326, None), Best T. = 0.05327000000000001\n",
      "776\n",
      "776\n",
      "Verified Test/Prediction lengths OK : True\n",
      "Testing 20001 steps\n"
     ]
    },
    {
     "name": "stderr",
     "output_type": "stream",
     "text": [
      "C:\\Users\\Studio\\Anaconda3\\lib\\site-packages\\ipykernel_launcher.py:7: MatplotlibDeprecationWarning: numpy.arange\n",
      "  import sys\n",
      "C:\\Users\\Studio\\Anaconda3\\lib\\site-packages\\ipykernel_launcher.py:8: MatplotlibDeprecationWarning: numpy.arange\n",
      "  \n"
     ]
    },
    {
     "name": "stdout",
     "output_type": "stream",
     "text": [
      "WikiNews : Scores = (0.7948717948717949, 0.8068981631259211, 0.7994116271340825, None), Best T. = 0.03337000000000001\n",
      "1502\n",
      "1502\n",
      "Verified Test/Prediction lengths OK : True\n",
      "Testing 20001 steps\n"
     ]
    },
    {
     "name": "stderr",
     "output_type": "stream",
     "text": [
      "C:\\Users\\Studio\\Anaconda3\\lib\\site-packages\\ipykernel_launcher.py:7: MatplotlibDeprecationWarning: numpy.arange\n",
      "  import sys\n",
      "C:\\Users\\Studio\\Anaconda3\\lib\\site-packages\\ipykernel_launcher.py:8: MatplotlibDeprecationWarning: numpy.arange\n",
      "  \n"
     ]
    },
    {
     "name": "stdout",
     "output_type": "stream",
     "text": [
      "News : Scores = (0.8500761941044812, 0.8557917238041461, 0.8528016448263172, None), Best T. = 0.03548000000000001\n"
     ]
    }
   ],
   "source": [
    "# Wikipedia\n",
    "y_true, prediction = compute_y_test_and_predictions(lexicons[0], datasets[0])\n",
    "scores_wiki, best_t_wiki = search_best_threshold(y_true, prediction)\n",
    "print('Wikipedia : Scores = {}, Best T. = {}'.format(scores_wiki, best_t_wiki))\n",
    "\n",
    "# WikiNews\n",
    "y_true, prediction = compute_y_test_and_predictions(lexicons[1], datasets[1])\n",
    "scores_wikinews, best_t_wikinews = search_best_threshold(y_true, prediction)\n",
    "print('WikiNews : Scores = {}, Best T. = {}'.format(scores_wikinews, best_t_wikinews))\n",
    "\n",
    "# News\n",
    "y_true, prediction = compute_y_test_and_predictions(lexicons[2], datasets[2])\n",
    "scores_news, best_t_news = search_best_threshold(y_true, prediction)\n",
    "print('News : Scores = {}, Best T. = {}'.format(scores_news, best_t_news))"
   ]
  },
  {
   "cell_type": "markdown",
   "metadata": {},
   "source": [
    "# (5) Complexity Lexicon for CPI"
   ]
  },
  {
   "cell_type": "code",
   "execution_count": null,
   "metadata": {},
   "outputs": [],
   "source": [
    "models = get_embedding_models_glove()"
   ]
  },
  {
   "cell_type": "code",
   "execution_count": 29,
   "metadata": {},
   "outputs": [],
   "source": [
    "datasets = load_datasets(['Wikipedia', 'WikiNews', 'News'], 'Train', 'Dev', type_train='both', type_test='phrase')"
   ]
  },
  {
   "cell_type": "markdown",
   "metadata": {},
   "source": [
    "### (5.1) MWE with Embedding Aggregation"
   ]
  },
  {
   "cell_type": "markdown",
   "metadata": {},
   "source": [
    "Here, we first select the seed sets based on majority voting in cases of tie from the training data, then we compute the lexicons for each domain. Afterwards, we find the best threshold to split between non-complex and complex words."
   ]
  },
  {
   "cell_type": "code",
   "execution_count": 38,
   "metadata": {},
   "outputs": [
    {
     "name": "stdout",
     "output_type": "stream",
     "text": [
      "-----------------------------------------\n",
      "-----------------------------------------\n",
      "Dataset :Wikipedia\n",
      "---------Training Targets----------------\n",
      "Targets complex : 2019\n",
      "Target non-complex : 1558\n",
      "---------Testing Seeds----------------\n",
      "Target test : 88\n",
      "Missing vocab in models : 184.0 / 5.020463847203274%\n",
      "Epoch 1 : Se_l_size = 1558, Se_r_size = 2019\n",
      "0|3665:0.0%   500|3665:0.1364256480218281%   1000|3665:0.2728512960436562%   1500|3665:0.4092769440654843%   2000|3665:0.5457025920873124%   2500|3665:0.6821282401091405%   3000|3665:0.8185538881309686%   3500|3665:0.9549795361527967%   -----------------------------------------\n",
      "-----------------------------------------\n",
      "Dataset :WikiNews\n",
      "---------Training Targets----------------\n",
      "Targets complex : 2221\n",
      "Target non-complex : 1764\n",
      "---------Testing Seeds----------------\n",
      "Target test : 94\n",
      "Missing vocab in models : 172.0 / 4.216719784260848%\n",
      "Epoch 1 : Se_l_size = 1764, Se_r_size = 2221\n",
      "0|4079:0.0%   500|4079:0.12257906349595489%   1000|4079:0.24515812699190978%   1500|4079:0.3677371904878647%   2000|4079:0.49031625398381956%   2500|4079:0.6128953174797744%   3000|4079:0.7354743809757294%   3500|4079:0.8580534444716842%   4000|4079:0.9806325079676391%   -----------------------------------------\n",
      "-----------------------------------------\n",
      "Dataset :News\n",
      "---------Training Targets----------------\n",
      "Targets complex : 2865\n",
      "Target non-complex : 1917\n",
      "---------Testing Seeds----------------\n",
      "Target test : 262\n",
      "Missing vocab in models : 139.0 / 2.7557494052339413%\n",
      "Epoch 1 : Se_l_size = 1917, Se_r_size = 2865\n",
      "0|5044:0.0%   500|5044:0.09912767644726407%   1000|5044:0.19825535289452814%   1500|5044:0.2973830293417922%   2000|5044:0.3965107057890563%   2500|5044:0.4956383822363204%   3000|5044:0.5947660586835845%   3500|5044:0.6938937351308485%   4000|5044:0.7930214115781126%   4500|5044:0.8921490880253767%   5000|5044:0.9912767644726408%   "
     ]
    }
   ],
   "source": [
    "import pandas as pd\n",
    "from ngram_representation import missing_strat_random\n",
    "from ngram_representation import ngram_repr_bow_mean\n",
    "from ngram_representation import ngram_repr_bow_max\n",
    "from ngram_representation import ngram_repr_bow_min\n",
    "from ngram_representation import ngram_repr_wiki_weighted_bow\n",
    "\n",
    "\n",
    "# Get the basic seeds for complex and non_complex words\n",
    "# Group targets into complex and non-complex and flatten MWE\n",
    "targets_train = [(ds.name, build_weighted_vocabulary(ds.train)) for ds in datasets]\n",
    "seeds_complex = [(name, [word for word, score in vocab.items() if score == 1]) for name, vocab in targets_train]\n",
    "seeds_non_complex = [(name, [word for word, score in vocab.items() if score == 0]) for name, vocab in targets_train]\n",
    "\n",
    "lexicons = []\n",
    "# Parameters for lexicon construction\n",
    "epochs=1\n",
    "thresh_l=-0.5\n",
    "thresh_r=0.5\n",
    "agg_embed=True\n",
    "embedding_sim = ngram_embedding_similarity\n",
    "ngram_repr = lambda wordvecs, words : ngram_repr_wiki_weighted_bow(wordvecs, words, 0.001, ngram_repr_bow_mean)\n",
    "missing_strat = missing_strat_random\n",
    "model = [model.model for model in models]\n",
    "data = datasets\n",
    "\n",
    "for ds in data:\n",
    "    t_complex = [seeds for name, seeds in seeds_complex if name == ds.name][0]\n",
    "    t_non_complex = [seeds for name, seeds in seeds_non_complex if name == ds.name][0]\n",
    "    t_test = [d.test.target.tolist() for d in datasets \n",
    "              if d.name == ds.name][0]\n",
    "    t_test = [mwe.strip().lower() for mwe in t_test]\n",
    "    vocabulary = []\n",
    "    vocabulary.extend(t_complex)\n",
    "    vocabulary.extend(t_non_complex)\n",
    "    vocabulary.extend(t_test)\n",
    "    print('-----------------------------------------')\n",
    "    print('-----------------------------------------')\n",
    "    print('Dataset :{}'.format(ds.name))\n",
    "    print('---------Training Targets----------------')\n",
    "    print('Targets complex : {}'.format(len(t_complex)))\n",
    "    print('Target non-complex : {}'.format(len(t_non_complex)))\n",
    "    print('---------Testing Seeds----------------')\n",
    "    print('Target test : {}'.format(len(t_test)))\n",
    "    lexicon = bootstrap_lexicon_average_no_ref(model, vocabulary, t_non_complex, t_complex, \\\n",
    "                  embedding_sim=embedding_sim, \\\n",
    "                  missing_strat=missing_strat, \\\n",
    "                  ngram_repr=ngram_repr, agg_embed=agg_embed, epochs=epochs, \\\n",
    "                  thresh_l=thresh_l, thresh_r=thresh_r)\n",
    "    lexicons.append(Lexicon(ds.name, epochs, thresh_l, thresh_r, agg_embed, lexicon))"
   ]
  },
  {
   "cell_type": "code",
   "execution_count": 22,
   "metadata": {},
   "outputs": [
    {
     "data": {
      "image/png": "[encoded data removed]",
      "text/plain": [
       "<Figure size 432x288 with 1 Axes>"
      ]
     },
     "metadata": {},
     "output_type": "display_data"
    }
   ],
   "source": [
    "import seaborn as sns, numpy as np\n",
    "import matplotlib.pyplot as plt\n",
    "sns.set(style=\"darkgrid\")\n",
    "np.random.seed(0)\n",
    "x = np.array([score for word, score in lexicon.items()])\n",
    "ax = sns.distplot(x)\n",
    "plt.show(ax)"
   ]
  },
  {
   "cell_type": "code",
   "execution_count": 39,
   "metadata": {},
   "outputs": [
    {
     "name": "stdout",
     "output_type": "stream",
     "text": [
      "88\n",
      "88\n",
      "Verified Test/Prediction lengths OK : True\n",
      "Testing 20001 steps\n",
      "Wikipedia : Scores = (0.6744186046511628, 0.528957528957529, 0.51875, None), Best T. = 0.08828\n",
      "94\n",
      "94\n",
      "Verified Test/Prediction lengths OK : True\n",
      "Testing 20001 steps\n",
      "WikiNews : Scores = (0.8870967741935484, 0.5227272727272727, 0.4798418972332016, None), Best T. = 0.07144\n",
      "262\n",
      "262\n",
      "Verified Test/Prediction lengths OK : True\n",
      "Testing 20001 steps\n",
      "News : Scores = (0.6685076889755253, 0.5674410540915396, 0.5720861172976985, None), Best T. = 0.03426000000000001\n"
     ]
    }
   ],
   "source": [
    "with warnings.catch_warnings():\n",
    "    warnings.simplefilter(\"ignore\")\n",
    "    # Wikipedia\n",
    "    y_true, prediction = compute_y_test_and_predictions(lexicons[0], datasets[0])\n",
    "    scores_wiki, best_t_wiki = search_best_threshold(y_true, prediction)\n",
    "    print('Wikipedia : Scores = {}, Best T. = {}'.format(scores_wiki, best_t_wiki))\n",
    "\n",
    "    # WikiNews\n",
    "    y_true, prediction = compute_y_test_and_predictions(lexicons[1], datasets[1])\n",
    "    scores_wikinews, best_t_wikinews = search_best_threshold(y_true, prediction)\n",
    "    print('WikiNews : Scores = {}, Best T. = {}'.format(scores_wikinews, best_t_wikinews))\n",
    "\n",
    "    # News\n",
    "    y_true, prediction = compute_y_test_and_predictions(lexicons[2], datasets[2])\n",
    "    scores_news, best_t_news = search_best_threshold(y_true, prediction)\n",
    "    print('News : Scores = {}, Best T. = {}'.format(scores_news, best_t_news))"
   ]
  },
  {
   "cell_type": "code",
   "execution_count": 40,
   "metadata": {},
   "outputs": [
    {
     "name": "stdout",
     "output_type": "stream",
     "text": [
      "-----------------------------------------\n",
      "-----------------------------------------\n",
      "Dataset :Wikipedia\n",
      "---------Training Targets----------------\n",
      "Targets complex : 2019\n",
      "Target non-complex : 1558\n",
      "---------Testing Seeds----------------\n",
      "Target test : 88\n",
      "Missing vocab in models : 184.0 / 5.020463847203274%\n",
      "Epoch 1 : Se_l_size = 1558, Se_r_size = 2019\n",
      "0|3665:0.0%   500|3665:0.1364256480218281%   1000|3665:0.2728512960436562%   1500|3665:0.4092769440654843%   2000|3665:0.5457025920873124%   2500|3665:0.6821282401091405%   3000|3665:0.8185538881309686%   3500|3665:0.9549795361527967%   -----------------------------------------\n",
      "-----------------------------------------\n",
      "Dataset :WikiNews\n",
      "---------Training Targets----------------\n",
      "Targets complex : 2221\n",
      "Target non-complex : 1764\n",
      "---------Testing Seeds----------------\n",
      "Target test : 94\n",
      "Missing vocab in models : 172.0 / 4.216719784260848%\n",
      "Epoch 1 : Se_l_size = 1764, Se_r_size = 2221\n",
      "0|4079:0.0%   500|4079:0.12257906349595489%   1000|4079:0.24515812699190978%   1500|4079:0.3677371904878647%   2000|4079:0.49031625398381956%   2500|4079:0.6128953174797744%   3000|4079:0.7354743809757294%   3500|4079:0.8580534444716842%   4000|4079:0.9806325079676391%   -----------------------------------------\n",
      "-----------------------------------------\n",
      "Dataset :News\n",
      "---------Training Targets----------------\n",
      "Targets complex : 2865\n",
      "Target non-complex : 1917\n",
      "---------Testing Seeds----------------\n",
      "Target test : 262\n",
      "Missing vocab in models : 139.0 / 2.7557494052339413%\n",
      "Epoch 1 : Se_l_size = 1917, Se_r_size = 2865\n",
      "0|5044:0.0%   500|5044:0.09912767644726407%   1000|5044:0.19825535289452814%   1500|5044:0.2973830293417922%   2000|5044:0.3965107057890563%   2500|5044:0.4956383822363204%   3000|5044:0.5947660586835845%   3500|5044:0.6938937351308485%   4000|5044:0.7930214115781126%   4500|5044:0.8921490880253767%   5000|5044:0.9912767644726408%   "
     ]
    }
   ],
   "source": [
    "import pandas as pd\n",
    "from ngram_representation import missing_strat_random\n",
    "from ngram_representation import ngram_repr_bow_mean\n",
    "from ngram_representation import ngram_repr_bow_max\n",
    "from ngram_representation import ngram_repr_bow_min\n",
    "from ngram_representation import ngram_repr_wiki_weighted_bow\n",
    "\n",
    "\n",
    "# Get the basic seeds for complex and non_complex words\n",
    "# Group targets into complex and non-complex and flatten MWE\n",
    "targets_train = [(ds.name, build_weighted_vocabulary(ds.train)) for ds in datasets]\n",
    "seeds_complex = [(name, [word for word, score in vocab.items() if score == 1]) for name, vocab in targets_train]\n",
    "seeds_non_complex = [(name, [word for word, score in vocab.items() if score == 0]) for name, vocab in targets_train]\n",
    "\n",
    "lexicons = []\n",
    "# Parameters for lexicon construction\n",
    "epochs=1\n",
    "thresh_l=-0.5\n",
    "thresh_r=0.5\n",
    "agg_embed=True\n",
    "embedding_sim = ngram_embedding_similarity\n",
    "ngram_repr = ngram_repr_bow_max\n",
    "missing_strat = missing_strat_random\n",
    "model = [model.model for model in models]\n",
    "data = datasets\n",
    "\n",
    "for ds in data:\n",
    "    t_complex = [seeds for name, seeds in seeds_complex if name == ds.name][0]\n",
    "    t_non_complex = [seeds for name, seeds in seeds_non_complex if name == ds.name][0]\n",
    "    t_test = [d.test.target.tolist() for d in datasets \n",
    "              if d.name == ds.name][0]\n",
    "    t_test = [mwe.strip().lower() for mwe in t_test]\n",
    "    vocabulary = []\n",
    "    vocabulary.extend(t_complex)\n",
    "    vocabulary.extend(t_non_complex)\n",
    "    vocabulary.extend(t_test)\n",
    "    print('-----------------------------------------')\n",
    "    print('-----------------------------------------')\n",
    "    print('Dataset :{}'.format(ds.name))\n",
    "    print('---------Training Targets----------------')\n",
    "    print('Targets complex : {}'.format(len(t_complex)))\n",
    "    print('Target non-complex : {}'.format(len(t_non_complex)))\n",
    "    print('---------Testing Seeds----------------')\n",
    "    print('Target test : {}'.format(len(t_test)))\n",
    "    lexicon = bootstrap_lexicon_average_no_ref(model, vocabulary, t_non_complex, t_complex, \\\n",
    "                  embedding_sim=embedding_sim, \\\n",
    "                  missing_strat=missing_strat, \\\n",
    "                  ngram_repr=ngram_repr, agg_embed=agg_embed, epochs=epochs, \\\n",
    "                  thresh_l=thresh_l, thresh_r=thresh_r)\n",
    "    lexicons.append(Lexicon(ds.name, epochs, thresh_l, thresh_r, agg_embed, lexicon))"
   ]
  },
  {
   "cell_type": "code",
   "execution_count": 41,
   "metadata": {},
   "outputs": [
    {
     "data": {
      "image/png": "[encoded data removed]",
      "text/plain": [
       "<Figure size 432x288 with 1 Axes>"
      ]
     },
     "metadata": {},
     "output_type": "display_data"
    }
   ],
   "source": [
    "import seaborn as sns, numpy as np\n",
    "import matplotlib.pyplot as plt\n",
    "sns.set(style=\"darkgrid\")\n",
    "np.random.seed(0)\n",
    "x = np.array([score for word, score in lexicon.items()])\n",
    "ax = sns.distplot(x)\n",
    "plt.show(ax)"
   ]
  },
  {
   "cell_type": "code",
   "execution_count": 42,
   "metadata": {},
   "outputs": [
    {
     "name": "stdout",
     "output_type": "stream",
     "text": [
      "88\n",
      "88\n",
      "Verified Test/Prediction lengths OK : True\n",
      "Testing 20001 steps\n",
      "Wikipedia : Scores = (0.5875, 0.5540540540540541, 0.24649714582252205, None), Best T. = -0.0932\n",
      "94\n",
      "94\n",
      "Verified Test/Prediction lengths OK : True\n",
      "Testing 20001 steps\n",
      "WikiNews : Scores = (0.8870967741935484, 0.5227272727272727, 0.4798418972332016, None), Best T. = 0.04645000000000002\n",
      "262\n",
      "262\n",
      "Verified Test/Prediction lengths OK : True\n",
      "Testing 20001 steps\n",
      "News : Scores = (0.5968253968253968, 0.5211511789181692, 0.4972872833134842, None), Best T. = 0.004680000000000004\n"
     ]
    }
   ],
   "source": [
    "with warnings.catch_warnings():\n",
    "    warnings.simplefilter(\"ignore\")\n",
    "    # Wikipedia\n",
    "    y_true, prediction = compute_y_test_and_predictions(lexicons[0], datasets[0])\n",
    "    scores_wiki, best_t_wiki = search_best_threshold(y_true, prediction)\n",
    "    print('Wikipedia : Scores = {}, Best T. = {}'.format(scores_wiki, best_t_wiki))\n",
    "\n",
    "    # WikiNews\n",
    "    y_true, prediction = compute_y_test_and_predictions(lexicons[1], datasets[1])\n",
    "    scores_wikinews, best_t_wikinews = search_best_threshold(y_true, prediction)\n",
    "    print('WikiNews : Scores = {}, Best T. = {}'.format(scores_wikinews, best_t_wikinews))\n",
    "\n",
    "    # News\n",
    "    y_true, prediction = compute_y_test_and_predictions(lexicons[2], datasets[2])\n",
    "    scores_news, best_t_news = search_best_threshold(y_true, prediction)\n",
    "    print('News : Scores = {}, Best T. = {}'.format(scores_news, best_t_news))"
   ]
  },
  {
   "cell_type": "markdown",
   "metadata": {},
   "source": [
    "### (4.2) MWE with Embedding Aggregation and Reference Term"
   ]
  },
  {
   "cell_type": "code",
   "execution_count": 314,
   "metadata": {},
   "outputs": [
    {
     "name": "stdout",
     "output_type": "stream",
     "text": [
      "-----------------------------------------\n",
      "-----------------------------------------\n",
      "Dataset :Wikipedia\n",
      "---------Training Targets----------------\n",
      "Targets complex : 2019\n",
      "Target non-complex : 1558\n",
      "---------Testing Seeds----------------\n",
      "Target test : 694\n",
      "Missing vocab in models : 201.0 / 4.705056179775281%\n",
      "Epoch 1 : Se_l_size = 1558, Se_r_size = 2019\n",
      "0|4272:0.0%   500|4272:0.11704119850187265%   1000|4272:0.2340823970037453%   1500|4272:0.351123595505618%   2000|4272:0.4681647940074906%   2500|4272:0.5852059925093633%   3000|4272:0.702247191011236%   3500|4272:0.8192883895131086%   4000|4272:0.9363295880149812%   SIM_REF:-0.05605420319279125\n"
     ]
    }
   ],
   "source": [
    "import pandas as pd\n",
    "from ngram_representation import missing_strat_random\n",
    "from ngram_representation import ngram_repr_bow_mean\n",
    "from ngram_representation import ngram_repr_bow_max\n",
    "from ngram_representation import ngram_repr_bow_min\n",
    "from ngram_representation import ngram_repr_wiki_weighted_bow\n",
    "\n",
    "\n",
    "# Get the basic seeds for complex and non_complex words\n",
    "# Group targets into complex and non-complex and flatten MWE\n",
    "targets_train = [(ds.name, build_weighted_vocabulary(ds.train)) for ds in datasets]\n",
    "seeds_complex = [(name, [word for word, score in vocab.items() if score == 1]) for name, vocab in targets_train]\n",
    "seeds_non_complex = [(name, [word for word, score in vocab.items() if score == 0]) for name, vocab in targets_train]\n",
    "\n",
    "lexicons = []\n",
    "# Parameters for lexicon construction\n",
    "epochs=1\n",
    "thresh_l=-0.5\n",
    "thresh_r=0.5\n",
    "agg_embed=True\n",
    "ref_term = 'and'\n",
    "embedding_sim = ngram_embedding_similarity\n",
    "ngram_repr = ngram_repr_bow_max\n",
    "missing_strat = missing_strat_random\n",
    "model = [model.model for model in models]\n",
    "data = [datasets[0]]\n",
    "\n",
    "for ds in data:\n",
    "    t_complex = [seeds for name, seeds in seeds_complex if name == ds.name][0]\n",
    "    t_non_complex = [seeds for name, seeds in seeds_non_complex if name == ds.name][0]\n",
    "    t_test = [d.test.target.tolist() for d in datasets \n",
    "              if d.name == ds.name][0]\n",
    "    t_test = [mwe.strip().lower() for mwe in t_test]\n",
    "    vocabulary = []\n",
    "    vocabulary.extend(t_complex)\n",
    "    vocabulary.extend(t_non_complex)\n",
    "    vocabulary.extend(t_test)\n",
    "    vocabulary.append(ref_term)\n",
    "    print('-----------------------------------------')\n",
    "    print('-----------------------------------------')\n",
    "    print('Dataset :{}'.format(ds.name))\n",
    "    print('---------Training Targets----------------')\n",
    "    print('Targets complex : {}'.format(len(t_complex)))\n",
    "    print('Target non-complex : {}'.format(len(t_non_complex)))\n",
    "    print('---------Testing Seeds----------------')\n",
    "    print('Target test : {}'.format(len(t_test)))\n",
    "    lexicon = bootstrap_lexicon_average(model, vocabulary, t_non_complex, t_complex, \\\n",
    "                  embedding_sim=embedding_sim, \\\n",
    "                  missing_strat=missing_strat, ref_term=ref_term, \\\n",
    "                  ngram_repr=ngram_repr, agg_embed=agg_embed, epochs=epochs, \\\n",
    "                  thresh_l=thresh_l, thresh_r=thresh_r)\n",
    "    lexicons.append(Lexicon(ds.name, epochs, thresh_l, thresh_r, agg_embed, lexicon))"
   ]
  },
  {
   "cell_type": "code",
   "execution_count": 315,
   "metadata": {},
   "outputs": [
    {
     "name": "stderr",
     "output_type": "stream",
     "text": [
      "C:\\Users\\Studio\\Anaconda3\\lib\\site-packages\\scipy\\stats\\stats.py:1626: FutureWarning: Using a non-tuple sequence for multidimensional indexing is deprecated; use `arr[tuple(seq)]` instead of `arr[seq]`. In the future this will be interpreted as an array index, `arr[np.array(seq)]`, which will result either in an error or a different result.\n",
      "  return np.add.reduce(sorted[indexer] * weights, axis=axis) / sumval\n"
     ]
    },
    {
     "data": {
      "image/png": "[encoded data removed]",
      "text/plain": [
       "<Figure size 432x288 with 1 Axes>"
      ]
     },
     "metadata": {},
     "output_type": "display_data"
    }
   ],
   "source": [
    "import seaborn as sns, numpy as np\n",
    "import matplotlib.pyplot as plt\n",
    "sns.set(style=\"darkgrid\")\n",
    "np.random.seed(0)\n",
    "x = np.array([score for word, score in lexicon.items()])\n",
    "ax = sns.distplot(x)\n",
    "plt.show(ax)"
   ]
  },
  {
   "cell_type": "code",
   "execution_count": 316,
   "metadata": {
    "collapsed": true
   },
   "outputs": [],
   "source": [
    "pairs = [construct_pairs(lexicon.lexicon, ds.test)\n",
    "            for lexicon in lexicons \n",
    "            for ds in datasets if lexicon.name == ds.name][0]"
   ]
  },
  {
   "cell_type": "code",
   "execution_count": 318,
   "metadata": {},
   "outputs": [
    {
     "data": {
      "text/plain": [
       "0.746987951807229"
      ]
     },
     "execution_count": 318,
     "metadata": {},
     "output_type": "execute_result"
    }
   ],
   "source": [
    "import numpy\n",
    "from sklearn.metrics import f1_score\n",
    "\n",
    "y_true = [pair[1] for pair in pairs]\n",
    "prediction = [pair[2] for pair in pairs]\n",
    "numpy.corrcoef(y_true, prediction)[0, 1]\n",
    "f1_score(y_true, list(map(lambda val: 1 if val>-1 else 0, prediction)))"
   ]
  },
  {
   "cell_type": "markdown",
   "metadata": {},
   "source": [
    "### (4.3) MWE with Complexity Score Aggregation no reference term"
   ]
  },
  {
   "cell_type": "code",
   "execution_count": 32,
   "metadata": {},
   "outputs": [
    {
     "name": "stdout",
     "output_type": "stream",
     "text": [
      "False\n",
      "-----------------------------------------\n",
      "-----------------------------------------\n",
      "Dataset :Wikipedia\n",
      "---------Training Targets----------------\n",
      "Targets complex : 2019\n",
      "Target non-complex : 1558\n",
      "---------Testing Seeds----------------\n",
      "Target test : 88\n",
      "Missing vocab in models : 184.0 / 5.020463847203274%\n",
      "Epoch 1 : Se_l_size = 1558, Se_r_size = 2019\n",
      "0|4774:0.0%   500|4774:0.10473397570171764%   1000|4774:0.20946795140343527%   1500|4774:0.31420192710515293%   2000|4774:0.41893590280687054%   2500|4774:0.5236698785085881%   3000|4774:0.6284038542103059%   3500|4774:0.7331378299120235%   4000|4774:0.8378718056137411%   4500|4774:0.9426057813154587%   False\n",
      "-----------------------------------------\n",
      "-----------------------------------------\n",
      "Dataset :WikiNews\n",
      "---------Training Targets----------------\n",
      "Targets complex : 2221\n",
      "Target non-complex : 1764\n",
      "---------Testing Seeds----------------\n",
      "Target test : 94\n",
      "Missing vocab in models : 172.0 / 4.216719784260848%\n",
      "Epoch 1 : Se_l_size = 1764, Se_r_size = 2221\n",
      "0|5509:0.0%   500|5509:0.0907605736068252%   1000|5509:0.1815211472136504%   1500|5509:0.2722817208204756%   2000|5509:0.3630422944273008%   2500|5509:0.45380286803412595%   3000|5509:0.5445634416409512%   3500|5509:0.6353240152477764%   4000|5509:0.7260845888546016%   4500|5509:0.8168451624614268%   5000|5509:0.9076057360682519%   5500|5509:0.9983663096750771%   False\n",
      "-----------------------------------------\n",
      "-----------------------------------------\n",
      "Dataset :News\n",
      "---------Training Targets----------------\n",
      "Targets complex : 2865\n",
      "Target non-complex : 1917\n",
      "---------Testing Seeds----------------\n",
      "Target test : 262\n",
      "Missing vocab in models : 139.0 / 2.7557494052339413%\n",
      "Epoch 1 : Se_l_size = 1917, Se_r_size = 2865\n",
      "0|7935:0.0%   500|7935:0.0630119722747322%   1000|7935:0.1260239445494644%   1500|7935:0.1890359168241966%   2000|7935:0.2520478890989288%   2500|7935:0.315059861373661%   3000|7935:0.3780718336483932%   3500|7935:0.4410838059231254%   4000|7935:0.5040957781978576%   4500|7935:0.5671077504725898%   5000|7935:0.630119722747322%   5500|7935:0.6931316950220542%   6000|7935:0.7561436672967864%   6500|7935:0.8191556395715186%   7000|7935:0.8821676118462508%   7500|7935:0.945179584120983%   "
     ]
    }
   ],
   "source": [
    "import pandas as pd\n",
    "from ngram_representation import missing_strat_random\n",
    "from ngram_representation import ngram_repr_bow_mean\n",
    "from ngram_representation import ngram_repr_bow_max\n",
    "from ngram_representation import ngram_repr_bow_min\n",
    "from ngram_representation import ngram_repr_wiki_weighted_bow\n",
    "\n",
    "\n",
    "# Get the basic seeds for complex and non_complex words\n",
    "# Group targets into complex and non-complex and flatten MWE\n",
    "targets_train = [(ds.name, build_weighted_vocabulary(ds.train)) for ds in datasets]\n",
    "seeds_complex = [(name, [word for word, score in vocab.items() if score == 1]) for name, vocab in targets_train]\n",
    "seeds_non_complex = [(name, [word for word, score in vocab.items() if score == 0]) for name, vocab in targets_train]\n",
    "\n",
    "lexicons = []\n",
    "# Parameters for lexicon construction\n",
    "epochs=1\n",
    "thresh_l=-0.5\n",
    "thresh_r=0.5\n",
    "agg_embed=False\n",
    "embedding_sim = ngram_embedding_similarity\n",
    "ngram_repr = ngram_repr_bow_max\n",
    "missing_strat = missing_strat_random\n",
    "model = [model.model for model in models]\n",
    "data = datasets\n",
    "\n",
    "for ds in data:\n",
    "    t_complex = [seeds for name, seeds in seeds_complex if name == ds.name][0]\n",
    "    t_non_complex = [seeds for name, seeds in seeds_non_complex if name == ds.name][0]\n",
    "    t_test = [d.test.target.tolist() for d in datasets \n",
    "              if d.name == ds.name][0]\n",
    "    t_test = [mwe.strip().lower() for mwe in t_test]\n",
    "    vocabulary = []\n",
    "    vocabulary.extend(t_complex)\n",
    "    vocabulary.extend(t_non_complex)\n",
    "    vocabulary.extend(t_test)\n",
    "    print('and' in vocabulary)\n",
    "    print('-----------------------------------------')\n",
    "    print('-----------------------------------------')\n",
    "    print('Dataset :{}'.format(ds.name))\n",
    "    print('---------Training Targets----------------')\n",
    "    print('Targets complex : {}'.format(len(t_complex)))\n",
    "    print('Target non-complex : {}'.format(len(t_non_complex)))\n",
    "    print('---------Testing Seeds----------------')\n",
    "    print('Target test : {}'.format(len(t_test)))\n",
    "    lexicon = bootstrap_lexicon_average_no_ref(model, vocabulary, t_non_complex, t_complex, \\\n",
    "                  embedding_sim=embedding_sim, \\\n",
    "                  missing_strat=missing_strat, \\\n",
    "                  ngram_repr=ngram_repr, agg_embed=agg_embed, epochs=epochs, \\\n",
    "                  thresh_l=thresh_l, thresh_r=thresh_r)\n",
    "    lexicons.append(Lexicon(ds.name, epochs, thresh_l, thresh_r, agg_embed, lexicon))"
   ]
  },
  {
   "cell_type": "code",
   "execution_count": 33,
   "metadata": {},
   "outputs": [
    {
     "name": "stdout",
     "output_type": "stream",
     "text": [
      "88\n",
      "88\n",
      "Verified Test/Prediction lengths OK : True\n",
      "Testing 20001 steps\n",
      "Wikipedia : Scores = (0.5684210526315789, 0.6254826254826256, 0.5359801488833746, None), Best T. = 0.023000000000000007\n",
      "94\n",
      "94\n",
      "Verified Test/Prediction lengths OK : True\n",
      "Testing 20001 steps\n",
      "WikiNews : Scores = (0.5342730790491984, 0.5391414141414141, 0.4132334581772784, None), Best T. = -0.1\n",
      "262\n",
      "262\n",
      "Verified Test/Prediction lengths OK : True\n",
      "Testing 20001 steps\n",
      "News : Scores = (0.5807453416149069, 0.6183252427184466, 0.5616188724881136, None), Best T. = 0.001920000000000005\n"
     ]
    }
   ],
   "source": [
    "with warnings.catch_warnings():\n",
    "    warnings.simplefilter(\"ignore\")\n",
    "    # Wikipedia\n",
    "    y_true, prediction = compute_y_test_and_predictions(lexicons[0], datasets[0])\n",
    "    scores_wiki, best_t_wiki = search_best_threshold(y_true, prediction)\n",
    "    print('Wikipedia : Scores = {}, Best T. = {}'.format(scores_wiki, best_t_wiki))\n",
    "\n",
    "    # WikiNews\n",
    "    y_true, prediction = compute_y_test_and_predictions(lexicons[1], datasets[1])\n",
    "    scores_wikinews, best_t_wikinews = search_best_threshold(y_true, prediction)\n",
    "    print('WikiNews : Scores = {}, Best T. = {}'.format(scores_wikinews, best_t_wikinews))\n",
    "\n",
    "    # News\n",
    "    y_true, prediction = compute_y_test_and_predictions(lexicons[2], datasets[2])\n",
    "    scores_news, best_t_news = search_best_threshold(y_true, prediction)\n",
    "    print('News : Scores = {}, Best T. = {}'.format(scores_news, best_t_news))"
   ]
  },
  {
   "cell_type": "code",
   "execution_count": 180,
   "metadata": {},
   "outputs": [
    {
     "name": "stderr",
     "output_type": "stream",
     "text": [
      "C:\\Users\\Studio\\Anaconda3\\lib\\site-packages\\scipy\\stats\\stats.py:1626: FutureWarning: Using a non-tuple sequence for multidimensional indexing is deprecated; use `arr[tuple(seq)]` instead of `arr[seq]`. In the future this will be interpreted as an array index, `arr[np.array(seq)]`, which will result either in an error or a different result.\n",
      "  return np.add.reduce(sorted[indexer] * weights, axis=axis) / sumval\n"
     ]
    },
    {
     "data": {
      "image/png": "[encoded data removed]",
      "text/plain": [
       "<Figure size 432x288 with 1 Axes>"
      ]
     },
     "metadata": {},
     "output_type": "display_data"
    }
   ],
   "source": [
    "import seaborn as sns, numpy as np\n",
    "import matplotlib.pyplot as plt\n",
    "sns.set(style=\"darkgrid\")\n",
    "np.random.seed(0)\n",
    "x = np.array([score for word, score in lexicon.items()])\n",
    "ax = sns.distplot(x)\n",
    "plt.show(ax)"
   ]
  },
  {
   "cell_type": "code",
   "execution_count": 224,
   "metadata": {
    "collapsed": true
   },
   "outputs": [],
   "source": [
    "pairs = [construct_pairs(lexicon.lexicon, ds.test)\n",
    "            for lexicon in lexicons \n",
    "            for ds in datasets if lexicon.name == ds.name][0]"
   ]
  },
  {
   "cell_type": "code",
   "execution_count": 225,
   "metadata": {},
   "outputs": [
    {
     "name": "stdout",
     "output_type": "stream",
     "text": [
      "694\n",
      "694\n"
     ]
    },
    {
     "data": {
      "text/plain": [
       "0.7403055229142186"
      ]
     },
     "execution_count": 225,
     "metadata": {},
     "output_type": "execute_result"
    }
   ],
   "source": [
    "import numpy\n",
    "from sklearn.metrics import f1_score\n",
    "\n",
    "y_true = [pair[1] for pair in pairs]\n",
    "prediction = [pair[2] for pair in pairs]\n",
    "numpy.corrcoef(y_true, prediction)[0, 1]\n",
    "f1_score(y_true, list(map(lambda val: 1 if val>-0.7 else 0, prediction)))"
   ]
  },
  {
   "cell_type": "markdown",
   "metadata": {},
   "source": [
    "### (4.4) MWE with Complexity Score Aggregation no reference term (weighted seeds)"
   ]
  },
  {
   "cell_type": "code",
   "execution_count": 323,
   "metadata": {},
   "outputs": [
    {
     "name": "stdout",
     "output_type": "stream",
     "text": [
      "False\n",
      "-----------------------------------------\n",
      "-----------------------------------------\n",
      "Dataset :Wikipedia\n",
      "---------Training Targets----------------\n",
      "Targets complex : 2019\n",
      "Target non-complex : 1558\n",
      "---------Testing Seeds----------------\n",
      "Target test : 694\n",
      "Missing vocab in models : 201.0 / 4.7061578084757665%\n",
      "Epoch 1 : Se_l_size = 1558, Se_r_size = 2019\n",
      "0|5380:0.0%   500|5380:0.09293680297397769%   1000|5380:0.18587360594795538%   1500|5380:0.2788104089219331%   2000|5380:0.37174721189591076%   2500|5380:0.4646840148698885%   3000|5380:0.5576208178438662%   3500|5380:0.6505576208178439%   4000|5380:0.7434944237918215%   4500|5380:0.8364312267657993%   5000|5380:0.929368029739777%   "
     ]
    }
   ],
   "source": [
    "import pandas as pd\n",
    "from ngram_representation import missing_strat_random\n",
    "from ngram_representation import ngram_repr_bow_mean\n",
    "from ngram_representation import ngram_repr_bow_max\n",
    "from ngram_representation import ngram_repr_bow_min\n",
    "from ngram_representation import ngram_repr_wiki_weighted_bow\n",
    "\n",
    "\n",
    "# Get the basic seeds for complex and non_complex words\n",
    "# Group targets into complex and non-complex and flatten MWE\n",
    "targets_train = [(ds.name, build_weighted_vocabulary(ds.train)) for ds in datasets]\n",
    "seeds_complex = [(name, [word for word, score in vocab.items() if score == 1]) for name, vocab in targets_train]\n",
    "seeds_non_complex = [(name, [word for word, score in vocab.items() if score == 0]) for name, vocab in targets_train]\n",
    "\n",
    "lexicons = []\n",
    "# Parameters for lexicon construction\n",
    "epochs=1\n",
    "thresh_l=-0.5\n",
    "thresh_r=0.5\n",
    "agg_embed=False\n",
    "embedding_sim = ngram_embedding_similarity\n",
    "ngram_repr = ngram_repr_bow_max\n",
    "missing_strat = missing_strat_random\n",
    "model = [model.model for model in models]\n",
    "data = [datasets[0]]\n",
    "\n",
    "for ds in data:\n",
    "    t_complex = [seeds for name, seeds in seeds_complex if name == ds.name][0]\n",
    "    t_non_complex = [seeds for name, seeds in seeds_non_complex if name == ds.name][0]\n",
    "    t_test = [d.test.target.tolist() for d in datasets \n",
    "              if d.name == ds.name][0]\n",
    "    t_test = [mwe.strip().lower() for mwe in t_test]\n",
    "    vocabulary = []\n",
    "    vocabulary.extend(t_complex)\n",
    "    vocabulary.extend(t_non_complex)\n",
    "    vocabulary.extend(t_test)\n",
    "    print('and' in vocabulary)\n",
    "    print('-----------------------------------------')\n",
    "    print('-----------------------------------------')\n",
    "    print('Dataset :{}'.format(ds.name))\n",
    "    print('---------Training Targets----------------')\n",
    "    print('Targets complex : {}'.format(len(t_complex)))\n",
    "    print('Target non-complex : {}'.format(len(t_non_complex)))\n",
    "    print('---------Testing Seeds----------------')\n",
    "    print('Target test : {}'.format(len(t_test)))\n",
    "    lexicon = bootstrap_lexicon_average_no_ref(model, vocabulary, t_non_complex, t_complex, \\\n",
    "                  embedding_sim=embedding_sim, \\\n",
    "                  missing_strat=missing_strat, \\\n",
    "                  ngram_repr=ngram_repr, agg_embed=agg_embed, epochs=epochs, \\\n",
    "                  thresh_l=thresh_l, thresh_r=thresh_r)\n",
    "    lexicons.append(Lexicon(ds.name, epochs, thresh_l, thresh_r, agg_embed, lexicon))"
   ]
  },
  {
   "cell_type": "code",
   "execution_count": 324,
   "metadata": {},
   "outputs": [
    {
     "name": "stderr",
     "output_type": "stream",
     "text": [
      "C:\\Users\\Studio\\Anaconda3\\lib\\site-packages\\scipy\\stats\\stats.py:1626: FutureWarning: Using a non-tuple sequence for multidimensional indexing is deprecated; use `arr[tuple(seq)]` instead of `arr[seq]`. In the future this will be interpreted as an array index, `arr[np.array(seq)]`, which will result either in an error or a different result.\n",
      "  return np.add.reduce(sorted[indexer] * weights, axis=axis) / sumval\n"
     ]
    },
    {
     "data": {
      "image/png": "[encoded data removed]",
      "text/plain": [
       "<Figure size 432x288 with 1 Axes>"
      ]
     },
     "metadata": {},
     "output_type": "display_data"
    }
   ],
   "source": [
    "import seaborn as sns, numpy as np\n",
    "import matplotlib.pyplot as plt\n",
    "sns.set(style=\"darkgrid\")\n",
    "np.random.seed(0)\n",
    "x = np.array([score for word, score in lexicon.items()])\n",
    "ax = sns.distplot(x)\n",
    "plt.show(ax)"
   ]
  },
  {
   "cell_type": "code",
   "execution_count": 325,
   "metadata": {
    "collapsed": true
   },
   "outputs": [],
   "source": [
    "pairs = [construct_pairs(lexicon.lexicon, ds.test)\n",
    "            for lexicon in lexicons \n",
    "            for ds in datasets if lexicon.name == ds.name][0]"
   ]
  },
  {
   "cell_type": "code",
   "execution_count": 326,
   "metadata": {},
   "outputs": [
    {
     "data": {
      "text/plain": [
       "0.7463768115942029"
      ]
     },
     "execution_count": 326,
     "metadata": {},
     "output_type": "execute_result"
    }
   ],
   "source": [
    "import numpy\n",
    "from sklearn.metrics import f1_score\n",
    "\n",
    "y_true = [pair[1] for pair in pairs]\n",
    "prediction = [pair[2] for pair in pairs]\n",
    "numpy.corrcoef(y_true, prediction)[0, 1]\n",
    "f1_score(y_true, list(map(lambda val: 1 if val>-0.7 else 0, prediction)))"
   ]
  },
  {
   "cell_type": "markdown",
   "metadata": {},
   "source": [
    "### (4.5) MWE with particular Model"
   ]
  },
  {
   "cell_type": "code",
   "execution_count": 335,
   "metadata": {},
   "outputs": [
    {
     "name": "stdout",
     "output_type": "stream",
     "text": [
      "False\n",
      "-----------------------------------------\n",
      "-----------------------------------------\n",
      "Dataset :Wikipedia\n",
      "---------Training Targets----------------\n",
      "Targets complex : 2019\n",
      "Target non-complex : 1558\n",
      "---------Testing Seeds----------------\n",
      "Target test : 694\n",
      "Missing vocab in models : 206.0 / 4.823226410676656%\n",
      "Epoch 1 : Se_l_size = 1558, Se_r_size = 2019\n",
      "0|5380:0.0%   500|5380:0.09293680297397769%   1000|5380:0.18587360594795538%   1500|5380:0.2788104089219331%   2000|5380:0.37174721189591076%   2500|5380:0.4646840148698885%   3000|5380:0.5576208178438662%   3500|5380:0.6505576208178439%   4000|5380:0.7434944237918215%   4500|5380:0.8364312267657993%   5000|5380:0.929368029739777%   "
     ]
    }
   ],
   "source": [
    "import pandas as pd\n",
    "from ngram_representation import missing_strat_random\n",
    "from ngram_representation import ngram_repr_bow_mean\n",
    "from ngram_representation import ngram_repr_bow_max\n",
    "from ngram_representation import ngram_repr_bow_min\n",
    "from ngram_representation import ngram_repr_wiki_weighted_bow\n",
    "\n",
    "\n",
    "# Get the basic seeds for complex and non_complex words\n",
    "# Group targets into complex and non-complex and flatten MWE\n",
    "targets_train = [(ds.name, build_weighted_vocabulary(ds.train)) for ds in datasets]\n",
    "seeds_complex = [(name, [word for word, score in vocab.items() if score == 1]) for name, vocab in targets_train]\n",
    "seeds_non_complex = [(name, [word for word, score in vocab.items() if score == 0]) for name, vocab in targets_train]\n",
    "\n",
    "lexicons = []\n",
    "# Parameters for lexicon construction\n",
    "epochs=1\n",
    "thresh_l=-0.5\n",
    "thresh_r=0.5\n",
    "agg_embed=False\n",
    "embedding_sim = ngram_embedding_similarity\n",
    "ngram_repr = ngram_repr_bow_max\n",
    "missing_strat = missing_strat_random\n",
    "model = [models[3].model]\n",
    "data = [datasets[0]]\n",
    "\n",
    "for ds in data:\n",
    "    t_complex = [seeds for name, seeds in seeds_complex if name == ds.name][0]\n",
    "    t_non_complex = [seeds for name, seeds in seeds_non_complex if name == ds.name][0]\n",
    "    t_test = [d.test.target.tolist() for d in datasets \n",
    "              if d.name == ds.name][0]\n",
    "    t_test = [mwe.strip().lower() for mwe in t_test]\n",
    "    vocabulary = []\n",
    "    vocabulary.extend(t_complex)\n",
    "    vocabulary.extend(t_non_complex)\n",
    "    vocabulary.extend(t_test)\n",
    "    print('and' in vocabulary)\n",
    "    print('-----------------------------------------')\n",
    "    print('-----------------------------------------')\n",
    "    print('Dataset :{}'.format(ds.name))\n",
    "    print('---------Training Targets----------------')\n",
    "    print('Targets complex : {}'.format(len(t_complex)))\n",
    "    print('Target non-complex : {}'.format(len(t_non_complex)))\n",
    "    print('---------Testing Seeds----------------')\n",
    "    print('Target test : {}'.format(len(t_test)))\n",
    "    lexicon = bootstrap_lexicon_average_no_ref(model, vocabulary, t_non_complex, t_complex, \\\n",
    "                  embedding_sim=embedding_sim, \\\n",
    "                  missing_strat=missing_strat, \\\n",
    "                  ngram_repr=ngram_repr, agg_embed=agg_embed, epochs=epochs, \\\n",
    "                  thresh_l=thresh_l, thresh_r=thresh_r)\n",
    "    lexicons.append(Lexicon(ds.name, epochs, thresh_l, thresh_r, agg_embed, lexicon))"
   ]
  },
  {
   "cell_type": "code",
   "execution_count": 336,
   "metadata": {},
   "outputs": [
    {
     "name": "stderr",
     "output_type": "stream",
     "text": [
      "C:\\Users\\Studio\\Anaconda3\\lib\\site-packages\\scipy\\stats\\stats.py:1626: FutureWarning: Using a non-tuple sequence for multidimensional indexing is deprecated; use `arr[tuple(seq)]` instead of `arr[seq]`. In the future this will be interpreted as an array index, `arr[np.array(seq)]`, which will result either in an error or a different result.\n",
      "  return np.add.reduce(sorted[indexer] * weights, axis=axis) / sumval\n"
     ]
    },
    {
     "data": {
      "image/png": "[encoded data removed]",
      "text/plain": [
       "<Figure size 432x288 with 1 Axes>"
      ]
     },
     "metadata": {},
     "output_type": "display_data"
    }
   ],
   "source": [
    "import seaborn as sns, numpy as np\n",
    "import matplotlib.pyplot as plt\n",
    "sns.set(style=\"darkgrid\")\n",
    "np.random.seed(0)\n",
    "x = np.array([score for word, score in lexicon.items()])\n",
    "ax = sns.distplot(x)\n",
    "plt.show(ax)"
   ]
  },
  {
   "cell_type": "code",
   "execution_count": 337,
   "metadata": {
    "collapsed": true
   },
   "outputs": [],
   "source": [
    "pairs = [construct_pairs(lexicon.lexicon, ds.test)\n",
    "            for lexicon in lexicons \n",
    "            for ds in datasets if lexicon.name == ds.name][0]"
   ]
  },
  {
   "cell_type": "code",
   "execution_count": 338,
   "metadata": {},
   "outputs": [
    {
     "data": {
      "text/plain": [
       "0.7463768115942029"
      ]
     },
     "execution_count": 338,
     "metadata": {},
     "output_type": "execute_result"
    }
   ],
   "source": [
    "import numpy\n",
    "from sklearn.metrics import f1_score\n",
    "\n",
    "y_true = [pair[1] for pair in pairs]\n",
    "prediction = [pair[2] for pair in pairs]\n",
    "numpy.corrcoef(y_true, prediction)[0, 1]\n",
    "f1_score(y_true, list(map(lambda val: 1 if val>-1 else 0, prediction)))"
   ]
  }
 ],
 "metadata": {
  "kernelspec": {
   "display_name": "Python 3",
   "language": "python",
   "name": "python3"
  },
  "language_info": {
   "codemirror_mode": {
    "name": "ipython",
    "version": 3
   },
   "file_extension": ".py",
   "mimetype": "text/x-python",
   "name": "python",
   "nbconvert_exporter": "python",
   "pygments_lexer": "ipython3",
   "version": "3.6.5"
  }
 },
 "nbformat": 4,
 "nbformat_minor": 2
}
