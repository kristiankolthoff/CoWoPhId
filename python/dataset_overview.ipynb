{
 "cells": [
  {
   "cell_type": "markdown",
   "metadata": {},
   "source": [
    "# (1) Load Data"
   ]
  },
  {
   "cell_type": "code",
   "execution_count": 1,
   "metadata": {},
   "outputs": [],
   "source": [
    "import pandas as pd\n",
    "import numpy as np\n",
    "import matplotlib.pyplot as plt\n",
    "from nltk.corpus import wordnet as wn\n",
    "from nltk.corpus import sentiwordnet as swn\n",
    "from nltk.wsd import lesk\n",
    "import nltk\n",
    "\n",
    "pd.set_option('display.max_columns', 500)\n",
    "pd.set_option('display.max_colwidth', 200)\n",
    "pd.set_option('display.max_rows', 500)"
   ]
  },
  {
   "cell_type": "code",
   "execution_count": 2,
   "metadata": {},
   "outputs": [],
   "source": [
    "from collections import namedtuple\n",
    "from collections import defaultdict\n",
    "\n",
    "Dataset = namedtuple('Dataset', 'name, train, test')"
   ]
  },
  {
   "cell_type": "code",
   "execution_count": 3,
   "metadata": {},
   "outputs": [],
   "source": [
    "from nltk import word_tokenize\n",
    "\n",
    "columns = ['id', 'sentence', \"start\", \"end\", \"target\", \n",
    "           \"nat\", \"non_nat\", \"nat_marked\", \"non_nat_marked\", \"binary\", \"prob\"]\n",
    "\n",
    "def load_df(path, d_type, header):\n",
    "    df = pd.read_csv(path, header=header, sep = \"\\t\")\n",
    "    if len(df.columns) == len(columns):\n",
    "        df.columns = columns\n",
    "    if d_type == 'word':\n",
    "        df = df.loc[df.target.map(lambda target : len(word_tokenize(target)))<=1,]\n",
    "    elif d_type == 'phrase':\n",
    "        df = df.loc[df.target.map(lambda target : len(word_tokenize(target)))>1,]\n",
    "    return df\n",
    "\n",
    "def load_datasets(names, train_name, test_name, type_train = None, type_test = None, header=None):\n",
    "    MAIN_PATH_DATASET = \"../cwishareddataset/traindevset/english/\"\n",
    "    datasets = [Dataset(name, load_df(MAIN_PATH_DATASET + name + '_' + train_name + '.tsv', type_train, header),\n",
    "                              load_df(MAIN_PATH_DATASET + name + '_' + test_name + '.tsv', type_test, header))\n",
    "                              for name in names]\n",
    "    return datasets"
   ]
  },
  {
   "cell_type": "markdown",
   "metadata": {},
   "source": [
    "# (2) Preprocessing"
   ]
  },
  {
   "cell_type": "code",
   "execution_count": 4,
   "metadata": {},
   "outputs": [],
   "source": [
    "from nltk.stem.wordnet import *\n",
    "from nltk import word_tokenize\n",
    "from functools import lru_cache\n",
    "from utils import penn_to_wn\n",
    "import re\n",
    "import unicodedata\n",
    "import sys\n",
    "\n",
    "wordNetLemmatizer = WordNetLemmatizer()\n",
    "\n",
    "def overlaps(start1, end1, start2, end2):\n",
    "    return bool(range(max(start1, start2), min(end1, end2)+1))\n",
    "\n",
    "tbl = dict.fromkeys(i for i in range(sys.maxunicode)\n",
    "                      if unicodedata.category(chr(i)).startswith('P'))\n",
    "\n",
    "def remove_punctuation(text):\n",
    "    return text.translate(tbl)\n",
    "\n",
    "def ratio_non_alpha(target):\n",
    "    return 1 - (np.sum([1 for letter in target if (ord(letter)>=65 and ord(letter)<=90) \n",
    "             or (ord(letter)>=97 and ord(letter)<=122)]) / len(target))\n",
    "\n",
    "@lru_cache(maxsize=None)\n",
    "def targets_with_index(start, end, context):\n",
    "    curr_pos = 0\n",
    "    targets = []\n",
    "    j = 0\n",
    "    w = 0\n",
    "    curr_split = ''\n",
    "    ctx_split = context.split()\n",
    "    whitespaces = re.findall('\\s+', context)\n",
    "    num_whitespaces = [len(token) for token in whitespaces]\n",
    "    num_whitespaces.append(1)\n",
    "    tokens = word_tokenize(context)\n",
    "    tokens = ['\"' if token not in context else token for token in tokens]\n",
    "    for index, token in enumerate(tokens, 1):\n",
    "        targets.append((token, index, curr_pos, (curr_pos + len(token))))\n",
    "        curr_pos += len(token)\n",
    "        curr_split += token\n",
    "        if ctx_split[j] == curr_split:\n",
    "            curr_pos += num_whitespaces[w]\n",
    "            j += 1\n",
    "            w += 1\n",
    "            curr_split = ''\n",
    "    vals = [(target[0], target[1]) for target in targets \\\n",
    "            if overlaps(start, end, target[2], target[3])]\n",
    "    return [val for val in vals if val[0] != '\"']\n",
    "\n",
    "@lru_cache(maxsize=None)\n",
    "def wordnet_pos_tagging(sentence):\n",
    "    tokens = word_tokenize(sentence)\n",
    "    return nltk.pos_tag(tokens)\n",
    "\n",
    "def pos_tags(start, end, target, sentence):\n",
    "    wordPOSPairs = wordnet_pos_tagging(sentence)\n",
    "    targets_index = targets_with_index(start, end, sentence)\n",
    "    results = [wordPOSPairs[tpl[1]-1][1] for tpl in targets_index]\n",
    "    filtered_results = [result for result in results \n",
    "                        if remove_punctuation(result).strip() and result != 'POS']\n",
    "    if len(nltk.word_tokenize(target)) != len(filtered_results):\n",
    "            return ['n' for word in target.split()]\n",
    "    return filtered_results if len(filtered_results) > 0 else None\n",
    "\n",
    "def wordnet_lemma(target, pos):\n",
    "    #tokens = nltk.word_tokenize(target)\n",
    "    tokens = target.split()\n",
    "    if pos:\n",
    "        if len(pos) != len(tokens):\n",
    "            return target\n",
    "        pos = [penn_to_wn(poss) if penn_to_wn(poss) else 'n' for poss in pos]\n",
    "        lemmas = [wordNetLemmatizer.lemmatize(token, poss)\n",
    "                     for token, poss in zip(tokens, pos)]\n",
    "        return ' '.join(lemmas)\n",
    "    return target\n",
    "\n",
    "def preprocessing(dataframe):\n",
    "    df = dataframe.copy()\n",
    "    df['sentence'] = df.sentence.apply(lambda sent : sent.replace(\"''\", \"``\"))\n",
    "    df['p_target'] = df.target.apply(lambda target : target.strip().lower())\n",
    "    df['pos_tags'] = df[['start', 'end', 'target', 'sentence']].apply(lambda vals : pos_tags(*vals), axis = 1)\n",
    "    df['pos_tags_pt'] = df.pos_tags.apply(lambda pos : [penn_to_wn(poss) if penn_to_wn(poss) else 'n' for poss in pos] \n",
    "                                          if pos else [])\n",
    "    df['lemma'] = df[['target', 'pos_tags']].apply(lambda vals : wordnet_lemma(*vals), axis = 1)\n",
    "    df['p_lemma'] = df.lemma.apply(lambda lemma : lemma.strip().lower())\n",
    "    return df"
   ]
  },
  {
   "cell_type": "code",
   "execution_count": 5,
   "metadata": {},
   "outputs": [],
   "source": [
    "def preprocess_datasets(datasets):\n",
    "    return [Dataset(ds.name, preprocessing(ds.train), \n",
    "                             preprocessing(ds.test)) \n",
    "                             for ds in datasets]"
   ]
  },
  {
   "cell_type": "code",
   "execution_count": 161,
   "metadata": {},
   "outputs": [],
   "source": [
    "def extract_stats_from_df(dataframe):\n",
    "    rows = dataframe.shape[0]\n",
    "    num_sents = len(dataframe.sentence.unique())\n",
    "    num_nc = dataframe.groupby('binary').size()[0]\n",
    "    num_c = dataframe.groupby('binary').size()[1]\n",
    "    c_ratio = num_c / (num_c + num_nc)\n",
    "    return rows, num_sents, num_nc, num_c, c_ratio\n",
    "    \n",
    "def extract_overlapping_num(dataframe1, dataframe2):\n",
    "    words1 = set([word for val in dataframe1.p_target.values for word in val.split()])\n",
    "    words2 = set([word for val in dataframe2.p_target.values for word in val.split()])\n",
    "    intersection = words1.intersection(words2)\n",
    "    union = words1.union(words2)\n",
    "    return len(intersection) / len(union)\n",
    "\n",
    "def extract_stats_for_datasets(datasets):\n",
    "    for ds in datasets:\n",
    "        print(ds.name)\n",
    "        rows, num_sents, num_nc, num_c, c_ratio = extract_stats_from_df(ds.train)\n",
    "        print('Training : #rows : {}, #sent. : {}, #c : {}, c_ratio : {}'.format(rows, num_sents, num_c, c_ratio))\n",
    "        rows, num_sents, num_nc, num_c, c_ratio = extract_stats_from_df(ds.test)\n",
    "        print('Testing : #rows : {}, #sent. : {}, #c : {}, c_ratio : {}'.format(rows, num_sents, num_c, c_ratio))\n",
    "\n",
    "def extract_overlapping_datasets(datasets_dev, datasets_test):\n",
    "    for index, ds in enumerate(datasets_dev):\n",
    "        print(ds.name)\n",
    "        print('OL Train-to-Train : {}'.format(extract_overlapping_num(ds.train, ds.train)))\n",
    "        print('OL Train-to-Dev : {}'.format(extract_overlapping_num(ds.train, ds.test)))\n",
    "        print('OL Train-to-Test : {}'.format(extract_overlapping_num(ds.train, datasets_test[index].test)))"
   ]
  },
  {
   "cell_type": "markdown",
   "metadata": {},
   "source": [
    "# (3.1) DS-W"
   ]
  },
  {
   "cell_type": "code",
   "execution_count": 163,
   "metadata": {},
   "outputs": [],
   "source": [
    "datasets_w_train_dev = load_datasets(['Wikipedia', 'WikiNews', 'News'], 'Train', 'Dev', type_train='word', type_test='word')\n",
    "datasets_w_train_dev = preprocess_datasets(datasets_w_train_dev)\n",
    "\n",
    "datasets_w_train_test = load_datasets(['Wikipedia', 'WikiNews', 'News'], 'Train', 'Test', type_train='word', type_test='word')\n",
    "datasets_w_train_test= preprocess_datasets(datasets_w_train_test)"
   ]
  },
  {
   "cell_type": "code",
   "execution_count": 164,
   "metadata": {},
   "outputs": [
    {
     "name": "stdout",
     "output_type": "stream",
     "text": [
      "-----------------------------------------------------------\n",
      "Training and Dev\n",
      "-----------------------------------------------------------\n",
      "Wikipedia\n",
      "Training : #rows : 4833, #sent. : 387, #c : 1911, c_ratio : 0.3954065797641217\n",
      "Testing : #rows : 606, #sent. : 53, #c : 265, c_ratio : 0.4372937293729373\n",
      "WikiNews\n",
      "Training : #rows : 6779, #sent. : 653, #c : 2492, c_ratio : 0.367605841569553\n",
      "Testing : #rows : 776, #sent. : 85, #c : 281, c_ratio : 0.36211340206185566\n",
      "News\n",
      "Training : #rows : 11944, #sent. : 946, #c : 3887, c_ratio : 0.32543536503683856\n",
      "Testing : #rows : 1502, #sent. : 128, #c : 490, c_ratio : 0.3262316910785619\n",
      "-----------------------------------------------------------\n",
      "Training and Test\n",
      "-----------------------------------------------------------\n",
      "Wikipedia\n",
      "Training : #rows : 4833, #sent. : 387, #c : 1911, c_ratio : 0.3954065797641217\n",
      "Testing : #rows : 750, #sent. : 61, #c : 341, c_ratio : 0.45466666666666666\n",
      "WikiNews\n",
      "Training : #rows : 6779, #sent. : 653, #c : 2492, c_ratio : 0.367605841569553\n",
      "Testing : #rows : 1138, #sent. : 105, #c : 431, c_ratio : 0.37873462214411246\n",
      "News\n",
      "Training : #rows : 11944, #sent. : 946, #c : 3887, c_ratio : 0.32543536503683856\n",
      "Testing : #rows : 1813, #sent. : 172, #c : 574, c_ratio : 0.3166023166023166\n",
      "-----------------------------------------------------------\n",
      "Wikipedia\n",
      "OL Train-to-Train : 1.0\n",
      "OL Train-to-Dev : 0.07040913415794481\n",
      "OL Train-to-Test : 0.08918406072106262\n",
      "WikiNews\n",
      "OL Train-to-Train : 1.0\n",
      "OL Train-to-Dev : 0.10137972405518897\n",
      "OL Train-to-Test : 0.13784021071115013\n",
      "News\n",
      "OL Train-to-Train : 1.0\n",
      "OL Train-to-Dev : 0.21445497630331753\n",
      "OL Train-to-Test : 0.22039473684210525\n"
     ]
    }
   ],
   "source": [
    "print('-----------------------------------------------------------')\n",
    "print('Training and Dev')\n",
    "print('-----------------------------------------------------------')\n",
    "extract_stats_for_datasets(datasets_w_train_dev)\n",
    "print('-----------------------------------------------------------')\n",
    "print('Training and Test')\n",
    "print('-----------------------------------------------------------')\n",
    "extract_stats_for_datasets(datasets_w_train_test)\n",
    "print('-----------------------------------------------------------')\n",
    "extract_overlapping_datasets(datasets_w_train_dev, datasets_w_train_test)"
   ]
  },
  {
   "cell_type": "markdown",
   "metadata": {},
   "source": [
    "# (3.2) DS-P"
   ]
  },
  {
   "cell_type": "code",
   "execution_count": 165,
   "metadata": {},
   "outputs": [],
   "source": [
    "datasets_p_train_dev = load_datasets(['Wikipedia', 'WikiNews', 'News'], 'Train', 'Dev', type_train='phrase', type_test='phrase')\n",
    "datasets_p_train_dev = preprocess_datasets(datasets_p_train_dev)\n",
    "\n",
    "datasets_p_train_test = load_datasets(['Wikipedia', 'WikiNews', 'News'], 'Train', 'Test', type_train='phrase', type_test='phrase')\n",
    "datasets_p_train_test= preprocess_datasets(datasets_p_train_test)"
   ]
  },
  {
   "cell_type": "code",
   "execution_count": 166,
   "metadata": {},
   "outputs": [
    {
     "name": "stdout",
     "output_type": "stream",
     "text": [
      "-----------------------------------------------------------\n",
      "Training and Dev\n",
      "-----------------------------------------------------------\n",
      "Wikipedia\n",
      "Training : #rows : 718, #sent. : 320, #c : 583, c_ratio : 0.8119777158774373\n",
      "Testing : #rows : 88, #sent. : 38, #c : 74, c_ratio : 0.8409090909090909\n",
      "WikiNews\n",
      "Training : #rows : 967, #sent. : 445, #c : 724, c_ratio : 0.7487073422957601\n",
      "Testing : #rows : 94, #sent. : 49, #c : 72, c_ratio : 0.7659574468085106\n",
      "News\n",
      "Training : #rows : 2058, #sent. : 758, #c : 1656, c_ratio : 0.8046647230320699\n",
      "Testing : #rows : 262, #sent. : 101, #c : 206, c_ratio : 0.7862595419847328\n",
      "-----------------------------------------------------------\n",
      "Training and Test\n",
      "-----------------------------------------------------------\n",
      "Wikipedia\n",
      "Training : #rows : 718, #sent. : 320, #c : 583, c_ratio : 0.8119777158774373\n",
      "Testing : #rows : 120, #sent. : 48, #c : 98, c_ratio : 0.8166666666666667\n",
      "WikiNews\n",
      "Training : #rows : 967, #sent. : 445, #c : 724, c_ratio : 0.7487073422957601\n",
      "Testing : #rows : 149, #sent. : 71, #c : 115, c_ratio : 0.7718120805369127\n",
      "News\n",
      "Training : #rows : 2058, #sent. : 758, #c : 1656, c_ratio : 0.8046647230320699\n",
      "Testing : #rows : 282, #sent. : 124, #c : 228, c_ratio : 0.8085106382978723\n",
      "-----------------------------------------------------------\n",
      "Wikipedia\n",
      "OL Train-to-Train : 1.0\n",
      "OL Train-to-Dev : 0.03560126582278481\n",
      "OL Train-to-Test : 0.05046583850931677\n",
      "WikiNews\n",
      "OL Train-to-Train : 1.0\n",
      "OL Train-to-Dev : 0.04213298222514812\n",
      "OL Train-to-Test : 0.06525911708253358\n",
      "News\n",
      "OL Train-to-Train : 1.0\n",
      "OL Train-to-Dev : 0.14204837879567678\n",
      "OL Train-to-Test : 0.1485148514851485\n"
     ]
    }
   ],
   "source": [
    "print('-----------------------------------------------------------')\n",
    "print('Training and Dev')\n",
    "print('-----------------------------------------------------------')\n",
    "extract_stats_for_datasets(datasets_p_train_dev)\n",
    "print('-----------------------------------------------------------')\n",
    "print('Training and Test')\n",
    "print('-----------------------------------------------------------')\n",
    "extract_stats_for_datasets(datasets_p_train_test)\n",
    "print('-----------------------------------------------------------')\n",
    "extract_overlapping_datasets(datasets_p_train_dev, datasets_p_train_test)"
   ]
  },
  {
   "cell_type": "code",
   "execution_count": 137,
   "metadata": {},
   "outputs": [],
   "source": [
    "import seaborn as sns\n",
    "import pandas as pd\n",
    "import matplotlib.pyplot as plt\n",
    "import matplotlib\n",
    "\n",
    "def plot_phrase_length_distribution(train, test, name):\n",
    "    train_test = train.append(test)\n",
    "    train_test['phrase_length'] = train_test.target.apply(lambda val : len(word_tokenize(val)))\n",
    "\n",
    "    \n",
    "    sns.set(style=\"darkgrid\", palette=\"GnBu_d\")\n",
    "    ax1 = sns.countplot(x=\"phrase_length\", hue=\"binary\", data=train_test)\n",
    "    handles, _ = ax1.get_legend_handles_labels()\n",
    "    ax1.tick_params(axis='x', labelsize=18)\n",
    "    ax1.tick_params(axis='y', labelsize=18)\n",
    "    ax1.yaxis.label.set_size(18)\n",
    "    ax1.xaxis.label.set_size(18)\n",
    "    ax1.legend(handles, [\"non-complex\", \"complex\"], title='$\\\\bf{Class}$')\n",
    "    #ax1.legend_.set_size(18)\n",
    "    ax1.figure.set_size_inches(7, 5.5)\n",
    "    ax1.set_title('$\\\\bf{'+name+'}$')\n",
    "    plt.tight_layout()\n",
    "    plt.show(ax1)\n",
    "    figure = ax1.get_figure()\n",
    "    figure.savefig('../plots/{}_phrase_dist.png'.format(name), dpi=900)"
   ]
  },
  {
   "cell_type": "code",
   "execution_count": 138,
   "metadata": {},
   "outputs": [
    {
     "data": {
      "image/png": "[encoded data removed]",
      "text/plain": [
       "<Figure size 504x396 with 1 Axes>"
      ]
     },
     "metadata": {},
     "output_type": "display_data"
    }
   ],
   "source": [
    "# Wikipedia \n",
    "plot_phrase_length_distribution(datasets_p_train_dev[0].train, datasets_p_train_dev[0].test, 'Wikipedia')"
   ]
  },
  {
   "cell_type": "code",
   "execution_count": 139,
   "metadata": {},
   "outputs": [
    {
     "data": {
      "image/png": "[encoded data removed]",
      "text/plain": [
       "<Figure size 504x396 with 1 Axes>"
      ]
     },
     "metadata": {},
     "output_type": "display_data"
    }
   ],
   "source": [
    "# WikiNews\n",
    "plot_phrase_length_distribution(datasets_p_train_dev[1].train, datasets_p_train_dev[1].test, 'WikiNews')"
   ]
  },
  {
   "cell_type": "code",
   "execution_count": 140,
   "metadata": {},
   "outputs": [
    {
     "data": {
      "image/png": "[encoded data removed]",
      "text/plain": [
       "<Figure size 504x396 with 1 Axes>"
      ]
     },
     "metadata": {},
     "output_type": "display_data"
    }
   ],
   "source": [
    "#News\n",
    "plot_phrase_length_distribution(datasets_p_train_dev[2].train, datasets_p_train_dev[2].test, 'News')"
   ]
  },
  {
   "cell_type": "markdown",
   "metadata": {},
   "source": [
    "# (3.3) DS-WP"
   ]
  },
  {
   "cell_type": "code",
   "execution_count": 167,
   "metadata": {},
   "outputs": [],
   "source": [
    "datasets_wp_train_dev = load_datasets(['Wikipedia', 'WikiNews', 'News'], 'Train', 'Dev', type_train='both', type_test='both')\n",
    "datasets_wp_train_dev = preprocess_datasets(datasets_wp_train_dev)\n",
    "\n",
    "datasets_wp_train_test = load_datasets(['Wikipedia', 'WikiNews', 'News'], 'Train', 'Test', type_train='both', type_test='both')\n",
    "datasets_wp_train_test= preprocess_datasets(datasets_wp_train_test)"
   ]
  },
  {
   "cell_type": "code",
   "execution_count": 168,
   "metadata": {},
   "outputs": [
    {
     "name": "stdout",
     "output_type": "stream",
     "text": [
      "-----------------------------------------------------------\n",
      "Training and Dev\n",
      "-----------------------------------------------------------\n",
      "Wikipedia\n",
      "Training : #rows : 5551, #sent. : 387, #c : 2494, c_ratio : 0.44928841650153123\n",
      "Testing : #rows : 694, #sent. : 53, #c : 339, c_ratio : 0.4884726224783862\n",
      "WikiNews\n",
      "Training : #rows : 7746, #sent. : 653, #c : 3216, c_ratio : 0.41518202943454685\n",
      "Testing : #rows : 870, #sent. : 85, #c : 353, c_ratio : 0.4057471264367816\n",
      "News\n",
      "Training : #rows : 14002, #sent. : 948, #c : 5543, c_ratio : 0.3958720182831024\n",
      "Testing : #rows : 1764, #sent. : 128, #c : 696, c_ratio : 0.3945578231292517\n",
      "-----------------------------------------------------------\n",
      "Training and Test\n",
      "-----------------------------------------------------------\n",
      "Wikipedia\n",
      "Training : #rows : 5551, #sent. : 387, #c : 2494, c_ratio : 0.44928841650153123\n",
      "Testing : #rows : 870, #sent. : 61, #c : 439, c_ratio : 0.5045977011494253\n",
      "WikiNews\n",
      "Training : #rows : 7746, #sent. : 653, #c : 3216, c_ratio : 0.41518202943454685\n",
      "Testing : #rows : 1287, #sent. : 105, #c : 546, c_ratio : 0.42424242424242425\n",
      "News\n",
      "Training : #rows : 14002, #sent. : 948, #c : 5543, c_ratio : 0.3958720182831024\n",
      "Testing : #rows : 2095, #sent. : 172, #c : 802, c_ratio : 0.38281622911694513\n",
      "-----------------------------------------------------------\n",
      "Wikipedia\n",
      "OL Train-to-Train : 1.0\n",
      "OL Train-to-Dev : 0.07291991274540355\n",
      "OL Train-to-Test : 0.08986318407960199\n",
      "WikiNews\n",
      "OL Train-to-Train : 1.0\n",
      "OL Train-to-Dev : 0.1018867924528302\n",
      "OL Train-to-Test : 0.13747165532879818\n",
      "News\n",
      "OL Train-to-Train : 1.0\n",
      "OL Train-to-Dev : 0.21565267066552413\n",
      "OL Train-to-Test : 0.22343794989922258\n"
     ]
    }
   ],
   "source": [
    "print('-----------------------------------------------------------')\n",
    "print('Training and Dev')\n",
    "print('-----------------------------------------------------------')\n",
    "extract_stats_for_datasets(datasets_wp_train_dev)\n",
    "print('-----------------------------------------------------------')\n",
    "print('Training and Test')\n",
    "print('-----------------------------------------------------------')\n",
    "extract_stats_for_datasets(datasets_wp_train_test)\n",
    "print('-----------------------------------------------------------')\n",
    "extract_overlapping_datasets(datasets_wp_train_dev, datasets_wp_train_test)"
   ]
  }
 ],
 "metadata": {
  "kernelspec": {
   "display_name": "Python 3",
   "language": "python",
   "name": "python3"
  },
  "language_info": {
   "codemirror_mode": {
    "name": "ipython",
    "version": 3
   },
   "file_extension": ".py",
   "mimetype": "text/x-python",
   "name": "python",
   "nbconvert_exporter": "python",
   "pygments_lexer": "ipython3",
   "version": "3.6.5"
  }
 },
 "nbformat": 4,
 "nbformat_minor": 2
}
