{
 "cells": [
  {
   "cell_type": "markdown",
   "metadata": {},
   "source": [
    "# (1.1) Load Datasets"
   ]
  },
  {
   "cell_type": "code",
   "execution_count": 1,
   "metadata": {
    "collapsed": true
   },
   "outputs": [],
   "source": [
    "import pandas as pd\n",
    "import numpy as np\n",
    "import matplotlib.pyplot as plt\n",
    "from nltk import word_tokenize"
   ]
  },
  {
   "cell_type": "code",
   "execution_count": 2,
   "metadata": {
    "collapsed": true
   },
   "outputs": [],
   "source": [
    "from collections import namedtuple\n",
    "from collections import defaultdict\n",
    "\n",
    "Dataset = namedtuple('Dataset', 'name, train, test')\n",
    "Model = namedtuple('Model', 'type, name, dimension, corpus, model')"
   ]
  },
  {
   "cell_type": "code",
   "execution_count": 3,
   "metadata": {
    "collapsed": true
   },
   "outputs": [],
   "source": [
    "pd.set_option('display.max_columns', 500)\n",
    "pd.set_option('display.max_colwidth', 200)\n",
    "MAIN_PATH_DATASET = \"../cwishareddataset/traindevset/english/\"\n",
    "genres = ['Wikipedia', 'WikiNews', 'News']\n",
    "datasets = ['Train', 'Dev']\n",
    "columns = ['id', 'sentence', \"start\", \"end\", \"target\", \n",
    "           \"nat\", \"non_nat\", \"nat_marked\", \"non_nat_marked\", \"binary\", \"prob\"]\n",
    "\n",
    "\n",
    "datasets = [Dataset('Wikipedia', 'Train', 'Dev'),\n",
    "            Dataset('WikiNews', 'Train', 'Dev'),\n",
    "            Dataset('News', 'Train', 'Dev')]\n",
    "\n",
    "feature_categories = []\n",
    "\n",
    "def load_df(path):\n",
    "    df = pd.read_csv(path, header=None, sep = \"\\t\")\n",
    "    df.columns = columns\n",
    "    return df\n",
    "\n",
    "datasets = [Dataset(d.name, load_df(MAIN_PATH_DATASET + d.name + '_' + d.train + '.tsv'),\n",
    "                            load_df(MAIN_PATH_DATASET + d.name + '_' + d.test + '.tsv'))\n",
    "                            for d in datasets]"
   ]
  },
  {
   "cell_type": "markdown",
   "metadata": {},
   "source": [
    "# (1.2) Load Embedding Models"
   ]
  },
  {
   "cell_type": "code",
   "execution_count": 4,
   "metadata": {},
   "outputs": [
    {
     "name": "stderr",
     "output_type": "stream",
     "text": [
      "C:\\Users\\Studio\\Anaconda3\\lib\\site-packages\\gensim\\utils.py:1209: UserWarning: detected Windows; aliasing chunkize to chunkize_serial\n",
      "  warnings.warn(\"detected Windows; aliasing chunkize to chunkize_serial\")\n"
     ]
    },
    {
     "name": "stdout",
     "output_type": "stream",
     "text": [
      "load model : glove.6B.50d.txt\n",
      "load model : glove.twitter.27B.50d.txt\n",
      "[Model(type='glove', name='glove.6B.50d.txt', dimension=50, corpus='wikipedia+gigaword5', model=<gensim.models.keyedvectors.Word2VecKeyedVectors object at 0x0000007EE1F77358>), Model(type='glove', name='glove.twitter.27B.50d.txt', dimension=50, corpus='twitter', model=<gensim.models.keyedvectors.Word2VecKeyedVectors object at 0x0000007EEF61D7B8>)]\n"
     ]
    }
   ],
   "source": [
    "from gensim.test.utils import datapath, get_tmpfile\n",
    "from gensim.models import KeyedVectors\n",
    "from gensim.scripts.glove2word2vec import glove2word2vec\n",
    "\n",
    "MAIN_PATH = 'D:/workspace_python/CoWoReId/python/resources/word-embeddings/'\n",
    "\n",
    "glove_defs = [#Model('glove', 'glove.42B.300d.txt', 300, 'cc42B', None),  \n",
    "              #Model('glove', 'glove.840B.300d.txt', 300, 'cc840B', None), \n",
    "              Model('glove', 'glove.6B.50d.txt', 50, 'wikipedia+gigaword5', None), \n",
    "              #Model('glove', 'glove.6B.100d.txt',100, 'wikipedia+gigaword5', None),\n",
    "              #Model('glove', 'glove.6B.200d.txt', 200, 'wikipedia+gigaword5', None), \n",
    "              #Model('glove', 'glove.6B.300d.txt', 300, 'wikipedia+gigaword5', None),\n",
    "              #Model('glove', 'glove.twitter.27B.25d.txt', 25, 'twitter', None)]\n",
    "              Model('glove', 'glove.twitter.27B.50d.txt', 50, 'twitter', None)] \n",
    "              #Model('glove', 'glove.twitter.27B.100d.txt', 100, 'twitter', None), \n",
    "              #Model('glove', 'glove.twitter.27B.200d.txt', 200, 'twitter', None)]\n",
    "\n",
    "glove_models = []\n",
    "for model in glove_defs:\n",
    "    glove_file = datapath(MAIN_PATH + model.name)\n",
    "    tmp_file = get_tmpfile(model.name + '-temp')\n",
    "    glove2word2vec(glove_file, tmp_file)\n",
    "    vecs = KeyedVectors.load_word2vec_format(tmp_file)\n",
    "    glove_models.append(Model(model.type, model.name, model.dimension, model.corpus, vecs))\n",
    "    print('load model : {}'.format(model.name))\n",
    "    \n",
    "print(glove_models)"
   ]
  },
  {
   "cell_type": "code",
   "execution_count": 11,
   "metadata": {
    "collapsed": true
   },
   "outputs": [],
   "source": [
    "models = []\n",
    "models.extend(glove_models)"
   ]
  },
  {
   "cell_type": "markdown",
   "metadata": {},
   "source": [
    "# (2.1) Preprocessing\n",
    "Here we present all the code to preprocess the data stored in a dataframe into a proper representation that can be used in sequence tagging models."
   ]
  },
  {
   "cell_type": "code",
   "execution_count": 35,
   "metadata": {
    "collapsed": true
   },
   "outputs": [],
   "source": [
    "from nltk import word_tokenize\n",
    "from functools import lru_cache\n",
    "from utils import penn_to_wn\n",
    "import re\n",
    "import unicodedata\n",
    "import sys\n",
    "from collections import Counter\n",
    "from ngram_representation import missing_strat_random\n",
    "\n",
    "def overlaps(start1, end1, start2, end2):\n",
    "    return bool(range(max(start1, start2), min(end1, end2)+1))\n",
    "\n",
    "tbl = dict.fromkeys(i for i in range(sys.maxunicode)\n",
    "                      if unicodedata.category(chr(i)).startswith('P'))\n",
    "\n",
    "def remove_punctuation(text):\n",
    "    return text.translate(tbl)\n",
    "\n",
    "@lru_cache(maxsize=None)\n",
    "def all_tokens_with_index(context):\n",
    "    '''\n",
    "    Receives a sentence denoted by context and applies tokenization\n",
    "    on the input. Each token is annotated with its word index starting\n",
    "    from 1 and the corresponding start and end character positions of \n",
    "    the word. Also applies some strategies to handle unproper formated\n",
    "    input sentence string such as removing additional whitespaces and \n",
    "    quotation marks that otherwise change the actual character start\n",
    "    and end positions. All results are cached in case it has to be computed\n",
    "    multiple times for the same sentence.\n",
    "    '''\n",
    "    curr_pos = 0\n",
    "    targets = []\n",
    "    j = 0\n",
    "    w = 0\n",
    "    curr_split = ''\n",
    "    ctx_split = context.split()\n",
    "    whitespaces = re.findall('\\s+', context)\n",
    "    num_whitespaces = [len(token) for token in whitespaces]\n",
    "    num_whitespaces.append(1)\n",
    "    tokens = word_tokenize(context)\n",
    "    tokens = ['\"' if token not in context else token for token in tokens]\n",
    "    for index, token in enumerate(tokens, 1):\n",
    "        targets.append((token, index, curr_pos, (curr_pos + len(token))))\n",
    "        curr_pos += len(token)\n",
    "        curr_split += token\n",
    "        if ctx_split[j] == curr_split:\n",
    "            curr_pos += num_whitespaces[w]\n",
    "            j += 1\n",
    "            w += 1\n",
    "            curr_split = ''\n",
    "    return [val for val in targets if val[0] != '\"']\n",
    "\n",
    "def build_vocabulary(sentences, embedding, dimension, \n",
    "                     missing='unique', provided = ['s_target', 'e_target']):\n",
    "    '''\n",
    "    Based on a list of sentences which are themselve represented\n",
    "    as a list of words, constructs a vocabulary of the words contained\n",
    "    and assigns unique indicies to the words. In particular, it returns \n",
    "    a map of indices to their words, a map of words to their indices\n",
    "    and based on the provided embedding model an embedding matrix\n",
    "    for the constructed vocabulary. For missing vocabulary, it \n",
    "    constructs a random embedding and a proper index is missing parameter\n",
    "    is set to 'unique', otherwise if it is set to 'equal' it creates\n",
    "    a random embedding for one special UNK embedding and neglects missing\n",
    "    vocabulary in the built index. All tokens in the 'provided' list,\n",
    "    receive under 'equal' mode still individual random embeddings.\n",
    "    '''\n",
    "    if missing not in ['unique', 'equal']:\n",
    "        raise ValueError(\"Parameter missing must be either 'equal' or 'unique'\")\n",
    "    all_words = [word for sentence in sentences for word in sentence]\n",
    "    print('# Words : {}'.format(len(all_words)))\n",
    "    counter = Counter(all_words)\n",
    "    index = 1\n",
    "    word2index = {}\n",
    "    for (word, count) in counter.most_common():\n",
    "        if (missing=='unique' or word in embedding.vocab):\n",
    "            word2index[word] = index\n",
    "            index += 1\n",
    "    word2index['_pad_'] = 0\n",
    "    if missing == 'equal':\n",
    "        word2index['_unk_'] = len(word2index)\n",
    "        for token in provided:\n",
    "            word2index[token] = len(word2index)\n",
    "    index2word = {index : word for word, index in word2index.items()}\n",
    "    vocab_size = len(word2index)\n",
    "    print('# Vocab : {}'.format(vocab_size))\n",
    "    embedding_matrix = np.zeros(((vocab_size), dimension))\n",
    "    embedding_matrix[0] = missing_strat_random('_pad_', dimension)\n",
    "    missing_embed_words = []\n",
    "    for word, index in word2index.items():\n",
    "        if word in embedding.vocab:\n",
    "            embedding_matrix[index] = embedding[word]\n",
    "        else:\n",
    "            embedding_matrix[index] = missing_strat_random(word, dimension)\n",
    "            missing_embed_words.append(word)\n",
    "    missing_embed_count = len(missing_embed_words)\n",
    "    print('# Words missing embedding : {}'.format(missing_embed_count))\n",
    "    print('Embedding shape : {}'.format(embedding_matrix.shape))\n",
    "    return word2index, index2word, embedding_matrix\n",
    "\n",
    "\n",
    "def build_char_vocabulary(sentences, embedding, dimension, \n",
    "                          missing='unique', provided = ['_']):\n",
    "    '''\n",
    "    Based on a list of sentences which are themselve represented\n",
    "    as a list of words, constructs a character vocabulary and provides\n",
    "    a mapping of unique indices to the found characters, a mapping of\n",
    "    the characters to their indicies and a character embedding matrix\n",
    "    where the i-th row represents the character embedding of the character\n",
    "    with index i. This is based on a provided character embedding, represented\n",
    "    as a dictionary. Provided tokens will be added as a single char to\n",
    "    the vocabulary.\n",
    "    '''\n",
    "    if missing not in ['unique', 'equal']:\n",
    "        raise ValueError(\"Parameter missing must be either 'equal' or 'unique'\")\n",
    "    all_chars = [char for sentence in sentences \n",
    "                 for word in sentence for char in word]\n",
    "    all_chars.extend(provided)\n",
    "    print('# Chars : {}'.format(len(all_chars)))\n",
    "    counter = Counter(all_chars)\n",
    "    index = 1\n",
    "    char2index = {}\n",
    "    for (char, count) in counter.most_common():\n",
    "        if (missing=='unique' or char in embedding.keys()):\n",
    "            char2index[char] = index\n",
    "            index += 1\n",
    "    char2index['_pad_'] = 0\n",
    "    if missing == 'equal':\n",
    "        char2index['_unk_'] = len(char2index)\n",
    "    index2char = {index : char for char, index in char2index.items()}\n",
    "    vocab_size = len(char2index)\n",
    "    print('# Vocab (chars) : {}'.format(vocab_size))\n",
    "    embedding_matrix = np.zeros(((vocab_size), dimension))\n",
    "    embedding_matrix[0] = missing_strat_random('_pad_', dimension)\n",
    "    missing_embed_chars = []\n",
    "    for char, index in char2index.items():\n",
    "        if char in embedding.keys():\n",
    "            embedding_matrix[index] = embedding[char]\n",
    "        else:\n",
    "            embedding_matrix[index] = missing_strat_random(char, dimension)\n",
    "            missing_embed_chars.append(char)\n",
    "    missing_embed_count = len(missing_embed_chars)\n",
    "    print('# Chars missing embedding : {}'.format(missing_embed_count))\n",
    "    print('Embedding shape : {}'.format(embedding_matrix.shape))\n",
    "    return char2index, index2char, embedding_matrix\n",
    "\n",
    "\n",
    "def compute_character_embeddings(embedding):\n",
    "    '''\n",
    "    Computes a character embedding as a dictionary of word to its\n",
    "    embedding based on a gensim word embedding. For each character,\n",
    "    averages the word embeddings containing the character as an\n",
    "    approximation to character-level embeddings.\n",
    "    '''\n",
    "    chars = {}\n",
    "    for word, vocab in embedding.vocab.items():\n",
    "        vector = embedding[word]\n",
    "        for char in word:\n",
    "            if ord(char)<128:\n",
    "                if char in chars:\n",
    "                    chars[char] = (chars[char][0]+vector, \n",
    "                                   chars[char][1]+1)\n",
    "                else:\n",
    "                    chars[char] = (vector, 1)\n",
    "    for char, (vector, num) in chars.items():\n",
    "        chars[char] = np.round(vector/num, 6).tolist()\n",
    "    return chars\n",
    "\n",
    "def forward_transformation(dataframe, lowercase = True, filter_punc = True, filtering = \"a132\"):\n",
    "    grouped = dataframe.groupby('sentence').apply(lambda row : \n",
    "                        {'sent_id' : list(set(row['sent_id']))[0],\n",
    "                         'sentence' : list(set(row['sentence']))[0], \n",
    "                         'tags': [tag for tag in zip(row['target'], \n",
    "                            row['start'], row['end'], row['binary'], row['prob'])]})\n",
    "    sentences = []\n",
    "    for vals in grouped:\n",
    "        sent_id = vals['sent_id']\n",
    "        sentence = vals['sentence']\n",
    "        tags = vals['tags']\n",
    "        tags_without_labels = [(word, start, end) for word, start, end, binary, prob in tags]\n",
    "        all_tokens = all_tokens_with_index(sentence)\n",
    "        sent_repr = [(word, start, end, tags[tags_without_labels.index((word, start, end))][3],\n",
    "                     tags[tags_without_labels.index((word, start, end))][4])\n",
    "           if (word, start, end) in tags_without_labels \n",
    "          else (word, start, end, 0, 0.0) for word, index, start, end in all_tokens]\n",
    "        if lowercase:\n",
    "            sent_repr = [(word.lower(), start, end, binary, prob) \n",
    "                         for word, start, end, binary, prob in sent_repr]\n",
    "        if filter_punc:\n",
    "            sent_repr = list(filter(lambda vals : remove_punctuation(vals[0]), sent_repr))\n",
    "        if filtering:\n",
    "            sent_repr = list(filter(lambda vals : vals[0] != \"'s\", sent_repr))\n",
    "            sent_repr = list(filter(lambda vals : vals[0] != \"``\", sent_repr))\n",
    "        sentences.append({'sent_id' : sent_id, 'sentence' : sentence, 'seq' : sent_repr})\n",
    "    return sentences\n",
    "\n",
    "def split_sentence_seqs(sentences):\n",
    "    words, start_end, binary, prob = [], [], [] ,[]\n",
    "    for sent in sentences:\n",
    "        sequence = sent['seq']\n",
    "        curr_w, curr_se, curr_b, curr_p = map(list, zip(*[(vals[0], \n",
    "            (vals[1], vals[2]), vals[3], vals[4]) for vals in sequence]))\n",
    "        words.append(curr_w)\n",
    "        start_end.append(curr_se)\n",
    "        binary.append(curr_b)\n",
    "        prob.append(curr_p)\n",
    "    return words, start_end, binary, prob\n",
    "\n",
    "def forward_transformation_be_tags(dataframe, start_tag = 's_target', end_tag = 'e_target',\n",
    "                                   lowercase = True, filter_punc = True, filtering = \"a132\"):\n",
    "    sentences = []\n",
    "    binaries = []\n",
    "    probabilities = []\n",
    "    for index, row in dataframe.iterrows():\n",
    "        sentence = row['sentence']\n",
    "        start = row['start']\n",
    "        end = row['end']\n",
    "        sentence = sentence[:start] + start_tag + ' ' + sentence[start:end] + \\\n",
    "                             ' ' + end_tag + sentence[end:]\n",
    "        if lowercase:\n",
    "            sentence = sentence.lower()\n",
    "        sent_repr = all_tokens_with_index(sentence)\n",
    "        if filter_punc:\n",
    "            sent_repr = list(filter(lambda vals : remove_punctuation(vals[0]), sent_repr))\n",
    "        if filtering:\n",
    "            sent_repr = list(filter(lambda vals : vals[0] != \"'s\", sent_repr))\n",
    "            sent_repr = list(filter(lambda vals : vals[0] != \"``\", sent_repr))\n",
    "        sentences.append([word for word, index, start, end in sent_repr])\n",
    "        binaries.append(row['binary'])\n",
    "        probabilities.append(row['prob'])\n",
    "    return (sentences, binaries, probabilities)"
   ]
  },
  {
   "cell_type": "code",
   "execution_count": 21,
   "metadata": {
    "collapsed": true
   },
   "outputs": [],
   "source": [
    "word_embedding = models[0].model\n",
    "char_embeddings = compute_character_embeddings(word_embedding)"
   ]
  },
  {
   "cell_type": "code",
   "execution_count": 36,
   "metadata": {},
   "outputs": [
    {
     "name": "stdout",
     "output_type": "stream",
     "text": [
      "# Chars : 963941\n",
      "# Vocab (chars) : 48\n",
      "# Chars missing embedding : 2\n",
      "Embedding shape : (48, 50)\n"
     ]
    }
   ],
   "source": [
    "dimension = word_embedding.vector_size\n",
    "char2index, index2char, char_embedding = build_char_vocabulary(sentences, char_embeddings, dimension, missing='equal')"
   ]
  },
  {
   "cell_type": "code",
   "execution_count": 37,
   "metadata": {},
   "outputs": [
    {
     "data": {
      "text/plain": [
       "dict_keys(['e', 't', 'a', 'r', 'i', 'n', 's', 'o', 'h', 'l', 'd', 'c', 'g', 'u', 'm', 'f', 'p', 'b', 'w', '_', 'y', 'v', 'k', '0', '1', '-', '9', '2', 'x', 'j', '4', 'q', '6', '8', 'z', '3', '5', '7', '.', ',', '`', \"'\", '\\\\', '/', '=', '~', '_pad_', '_unk_'])"
      ]
     },
     "execution_count": 37,
     "metadata": {},
     "output_type": "execute_result"
    }
   ],
   "source": [
    "char2index.keys()"
   ]
  },
  {
   "cell_type": "code",
   "execution_count": 17,
   "metadata": {},
   "outputs": [
    {
     "name": "stdout",
     "output_type": "stream",
     "text": [
      "# Words : 186472\n",
      "# Vocab : 3641\n",
      "# Words missing embedding : 162\n",
      "Embedding shape : (3641, 50)\n"
     ]
    }
   ],
   "source": [
    "embedding = models[0].model\n",
    "dimension = embedding.vector_size\n",
    "word2index, index2word, word_embedding = build_vocabulary(sentences, embedding, dimension, missing='unique')"
   ]
  },
  {
   "cell_type": "code",
   "execution_count": 8,
   "metadata": {
    "collapsed": true
   },
   "outputs": [],
   "source": [
    "datasets.append(Dataset('train_all_test_wiki', \n",
    "        datasets[0].train.append(datasets[1].train).append(datasets[2].train), datasets[0].test))"
   ]
  },
  {
   "cell_type": "code",
   "execution_count": 12,
   "metadata": {},
   "outputs": [
    {
     "name": "stdout",
     "output_type": "stream",
     "text": [
      "# Rows train : 5551\n",
      "# Rows test : 694\n",
      "# Rows dataset : 6245\n",
      "# Sents train : 387\n",
      "# Sents test : 53\n",
      "# Sents dataset : 440\n"
     ]
    }
   ],
   "source": [
    "# Append train and test set\n",
    "dataset_sel = datasets[0]\n",
    "train_num_rows = dataset_sel.train.shape[0]\n",
    "train_num_sents = len(list(set(dataset_sel.train.sentence.values.tolist())))\n",
    "\n",
    "test_num_rows = dataset_sel.test.shape[0]\n",
    "test_num_sents = len(list(set(dataset_sel.test.sentence.values.tolist())))\n",
    "\n",
    "dataset = dataset_sel.train.append(dataset_sel.test)\n",
    "dataset['sent_id'] = dataset.groupby('sentence').ngroup()\n",
    "dataset_num_rows = dataset.shape[0]\n",
    "dataset_num_sents = len(list(set(dataset.sentence.values.tolist())))\n",
    "\n",
    "print('# Rows train : {}'.format(train_num_rows))\n",
    "print('# Rows test : {}'.format(test_num_rows))\n",
    "print('# Rows dataset : {}'.format(dataset_num_rows))\n",
    "\n",
    "print('# Sents train : {}'.format(train_num_sents))\n",
    "print('# Sents test : {}'.format(test_num_sents))\n",
    "print('# Sents dataset : {}'.format(dataset_num_sents))"
   ]
  },
  {
   "cell_type": "code",
   "execution_count": 13,
   "metadata": {
    "collapsed": true
   },
   "outputs": [],
   "source": [
    "sentences, binary, prob = forward_transformation_be_tags(dataset)\n",
    "train_sentences = sentences[:train_num_rows]\n",
    "test_sentences = sentences[train_num_rows:]"
   ]
  },
  {
   "cell_type": "code",
   "execution_count": 104,
   "metadata": {
    "collapsed": true
   },
   "outputs": [],
   "source": [
    "sentence_lens = [len(sent) for sent in sentences]"
   ]
  },
  {
   "cell_type": "code",
   "execution_count": 105,
   "metadata": {},
   "outputs": [
    {
     "name": "stdout",
     "output_type": "stream",
     "text": [
      "Sentence lengths\n"
     ]
    },
    {
     "data": {
      "image/png": "[encoded data removed]",
      "text/plain": [
       "<Figure size 432x288 with 1 Axes>"
      ]
     },
     "metadata": {},
     "output_type": "display_data"
    }
   ],
   "source": [
    "import seaborn as sns, numpy as np\n",
    "import matplotlib.pyplot as plt\n",
    "sns.set()\n",
    "ax = sns.distplot(sentence_lens)\n",
    "print('Sentence lengths')\n",
    "plt.show()"
   ]
  },
  {
   "cell_type": "code",
   "execution_count": 453,
   "metadata": {
    "collapsed": true
   },
   "outputs": [],
   "source": [
    "figure = ax.get_figure()\n",
    "figure.savefig('../plots/dl/sentence_length_dist.pdf')"
   ]
  },
  {
   "cell_type": "code",
   "execution_count": 106,
   "metadata": {},
   "outputs": [
    {
     "name": "stdout",
     "output_type": "stream",
     "text": [
      "# Words : 186472\n",
      "# Vocab : 3641\n",
      "# Words missing embedding : 161\n",
      "Embedding shape : (3641, 50)\n"
     ]
    }
   ],
   "source": [
    "embedding_model = models[0].model\n",
    "dimension = embedding_model.vector_size\n",
    "word2index, index2word, embedding = build_vocabulary(sentences, embedding_model, dimension)"
   ]
  },
  {
   "cell_type": "code",
   "execution_count": 107,
   "metadata": {
    "collapsed": true
   },
   "outputs": [],
   "source": [
    "words_with_indices = [[word2index[word] for word in sent] for sent in sentences]"
   ]
  },
  {
   "cell_type": "code",
   "execution_count": 114,
   "metadata": {},
   "outputs": [
    {
     "name": "stdout",
     "output_type": "stream",
     "text": [
      "Max length sentence : 103\n"
     ]
    },
    {
     "name": "stderr",
     "output_type": "stream",
     "text": [
      "Using TensorFlow backend.\n"
     ]
    }
   ],
   "source": [
    "sent_lens = [len(sentence) for sentence in sentences]\n",
    "sent_max_length = np.max(sent_lens)\n",
    "print('Max length sentence : {}'.format(sent_max_length))\n",
    "\n",
    "from keras.preprocessing.sequence import pad_sequences\n",
    "from keras.utils import to_categorical\n",
    "\n",
    "words_padded = pad_sequences(maxlen=sent_max_length, sequences=words_with_indices, padding=\"post\", value=0)\n",
    "\n",
    "binary_padded_categorical = [to_categorical(clazz, num_classes=2) for clazz in binary]"
   ]
  },
  {
   "cell_type": "code",
   "execution_count": 122,
   "metadata": {},
   "outputs": [
    {
     "name": "stdout",
     "output_type": "stream",
     "text": [
      "Training set length : 5551\n",
      "Test set length : 694\n"
     ]
    }
   ],
   "source": [
    "# Split the previously combined train and test set\n",
    "\n",
    "# (1) Training set\n",
    "train_words_padded = words_padded[:train_num_rows]\n",
    "train_binary_padded_categorical = binary_padded_categorical[:train_num_rows]\n",
    "\n",
    "# (2) Test set\n",
    "test_words_padded = words_padded[train_num_rows:]\n",
    "test_binary_padded_categorical = binary_padded_categorical[train_num_rows:]\n",
    "\n",
    "print('Training set length : {}'.format(len(train_words_padded)))\n",
    "print('Test set length : {}'.format(len(test_words_padded)))"
   ]
  },
  {
   "cell_type": "code",
   "execution_count": 137,
   "metadata": {
    "collapsed": true
   },
   "outputs": [],
   "source": [
    "from sklearn.metrics import f1_score\n",
    "import keras.callbacks\n",
    "\n",
    "class Metrics(keras.callbacks.Callback):\n",
    "    def __init__(self):\n",
    "        self.f1_scores = []\n",
    "        \n",
    "    def on_epoch_end(self, batch, logs={}):\n",
    "        predict = np.asarray(self.model.predict(self.validation_data[0]))\n",
    "        targ = self.validation_data[1]\n",
    "        targ = np.array(targ)\n",
    "        targ = np.argmax(targ, axis = 1)\n",
    "        predict = np.argmax(predict, axis = 1)\n",
    "        self.f1s=f1_score(targ, predict)\n",
    "        print(f1_score(targ, np.ones(targ.shape[0])))\n",
    "        print(targ.shape)\n",
    "        print(predict.shape)\n",
    "        print('--------------------Targets-------------------------')\n",
    "        print(self.f1s)\n",
    "        self.f1_scores.append(self.f1s)\n",
    "        print(targ)\n",
    "        print('--------------------Predictions-------------------------')\n",
    "        print(predict)\n",
    "        return"
   ]
  },
  {
   "cell_type": "code",
   "execution_count": 129,
   "metadata": {
    "collapsed": true
   },
   "outputs": [],
   "source": [
    "from keras import backend as K\n",
    "def weighted_categorical_crossentropy(weights):\n",
    "    \"\"\"\n",
    "    A weighted version of keras.objectives.categorical_crossentropy\n",
    "    \n",
    "    Variables:\n",
    "        weights: numpy array of shape (C,) where C is the number of classes\n",
    "    \n",
    "    Usage:\n",
    "        weights = np.array([0.5,2,10]) # Class one at 0.5, class 2 twice the normal weights, class 3 10x.\n",
    "        loss = weighted_categorical_crossentropy(weights)\n",
    "        model.compile(loss=loss,optimizer='adam')\n",
    "    \"\"\"\n",
    "    \n",
    "    weights = K.variable(weights)\n",
    "        \n",
    "    def loss(y_true, y_pred):\n",
    "        # scale predictions so that the class probas of each sample sum to 1\n",
    "        y_pred /= K.sum(y_pred, axis=-1, keepdims=True)\n",
    "        # clip to prevent NaN's and Inf's\n",
    "        y_pred = K.clip(y_pred, K.epsilon(), 1 - K.epsilon())\n",
    "        # calc\n",
    "        loss = y_true * K.log(y_pred) * weights\n",
    "        loss = -K.sum(loss, -1)\n",
    "        return loss\n",
    "    \n",
    "    return loss"
   ]
  },
  {
   "cell_type": "code",
   "execution_count": 195,
   "metadata": {},
   "outputs": [
    {
     "name": "stdout",
     "output_type": "stream",
     "text": [
      "_________________________________________________________________\n",
      "Layer (type)                 Output Shape              Param #   \n",
      "=================================================================\n",
      "input_12 (InputLayer)        (None, 103)               0         \n",
      "_________________________________________________________________\n",
      "embedding_12 (Embedding)     (None, 103, 50)           182050    \n",
      "_________________________________________________________________\n",
      "dropout_12 (Dropout)         (None, 103, 50)           0         \n",
      "_________________________________________________________________\n",
      "bidirectional_12 (Bidirectio (None, 300)               241200    \n",
      "_________________________________________________________________\n",
      "dense_12 (Dense)             (None, 2)                 602       \n",
      "=================================================================\n",
      "Total params: 423,852\n",
      "Trainable params: 423,852\n",
      "Non-trainable params: 0\n",
      "_________________________________________________________________\n",
      "Train on 5551 samples, validate on 694 samples\n",
      "Epoch 1/2\n",
      "5551/5551 [==============================] - 912s 164ms/step - loss: 0.6876 - acc: 0.5622 - val_loss: 0.6925 - val_acc: 0.5375\n",
      "0.6563407550822846\n",
      "(694,)\n",
      "(694,)\n",
      "--------------------Targets-------------------------\n",
      "0.6090133982947625\n",
      "[1 1 1 1 1 0 1 0 1 0 1 1 1 1 0 0 1 0 1 0 0 0 0 0 1 1 1 1 1 1 0 0 1 1 1 0 1\n",
      " 0 0 1 1 1 0 0 1 1 0 1 0 0 1 0 0 1 0 0 0 0 0 1 1 0 0 1 0 1 1 1 0 1 1 0 0 0\n",
      " 1 1 1 0 1 1 1 1 0 0 1 1 0 0 0 0 0 0 0 0 0 1 0 1 1 1 0 1 0 0 1 0 1 0 0 1 0\n",
      " 0 1 0 0 0 1 1 0 1 1 0 0 1 1 0 1 0 1 0 1 0 0 0 0 0 0 0 0 0 0 1 0 0 0 1 1 1\n",
      " 1 1 0 1 0 0 0 1 1 0 0 0 0 1 1 1 1 0 1 0 1 1 0 1 0 0 0 0 1 1 1 0 0 0 0 0 0\n",
      " 0 1 1 0 1 1 0 0 0 0 0 0 0 1 0 1 1 0 1 0 0 0 0 1 1 0 0 1 0 0 1 0 1 0 1 0 1\n",
      " 1 1 1 1 1 1 0 1 1 1 1 1 0 0 1 0 1 1 0 0 0 0 1 0 1 0 1 1 1 0 0 1 0 0 0 0 1\n",
      " 1 0 1 0 0 0 0 0 0 0 0 0 1 0 0 0 0 0 0 0 1 0 0 0 1 1 0 1 1 1 0 0 0 0 0 0 1\n",
      " 1 1 1 1 0 1 0 1 0 0 1 1 0 0 1 0 1 0 0 0 0 0 1 0 1 1 0 1 0 1 0 1 0 1 0 0 1\n",
      " 1 1 1 1 1 1 0 1 1 0 1 0 0 0 0 0 0 0 1 0 1 1 1 1 0 0 1 1 1 1 0 0 0 1 0 1 1\n",
      " 1 0 0 1 1 0 0 0 0 1 0 1 1 1 1 0 0 1 0 1 1 0 0 1 0 1 0 1 1 1 0 0 0 1 1 1 1\n",
      " 0 1 0 0 0 1 1 1 0 0 0 1 0 1 0 1 1 0 0 1 1 1 1 1 0 0 1 0 0 0 1 0 1 1 1 0 1\n",
      " 0 0 0 0 1 1 0 0 1 1 0 1 1 0 1 0 1 1 0 0 1 1 0 0 0 0 0 0 1 1 1 0 1 1 0 0 0\n",
      " 0 1 0 0 0 0 1 0 1 0 0 0 0 1 1 0 1 1 1 1 1 0 1 0 1 0 0 0 1 0 0 1 1 1 1 1 0\n",
      " 1 1 1 1 1 0 0 0 0 0 1 1 1 0 1 0 0 1 0 1 1 1 1 0 1 0 0 0 0 0 1 1 0 0 1 1 0\n",
      " 0 1 0 0 1 1 1 0 0 0 1 0 0 1 0 0 1 1 1 1 0 1 0 1 0 1 1 1 0 1 1 1 0 1 1 0 0\n",
      " 1 0 0 1 1 0 0 0 0 0 0 1 0 1 0 0 1 0 0 0 0 0 0 0 1 1 1 0 0 1 1 1 1 0 1 1 1\n",
      " 1 1 0 0 0 0 1 1 1 0 0 1 1 1 1 0 1 0 0 1 1 0 1 0 1 1 1 1 1 0 0 0 1 1 1 1 0\n",
      " 1 1 1 1 0 1 1 1 0 0 1 1 1 0 1 1 1 0 0 0 0 1 1 1 0 0 1 1]\n",
      "--------------------Predictions-------------------------\n",
      "[1 1 1 1 1 1 1 1 1 1 1 1 1 1 1 1 0 1 1 1 1 1 1 1 1 1 1 1 1 1 1 1 1 1 1 1 1\n",
      " 1 1 1 1 1 1 1 1 1 1 1 1 1 1 1 1 1 1 1 1 1 1 1 1 1 1 1 1 1 1 1 1 1 1 1 1 1\n",
      " 1 1 1 1 1 1 1 1 1 1 1 1 1 1 1 1 1 1 1 1 1 1 1 1 1 1 1 1 1 1 1 1 1 1 1 1 1\n",
      " 1 1 1 1 1 1 1 1 1 1 1 1 1 1 1 1 1 1 1 1 1 1 1 1 1 1 1 1 1 1 1 1 1 1 1 1 0\n",
      " 1 1 1 1 1 1 1 0 0 0 0 0 0 0 0 0 0 0 1 0 1 1 1 0 1 1 0 0 0 0 0 0 0 0 0 0 0\n",
      " 0 0 0 0 0 0 0 0 0 0 0 0 0 0 0 1 0 0 0 0 0 0 0 1 1 1 1 1 1 1 1 1 1 1 1 1 1\n",
      " 1 1 1 1 1 1 1 1 1 1 1 1 1 1 1 0 0 0 0 0 0 0 0 0 0 0 0 0 0 0 0 0 0 0 0 0 0\n",
      " 0 0 1 0 0 0 0 0 0 0 0 0 1 0 0 1 1 1 1 1 0 0 0 0 0 0 0 1 0 0 0 0 0 0 0 0 0\n",
      " 0 0 0 0 0 0 0 0 0 0 0 0 0 0 1 1 1 1 1 1 1 1 1 0 1 1 1 1 1 1 1 1 1 1 0 1 1\n",
      " 1 1 1 1 1 1 1 1 1 1 1 1 1 1 1 1 1 1 1 1 1 1 1 1 1 1 1 1 1 1 1 1 1 0 0 0 0\n",
      " 0 0 0 0 0 0 0 0 0 0 0 0 0 0 0 0 0 0 0 0 0 0 0 0 0 0 0 0 0 0 0 0 0 0 0 0 0\n",
      " 0 0 0 0 0 0 0 0 0 0 0 0 0 0 0 0 0 0 0 0 1 1 1 1 1 1 1 1 1 1 1 1 1 1 1 1 1\n",
      " 1 1 1 1 1 1 1 1 1 1 1 1 1 1 1 1 0 0 0 0 0 0 0 0 0 0 0 0 1 1 1 1 1 1 1 1 1\n",
      " 1 1 1 1 1 1 1 1 1 1 1 1 1 1 1 1 1 1 1 1 1 1 1 1 1 1 1 1 1 1 1 1 1 1 1 1 1\n",
      " 1 1 1 1 1 1 1 1 1 1 1 1 1 1 1 1 1 1 1 1 1 1 1 1 1 1 1 1 1 1 1 1 1 1 1 1 1\n",
      " 1 1 0 1 1 1 1 1 1 1 1 0 0 1 0 1 1 1 1 1 1 1 1 1 1 1 1 1 1 1 1 1 1 1 1 1 1\n",
      " 1 1 1 1 1 1 1 1 1 1 1 0 0 0 0 1 1 1 0 1 1 1 1 1 1 1 1 1 1 1 1 1 1 1 1 0 0\n",
      " 1 1 1 1 1 1 1 1 1 1 1 1 1 1 1 1 1 1 1 0 1 0 1 0 1 1 1 0 1 0 1 1 1 1 1 1 1\n",
      " 1 1 1 1 1 1 1 0 0 0 1 0 0 0 1 0 1 0 1 1 1 1 1 1 1 1 1 1]\n",
      "Epoch 2/2\n",
      "5551/5551 [==============================] - 887s 160ms/step - loss: 0.6263 - acc: 0.6570 - val_loss: 0.5552 - val_acc: 0.7262\n",
      "0.6563407550822846\n",
      "(694,)\n",
      "(694,)\n",
      "--------------------Targets-------------------------\n",
      "0.7551546391752577\n",
      "[1 1 1 1 1 0 1 0 1 0 1 1 1 1 0 0 1 0 1 0 0 0 0 0 1 1 1 1 1 1 0 0 1 1 1 0 1\n",
      " 0 0 1 1 1 0 0 1 1 0 1 0 0 1 0 0 1 0 0 0 0 0 1 1 0 0 1 0 1 1 1 0 1 1 0 0 0\n",
      " 1 1 1 0 1 1 1 1 0 0 1 1 0 0 0 0 0 0 0 0 0 1 0 1 1 1 0 1 0 0 1 0 1 0 0 1 0\n",
      " 0 1 0 0 0 1 1 0 1 1 0 0 1 1 0 1 0 1 0 1 0 0 0 0 0 0 0 0 0 0 1 0 0 0 1 1 1\n",
      " 1 1 0 1 0 0 0 1 1 0 0 0 0 1 1 1 1 0 1 0 1 1 0 1 0 0 0 0 1 1 1 0 0 0 0 0 0\n",
      " 0 1 1 0 1 1 0 0 0 0 0 0 0 1 0 1 1 0 1 0 0 0 0 1 1 0 0 1 0 0 1 0 1 0 1 0 1\n",
      " 1 1 1 1 1 1 0 1 1 1 1 1 0 0 1 0 1 1 0 0 0 0 1 0 1 0 1 1 1 0 0 1 0 0 0 0 1\n",
      " 1 0 1 0 0 0 0 0 0 0 0 0 1 0 0 0 0 0 0 0 1 0 0 0 1 1 0 1 1 1 0 0 0 0 0 0 1\n",
      " 1 1 1 1 0 1 0 1 0 0 1 1 0 0 1 0 1 0 0 0 0 0 1 0 1 1 0 1 0 1 0 1 0 1 0 0 1\n",
      " 1 1 1 1 1 1 0 1 1 0 1 0 0 0 0 0 0 0 1 0 1 1 1 1 0 0 1 1 1 1 0 0 0 1 0 1 1\n",
      " 1 0 0 1 1 0 0 0 0 1 0 1 1 1 1 0 0 1 0 1 1 0 0 1 0 1 0 1 1 1 0 0 0 1 1 1 1\n",
      " 0 1 0 0 0 1 1 1 0 0 0 1 0 1 0 1 1 0 0 1 1 1 1 1 0 0 1 0 0 0 1 0 1 1 1 0 1\n",
      " 0 0 0 0 1 1 0 0 1 1 0 1 1 0 1 0 1 1 0 0 1 1 0 0 0 0 0 0 1 1 1 0 1 1 0 0 0\n",
      " 0 1 0 0 0 0 1 0 1 0 0 0 0 1 1 0 1 1 1 1 1 0 1 0 1 0 0 0 1 0 0 1 1 1 1 1 0\n",
      " 1 1 1 1 1 0 0 0 0 0 1 1 1 0 1 0 0 1 0 1 1 1 1 0 1 0 0 0 0 0 1 1 0 0 1 1 0\n",
      " 0 1 0 0 1 1 1 0 0 0 1 0 0 1 0 0 1 1 1 1 0 1 0 1 0 1 1 1 0 1 1 1 0 1 1 0 0\n",
      " 1 0 0 1 1 0 0 0 0 0 0 1 0 1 0 0 1 0 0 0 0 0 0 0 1 1 1 0 0 1 1 1 1 0 1 1 1\n",
      " 1 1 0 0 0 0 1 1 1 0 0 1 1 1 1 0 1 0 0 1 1 0 1 0 1 1 1 1 1 0 0 0 1 1 1 1 0\n",
      " 1 1 1 1 0 1 1 1 0 0 1 1 1 0 1 1 1 0 0 0 0 1 1 1 0 0 1 1]\n",
      "--------------------Predictions-------------------------\n",
      "[1 1 0 1 1 1 1 1 1 0 1 1 1 1 1 1 1 1 1 0 1 0 0 1 1 1 1 1 1 1 1 0 1 1 1 1 1\n",
      " 1 1 1 1 1 0 0 1 1 0 1 1 0 0 0 1 1 1 1 1 0 1 1 1 0 0 1 0 1 1 1 1 1 1 0 0 1\n",
      " 1 1 1 0 1 1 1 0 0 0 1 1 1 0 1 0 1 1 0 0 0 1 0 1 1 1 0 1 0 0 1 0 1 1 0 1 1\n",
      " 1 0 1 1 0 1 0 0 1 1 0 1 1 1 0 1 1 1 1 0 1 1 0 0 1 0 1 0 1 0 1 0 1 1 1 1 1\n",
      " 1 1 1 1 0 1 0 1 0 0 0 0 1 1 0 1 1 0 0 0 0 1 1 1 0 1 0 1 1 1 1 1 1 0 0 0 1\n",
      " 0 1 0 1 1 1 0 1 0 0 1 0 1 1 1 1 1 0 1 0 0 1 0 1 1 0 1 1 1 1 1 0 1 1 1 0 1\n",
      " 0 1 1 0 1 1 0 1 1 1 1 1 1 0 1 1 0 1 0 0 1 0 1 1 1 1 1 1 1 0 1 1 1 0 0 1 1\n",
      " 0 0 1 0 0 1 1 0 0 0 1 0 1 1 0 0 1 1 0 1 1 1 0 1 1 1 1 1 1 1 1 1 0 1 1 0 1\n",
      " 1 1 0 0 0 1 1 0 0 0 0 0 0 0 1 1 1 1 0 0 1 1 1 0 1 1 1 1 0 1 1 1 1 0 0 1 1\n",
      " 1 0 0 1 0 0 0 1 1 1 1 1 0 1 1 1 1 0 1 0 1 1 1 1 0 0 1 1 1 1 0 1 0 1 0 0 1\n",
      " 1 1 0 1 1 0 0 0 0 0 0 1 1 0 0 0 0 1 0 1 0 0 0 1 0 0 0 1 1 1 0 0 0 1 1 0 1\n",
      " 0 1 0 0 0 1 1 1 0 1 0 1 0 1 0 1 1 0 0 0 1 1 0 1 0 0 1 1 0 0 0 0 1 1 1 0 1\n",
      " 0 0 0 0 1 1 0 0 1 0 0 1 1 1 1 1 1 1 0 0 1 1 0 1 0 1 1 0 1 1 1 0 1 1 1 0 0\n",
      " 1 1 0 0 0 0 1 1 1 0 1 1 1 1 1 0 0 1 1 1 1 1 1 0 1 1 0 0 1 0 0 1 1 1 1 1 1\n",
      " 1 1 1 1 1 1 0 0 1 0 1 1 0 0 1 1 1 1 0 1 1 1 1 0 1 1 0 0 0 1 1 1 0 1 1 1 1\n",
      " 1 1 0 0 1 1 1 0 0 0 1 1 0 1 0 0 1 1 1 1 0 1 1 1 1 1 1 1 1 1 1 1 1 1 1 1 0\n",
      " 1 0 0 1 1 0 0 0 0 0 0 1 1 1 0 1 0 0 1 0 0 1 1 0 0 1 1 0 0 1 1 1 1 0 1 0 1\n",
      " 1 1 0 0 1 1 1 1 1 1 0 1 1 1 1 0 1 1 1 1 1 0 1 0 1 1 1 0 1 1 1 0 1 1 1 1 1\n",
      " 1 1 1 1 1 1 1 1 0 0 1 0 0 0 1 1 1 1 1 1 0 1 0 1 0 0 1 0]\n"
     ]
    }
   ],
   "source": [
    "from keras.models import Model, Input\n",
    "from keras.layers import LSTM, Embedding, Dense, TimeDistributed, Dropout, Bidirectional\n",
    "\n",
    "vocab_size = embedding.shape[0]\n",
    "dimension = embedding.shape[1]\n",
    "\n",
    "np.set_printoptions(threshold=np.inf)\n",
    "\n",
    "in_seq = Input(shape=(sent_max_length,))\n",
    "embed = Embedding(input_dim=vocab_size, output_dim=dimension, \\\n",
    "                  weights=[embedding], input_length=sent_max_length)(in_seq)\n",
    "drop = Dropout(0.1)(embed)\n",
    "lstm = Bidirectional(LSTM(units=150, return_sequences=False, recurrent_dropout=0.1))(drop)\n",
    "out = Dense(2, activation=\"softmax\")(lstm)\n",
    "\n",
    "model = Model(in_seq, out)\n",
    "\n",
    "model.compile(optimizer=\"adam\", loss='categorical_crossentropy', metrics=[\"accuracy\"])\n",
    "model.summary()\n",
    "\n",
    "metrics = Metrics()\n",
    "history = model.fit(train_words_padded, np.array(train_binary_padded_categorical), batch_size=1, \n",
    "                    epochs=2, validation_data = (test_words_padded, np.array(test_binary_padded_categorical)), \n",
    "                    verbose=1, callbacks=[metrics])"
   ]
  },
  {
   "cell_type": "code",
   "execution_count": 196,
   "metadata": {},
   "outputs": [
    {
     "data": {
      "text/plain": [
       "2"
      ]
     },
     "execution_count": 196,
     "metadata": {},
     "output_type": "execute_result"
    }
   ],
   "source": [
    "len(metrics.f1_scores)"
   ]
  },
  {
   "cell_type": "code",
   "execution_count": 197,
   "metadata": {},
   "outputs": [
    {
     "data": {
      "image/png": "[encoded data removed]",
      "text/plain": [
       "<Figure size 432x288 with 1 Axes>"
      ]
     },
     "metadata": {},
     "output_type": "display_data"
    }
   ],
   "source": [
    "sns.set_style(\"darkgrid\")\n",
    "epoch_f1s = plt.plot(metrics.f1_scores)\n",
    "plt.show()"
   ]
  },
  {
   "cell_type": "code",
   "execution_count": 198,
   "metadata": {},
   "outputs": [
    {
     "data": {
      "text/plain": [
       "(694, 2)"
      ]
     },
     "execution_count": 198,
     "metadata": {},
     "output_type": "execute_result"
    }
   ],
   "source": [
    "predictions = model.predict(test_words_padded)\n",
    "predictions.shape"
   ]
  },
  {
   "cell_type": "code",
   "execution_count": 189,
   "metadata": {},
   "outputs": [
    {
     "data": {
      "text/plain": [
       "array([0, 1, 0, 1, 1, 1, 1, 1, 1, 0, 0, 1, 1, 1, 0, 0, 1, 1, 1, 1, 1, 0,\n",
       "       0, 1, 0, 1, 1, 1, 1, 1, 1, 0, 1, 1, 0, 0, 1, 1, 1, 1, 1, 1, 0, 0,\n",
       "       0, 1, 0, 1, 1, 0, 0, 0, 1, 1, 1, 1, 1, 0, 1, 1, 1, 0, 0, 0, 0, 1,\n",
       "       1, 1, 1, 1, 1, 0, 0, 1, 1, 1, 1, 0, 0, 1, 1, 0, 0, 0, 1, 1, 0, 0,\n",
       "       0, 0, 1, 1, 0, 0, 0, 1, 0, 1, 1, 1, 0, 1, 0, 0, 1, 0, 1, 1, 0, 1,\n",
       "       1, 1, 0, 1, 1, 0, 1, 0, 0, 1, 1, 0, 0, 1, 1, 0, 1, 1, 1, 1, 0, 1,\n",
       "       1, 0, 0, 1, 0, 1, 0, 0, 0, 0, 0, 0, 1, 1, 1, 1, 1, 1, 1, 1, 0, 1,\n",
       "       0, 1, 0, 0, 0, 0, 1, 0, 0, 1, 0, 0, 0, 0, 0, 1, 1, 1, 0, 0, 0, 1,\n",
       "       1, 1, 1, 1, 0, 0, 0, 0, 1, 0, 1, 0, 0, 1, 0, 0, 0, 0, 0, 0, 0, 0,\n",
       "       1, 0, 1, 1, 0, 0, 0, 0, 1, 0, 1, 0, 0, 1, 1, 1, 0, 1, 0, 1, 0, 1,\n",
       "       0, 1, 0, 1, 1, 0, 1, 1, 0, 1, 1, 0, 0, 1, 1, 0, 1, 1, 0, 1, 0, 0,\n",
       "       1, 0, 1, 0, 0, 1, 1, 1, 1, 0, 0, 1, 1, 0, 0, 0, 1, 0, 0, 1, 0, 0,\n",
       "       0, 0, 0, 0, 0, 0, 0, 1, 0, 0, 0, 1, 1, 0, 0, 0, 0, 0, 0, 1, 1, 1,\n",
       "       1, 1, 1, 0, 1, 0, 0, 0, 0, 0, 1, 1, 0, 0, 0, 1, 1, 0, 1, 0, 0, 0,\n",
       "       0, 0, 1, 1, 1, 1, 0, 0, 0, 0, 1, 0, 1, 1, 0, 1, 0, 1, 1, 1, 1, 0,\n",
       "       0, 1, 1, 1, 1, 0, 1, 0, 0, 0, 1, 1, 0, 1, 1, 0, 1, 0, 1, 1, 0, 1,\n",
       "       0, 1, 1, 1, 1, 0, 0, 0, 1, 1, 1, 0, 1, 0, 1, 0, 0, 1, 1, 0, 0, 1,\n",
       "       1, 0, 0, 0, 0, 0, 0, 1, 0, 0, 0, 0, 0, 0, 0, 1, 0, 0, 0, 1, 0, 0,\n",
       "       0, 0, 1, 1, 0, 0, 0, 0, 0, 0, 1, 0, 1, 0, 0, 0, 1, 1, 0, 0, 0, 0,\n",
       "       0, 0, 1, 0, 1, 1, 0, 0, 0, 1, 1, 0, 1, 0, 0, 1, 1, 0, 0, 1, 0, 0,\n",
       "       0, 1, 0, 1, 0, 0, 0, 0, 1, 0, 0, 0, 0, 1, 0, 1, 1, 0, 1, 1, 0, 1,\n",
       "       0, 0, 0, 1, 0, 1, 0, 1, 0, 0, 1, 1, 0, 0, 0, 1, 1, 1, 0, 1, 1, 0,\n",
       "       0, 0, 0, 1, 0, 1, 0, 1, 0, 0, 1, 1, 0, 0, 1, 0, 1, 1, 0, 1, 0, 1,\n",
       "       1, 0, 0, 1, 0, 0, 1, 1, 1, 1, 1, 0, 1, 1, 1, 1, 1, 1, 0, 0, 1, 0,\n",
       "       0, 1, 0, 0, 1, 0, 1, 0, 0, 1, 1, 1, 1, 0, 0, 1, 0, 0, 0, 1, 0, 1,\n",
       "       0, 1, 1, 1, 0, 0, 1, 0, 1, 1, 1, 1, 0, 0, 0, 0, 1, 0, 1, 0, 0, 1,\n",
       "       1, 1, 1, 0, 1, 0, 1, 1, 1, 1, 1, 1, 1, 1, 1, 1, 1, 1, 1, 0, 1, 0,\n",
       "       0, 0, 1, 0, 0, 0, 0, 0, 0, 1, 0, 1, 0, 1, 0, 0, 1, 0, 0, 0, 1, 0,\n",
       "       0, 1, 1, 0, 0, 1, 1, 1, 1, 0, 1, 0, 1, 1, 0, 0, 0, 1, 0, 1, 0, 1,\n",
       "       1, 0, 0, 0, 1, 0, 0, 1, 1, 1, 1, 0, 0, 1, 0, 1, 1, 1, 0, 0, 0, 1,\n",
       "       0, 1, 1, 1, 1, 0, 1, 0, 0, 1, 1, 1, 1, 1, 0, 0, 1, 0, 0, 0, 0, 1,\n",
       "       1, 1, 0, 1, 0, 1, 0, 1, 0, 0, 1, 0], dtype=int64)"
      ]
     },
     "execution_count": 189,
     "metadata": {},
     "output_type": "execute_result"
    }
   ],
   "source": [
    "final_predictions"
   ]
  },
  {
   "cell_type": "code",
   "execution_count": 199,
   "metadata": {
    "collapsed": true
   },
   "outputs": [],
   "source": [
    "final_predictions = np.argmax(predictions, axis = 1)"
   ]
  },
  {
   "cell_type": "code",
   "execution_count": 200,
   "metadata": {},
   "outputs": [
    {
     "data": {
      "text/plain": [
       "694"
      ]
     },
     "execution_count": 200,
     "metadata": {},
     "output_type": "execute_result"
    }
   ],
   "source": [
    "len(final_predictions)"
   ]
  },
  {
   "cell_type": "code",
   "execution_count": 201,
   "metadata": {
    "collapsed": true
   },
   "outputs": [],
   "source": [
    "targets = np.argmax(test_binary_padded_categorical, axis = 1)"
   ]
  },
  {
   "cell_type": "code",
   "execution_count": 202,
   "metadata": {},
   "outputs": [
    {
     "data": {
      "text/plain": [
       "694"
      ]
     },
     "execution_count": 202,
     "metadata": {},
     "output_type": "execute_result"
    }
   ],
   "source": [
    "len(targets)"
   ]
  },
  {
   "cell_type": "code",
   "execution_count": 203,
   "metadata": {},
   "outputs": [
    {
     "data": {
      "text/plain": [
       "0.7551546391752577"
      ]
     },
     "execution_count": 203,
     "metadata": {},
     "output_type": "execute_result"
    }
   ],
   "source": [
    "f1_score(targets, final_predictions)"
   ]
  },
  {
   "cell_type": "code",
   "execution_count": 148,
   "metadata": {},
   "outputs": [
    {
     "ename": "TypeError",
     "evalue": "list indices must be integers or slices, not str",
     "output_type": "error",
     "traceback": [
      "\u001b[0;31m---------------------------------------------------------------------------\u001b[0m",
      "\u001b[0;31mTypeError\u001b[0m                                 Traceback (most recent call last)",
      "\u001b[0;32m<ipython-input-148-442b3afdad24>\u001b[0m in \u001b[0;36m<module>\u001b[0;34m()\u001b[0m\n\u001b[1;32m     25\u001b[0m \u001b[0msent_count\u001b[0m \u001b[1;33m=\u001b[0m \u001b[1;36m0\u001b[0m\u001b[1;33m\u001b[0m\u001b[0m\n\u001b[1;32m     26\u001b[0m \u001b[1;32mfor\u001b[0m \u001b[0mind\u001b[0m\u001b[1;33m,\u001b[0m \u001b[0msent\u001b[0m \u001b[1;32min\u001b[0m \u001b[0menumerate\u001b[0m\u001b[1;33m(\u001b[0m\u001b[0mtest_words_padded\u001b[0m\u001b[1;33m)\u001b[0m\u001b[1;33m:\u001b[0m\u001b[1;33m\u001b[0m\u001b[0m\n\u001b[0;32m---> 27\u001b[0;31m     \u001b[0msentence\u001b[0m \u001b[1;33m=\u001b[0m \u001b[0mtest_sentences\u001b[0m\u001b[1;33m[\u001b[0m\u001b[0mind\u001b[0m\u001b[1;33m]\u001b[0m\u001b[1;33m[\u001b[0m\u001b[1;34m'sentence'\u001b[0m\u001b[1;33m]\u001b[0m\u001b[1;33m\u001b[0m\u001b[0m\n\u001b[0m\u001b[1;32m     28\u001b[0m     \u001b[0msent_id\u001b[0m \u001b[1;33m=\u001b[0m \u001b[0mtest_sentences\u001b[0m\u001b[1;33m[\u001b[0m\u001b[0mind\u001b[0m\u001b[1;33m]\u001b[0m\u001b[1;33m[\u001b[0m\u001b[1;34m'sent_id'\u001b[0m\u001b[1;33m]\u001b[0m\u001b[1;33m\u001b[0m\u001b[0m\n\u001b[1;32m     29\u001b[0m     \u001b[0mwords\u001b[0m \u001b[1;33m=\u001b[0m \u001b[1;33m[\u001b[0m\u001b[0mindex2word\u001b[0m\u001b[1;33m.\u001b[0m\u001b[0mget\u001b[0m\u001b[1;33m(\u001b[0m\u001b[0mindex\u001b[0m\u001b[1;33m,\u001b[0m \u001b[1;34m'pad'\u001b[0m\u001b[1;33m)\u001b[0m  \u001b[1;32mfor\u001b[0m \u001b[0mindex\u001b[0m \u001b[1;32min\u001b[0m \u001b[0msent\u001b[0m\u001b[1;33m]\u001b[0m\u001b[1;33m\u001b[0m\u001b[0m\n",
      "\u001b[0;31mTypeError\u001b[0m: list indices must be integers or slices, not str"
     ]
    }
   ],
   "source": [
    "def overlaps(start1, end1, start2, end2):\n",
    "    return bool(range(max(start1, start2), min(end1, end2)+1))\n",
    "\n",
    "def ngram_prediction_agg_majority_vote(predictions):\n",
    "    positive_sum = np.sum(predictions)\n",
    "    ratio = positive_sum / len(predictions)\n",
    "    return int(ratio + 0.5)\n",
    "\n",
    "def ngram_prediction_agg_max(predictions):\n",
    "    return np.max(predictions)\n",
    "\n",
    "def ngram_prediction_agg_begin(predictions):\n",
    "    return predictions[0]\n",
    "\n",
    "def ngram_prediction_agg_end(predictions):\n",
    "    return predictions[-1]\n",
    "\n",
    "ngram_prediction_agg = ngram_prediction_agg_max\n",
    "results = []\n",
    "dataframe = dataset\n",
    "num_missing_match = []\n",
    "all_predictions = []\n",
    "all_labels = []\n",
    "count=0\n",
    "sent_count = 0\n",
    "for ind, sent in enumerate(test_words_padded):\n",
    "    sentence = test_sentences[ind]['sentence']\n",
    "    sent_id = test_sentences[ind]['sent_id']\n",
    "    words = [index2word.get(index, 'pad')  for index in sent]\n",
    "    print(sentence)\n",
    "    print(sent_id)\n",
    "    print(words)\n",
    "    ses = test_start_end[ind]\n",
    "    preds = final_predictions[ind]\n",
    "    print(ses)\n",
    "    print(preds)\n",
    "    selected = dataframe.loc[dataframe.sent_id==sent_id,]\n",
    "    targets = selected.target.values.tolist()\n",
    "    start_ends = list(zip(selected.start.values.tolist(), selected.end.values.tolist()))\n",
    "    binary_y = selected.binary.values.tolist()\n",
    "    print(binary_y)\n",
    "    print(targets)\n",
    "    print(start_ends)\n",
    "    for label_index,(start, end) in enumerate(start_ends):\n",
    "        print('-----',start, end)\n",
    "        matching_indices = [i for i, (s, e) in enumerate(ses) if overlaps(start, end, s, e)]\n",
    "        if not matching_indices:\n",
    "            num_missing_match.append((sentence, sent_id, (start,end), ses, words))\n",
    "            prediction = 0\n",
    "        matching_predictions = [preds[i] for i in matching_indices]\n",
    "        if len(matching_predictions)>1:\n",
    "            prediction = ngram_prediction_agg(matching_predictions)\n",
    "        else:\n",
    "            if matching_indices:\n",
    "                prediction = matching_predictions[0]\n",
    "        matching_labels = binary_y[label_index]\n",
    "        print(matching_indices)\n",
    "        print(matching_labels)\n",
    "        print(matching_predictions)\n",
    "        print(prediction)\n",
    "        all_labels.append(matching_labels)\n",
    "        all_predictions.append(prediction)\n"
   ]
  },
  {
   "cell_type": "code",
   "execution_count": 811,
   "metadata": {},
   "outputs": [
    {
     "data": {
      "text/plain": [
       "0.7076271186440678"
      ]
     },
     "execution_count": 811,
     "metadata": {},
     "output_type": "execute_result"
    }
   ],
   "source": [
    "f1_score(all_labels, all_predictions)"
   ]
  },
  {
   "cell_type": "code",
   "execution_count": 691,
   "metadata": {},
   "outputs": [
    {
     "data": {
      "text/plain": [
       "707"
      ]
     },
     "execution_count": 691,
     "metadata": {},
     "output_type": "execute_result"
    }
   ],
   "source": [
    "len(all_labels)\n"
   ]
  },
  {
   "cell_type": "code",
   "execution_count": 637,
   "metadata": {},
   "outputs": [
    {
     "data": {
      "text/html": [
       "<div>\n",
       "<style scoped>\n",
       "    .dataframe tbody tr th:only-of-type {\n",
       "        vertical-align: middle;\n",
       "    }\n",
       "\n",
       "    .dataframe tbody tr th {\n",
       "        vertical-align: top;\n",
       "    }\n",
       "\n",
       "    .dataframe thead th {\n",
       "        text-align: right;\n",
       "    }\n",
       "</style>\n",
       "<table border=\"1\" class=\"dataframe\">\n",
       "  <thead>\n",
       "    <tr style=\"text-align: right;\">\n",
       "      <th></th>\n",
       "      <th>id</th>\n",
       "      <th>sentence</th>\n",
       "      <th>start</th>\n",
       "      <th>end</th>\n",
       "      <th>target</th>\n",
       "      <th>nat</th>\n",
       "      <th>non_nat</th>\n",
       "      <th>nat_marked</th>\n",
       "      <th>non_nat_marked</th>\n",
       "      <th>binary</th>\n",
       "      <th>prob</th>\n",
       "      <th>sent_id</th>\n",
       "    </tr>\n",
       "  </thead>\n",
       "  <tbody>\n",
       "    <tr>\n",
       "      <th>226</th>\n",
       "      <td>3KVQ0UJWPXMUWB3UPVC6XSKX54H5WE</td>\n",
       "      <td>The zero point of any thermodynamic temperature scale , such as Kelvin or Rankine , is set at absolute zero .</td>\n",
       "      <td>4</td>\n",
       "      <td>14</td>\n",
       "      <td>zero point</td>\n",
       "      <td>10</td>\n",
       "      <td>10</td>\n",
       "      <td>1</td>\n",
       "      <td>0</td>\n",
       "      <td>1</td>\n",
       "      <td>0.05</td>\n",
       "      <td>387</td>\n",
       "    </tr>\n",
       "    <tr>\n",
       "      <th>227</th>\n",
       "      <td>3KVQ0UJWPXMUWB3UPVC6XSKX54H5WE</td>\n",
       "      <td>The zero point of any thermodynamic temperature scale , such as Kelvin or Rankine , is set at absolute zero .</td>\n",
       "      <td>22</td>\n",
       "      <td>35</td>\n",
       "      <td>thermodynamic</td>\n",
       "      <td>10</td>\n",
       "      <td>10</td>\n",
       "      <td>2</td>\n",
       "      <td>2</td>\n",
       "      <td>1</td>\n",
       "      <td>0.20</td>\n",
       "      <td>387</td>\n",
       "    </tr>\n",
       "    <tr>\n",
       "      <th>228</th>\n",
       "      <td>3KVQ0UJWPXMUWB3UPVC6XSKX54H5WE</td>\n",
       "      <td>The zero point of any thermodynamic temperature scale , such as Kelvin or Rankine , is set at absolute zero .</td>\n",
       "      <td>9</td>\n",
       "      <td>14</td>\n",
       "      <td>point</td>\n",
       "      <td>10</td>\n",
       "      <td>10</td>\n",
       "      <td>0</td>\n",
       "      <td>0</td>\n",
       "      <td>0</td>\n",
       "      <td>0.00</td>\n",
       "      <td>387</td>\n",
       "    </tr>\n",
       "    <tr>\n",
       "      <th>229</th>\n",
       "      <td>3KVQ0UJWPXMUWB3UPVC6XSKX54H5WE</td>\n",
       "      <td>The zero point of any thermodynamic temperature scale , such as Kelvin or Rankine , is set at absolute zero .</td>\n",
       "      <td>36</td>\n",
       "      <td>47</td>\n",
       "      <td>temperature</td>\n",
       "      <td>10</td>\n",
       "      <td>10</td>\n",
       "      <td>2</td>\n",
       "      <td>0</td>\n",
       "      <td>1</td>\n",
       "      <td>0.10</td>\n",
       "      <td>387</td>\n",
       "    </tr>\n",
       "    <tr>\n",
       "      <th>230</th>\n",
       "      <td>3KVQ0UJWPXMUWB3UPVC6XSKX54H5WE</td>\n",
       "      <td>The zero point of any thermodynamic temperature scale , such as Kelvin or Rankine , is set at absolute zero .</td>\n",
       "      <td>36</td>\n",
       "      <td>53</td>\n",
       "      <td>temperature scale</td>\n",
       "      <td>10</td>\n",
       "      <td>10</td>\n",
       "      <td>1</td>\n",
       "      <td>0</td>\n",
       "      <td>1</td>\n",
       "      <td>0.05</td>\n",
       "      <td>387</td>\n",
       "    </tr>\n",
       "    <tr>\n",
       "      <th>231</th>\n",
       "      <td>3KVQ0UJWPXMUWB3UPVC6XSKX54H5WE</td>\n",
       "      <td>The zero point of any thermodynamic temperature scale , such as Kelvin or Rankine , is set at absolute zero .</td>\n",
       "      <td>48</td>\n",
       "      <td>53</td>\n",
       "      <td>scale</td>\n",
       "      <td>10</td>\n",
       "      <td>10</td>\n",
       "      <td>1</td>\n",
       "      <td>1</td>\n",
       "      <td>1</td>\n",
       "      <td>0.10</td>\n",
       "      <td>387</td>\n",
       "    </tr>\n",
       "    <tr>\n",
       "      <th>232</th>\n",
       "      <td>3KVQ0UJWPXMUWB3UPVC6XSKX54H5WE</td>\n",
       "      <td>The zero point of any thermodynamic temperature scale , such as Kelvin or Rankine , is set at absolute zero .</td>\n",
       "      <td>64</td>\n",
       "      <td>70</td>\n",
       "      <td>Kelvin</td>\n",
       "      <td>10</td>\n",
       "      <td>10</td>\n",
       "      <td>2</td>\n",
       "      <td>0</td>\n",
       "      <td>1</td>\n",
       "      <td>0.10</td>\n",
       "      <td>387</td>\n",
       "    </tr>\n",
       "    <tr>\n",
       "      <th>233</th>\n",
       "      <td>3KVQ0UJWPXMUWB3UPVC6XSKX54H5WE</td>\n",
       "      <td>The zero point of any thermodynamic temperature scale , such as Kelvin or Rankine , is set at absolute zero .</td>\n",
       "      <td>74</td>\n",
       "      <td>81</td>\n",
       "      <td>Rankine</td>\n",
       "      <td>10</td>\n",
       "      <td>10</td>\n",
       "      <td>2</td>\n",
       "      <td>0</td>\n",
       "      <td>1</td>\n",
       "      <td>0.10</td>\n",
       "      <td>387</td>\n",
       "    </tr>\n",
       "    <tr>\n",
       "      <th>234</th>\n",
       "      <td>3KVQ0UJWPXMUWB3UPVC6XSKX54H5WE</td>\n",
       "      <td>The zero point of any thermodynamic temperature scale , such as Kelvin or Rankine , is set at absolute zero .</td>\n",
       "      <td>94</td>\n",
       "      <td>102</td>\n",
       "      <td>absolute</td>\n",
       "      <td>10</td>\n",
       "      <td>10</td>\n",
       "      <td>0</td>\n",
       "      <td>0</td>\n",
       "      <td>0</td>\n",
       "      <td>0.00</td>\n",
       "      <td>387</td>\n",
       "    </tr>\n",
       "    <tr>\n",
       "      <th>235</th>\n",
       "      <td>3KVQ0UJWPXMUWB3UPVC6XSKX54H5WE</td>\n",
       "      <td>The zero point of any thermodynamic temperature scale , such as Kelvin or Rankine , is set at absolute zero .</td>\n",
       "      <td>87</td>\n",
       "      <td>90</td>\n",
       "      <td>set</td>\n",
       "      <td>10</td>\n",
       "      <td>10</td>\n",
       "      <td>0</td>\n",
       "      <td>0</td>\n",
       "      <td>0</td>\n",
       "      <td>0.00</td>\n",
       "      <td>387</td>\n",
       "    </tr>\n",
       "    <tr>\n",
       "      <th>236</th>\n",
       "      <td>3KVQ0UJWPXMUWB3UPVC6XSKX54H5WE</td>\n",
       "      <td>The zero point of any thermodynamic temperature scale , such as Kelvin or Rankine , is set at absolute zero .</td>\n",
       "      <td>94</td>\n",
       "      <td>107</td>\n",
       "      <td>absolute zero</td>\n",
       "      <td>10</td>\n",
       "      <td>10</td>\n",
       "      <td>1</td>\n",
       "      <td>0</td>\n",
       "      <td>1</td>\n",
       "      <td>0.05</td>\n",
       "      <td>387</td>\n",
       "    </tr>\n",
       "  </tbody>\n",
       "</table>\n",
       "</div>"
      ],
      "text/plain": [
       "                                 id  \\\n",
       "226  3KVQ0UJWPXMUWB3UPVC6XSKX54H5WE   \n",
       "227  3KVQ0UJWPXMUWB3UPVC6XSKX54H5WE   \n",
       "228  3KVQ0UJWPXMUWB3UPVC6XSKX54H5WE   \n",
       "229  3KVQ0UJWPXMUWB3UPVC6XSKX54H5WE   \n",
       "230  3KVQ0UJWPXMUWB3UPVC6XSKX54H5WE   \n",
       "231  3KVQ0UJWPXMUWB3UPVC6XSKX54H5WE   \n",
       "232  3KVQ0UJWPXMUWB3UPVC6XSKX54H5WE   \n",
       "233  3KVQ0UJWPXMUWB3UPVC6XSKX54H5WE   \n",
       "234  3KVQ0UJWPXMUWB3UPVC6XSKX54H5WE   \n",
       "235  3KVQ0UJWPXMUWB3UPVC6XSKX54H5WE   \n",
       "236  3KVQ0UJWPXMUWB3UPVC6XSKX54H5WE   \n",
       "\n",
       "                                                                                                          sentence  \\\n",
       "226  The zero point of any thermodynamic temperature scale , such as Kelvin or Rankine , is set at absolute zero .   \n",
       "227  The zero point of any thermodynamic temperature scale , such as Kelvin or Rankine , is set at absolute zero .   \n",
       "228  The zero point of any thermodynamic temperature scale , such as Kelvin or Rankine , is set at absolute zero .   \n",
       "229  The zero point of any thermodynamic temperature scale , such as Kelvin or Rankine , is set at absolute zero .   \n",
       "230  The zero point of any thermodynamic temperature scale , such as Kelvin or Rankine , is set at absolute zero .   \n",
       "231  The zero point of any thermodynamic temperature scale , such as Kelvin or Rankine , is set at absolute zero .   \n",
       "232  The zero point of any thermodynamic temperature scale , such as Kelvin or Rankine , is set at absolute zero .   \n",
       "233  The zero point of any thermodynamic temperature scale , such as Kelvin or Rankine , is set at absolute zero .   \n",
       "234  The zero point of any thermodynamic temperature scale , such as Kelvin or Rankine , is set at absolute zero .   \n",
       "235  The zero point of any thermodynamic temperature scale , such as Kelvin or Rankine , is set at absolute zero .   \n",
       "236  The zero point of any thermodynamic temperature scale , such as Kelvin or Rankine , is set at absolute zero .   \n",
       "\n",
       "     start  end             target  nat  non_nat  nat_marked  non_nat_marked  \\\n",
       "226      4   14         zero point   10       10           1               0   \n",
       "227     22   35      thermodynamic   10       10           2               2   \n",
       "228      9   14              point   10       10           0               0   \n",
       "229     36   47        temperature   10       10           2               0   \n",
       "230     36   53  temperature scale   10       10           1               0   \n",
       "231     48   53              scale   10       10           1               1   \n",
       "232     64   70             Kelvin   10       10           2               0   \n",
       "233     74   81            Rankine   10       10           2               0   \n",
       "234     94  102           absolute   10       10           0               0   \n",
       "235     87   90                set   10       10           0               0   \n",
       "236     94  107      absolute zero   10       10           1               0   \n",
       "\n",
       "     binary  prob  sent_id  \n",
       "226       1  0.05      387  \n",
       "227       1  0.20      387  \n",
       "228       0  0.00      387  \n",
       "229       1  0.10      387  \n",
       "230       1  0.05      387  \n",
       "231       1  0.10      387  \n",
       "232       1  0.10      387  \n",
       "233       1  0.10      387  \n",
       "234       0  0.00      387  \n",
       "235       0  0.00      387  \n",
       "236       1  0.05      387  "
      ]
     },
     "execution_count": 637,
     "metadata": {},
     "output_type": "execute_result"
    }
   ],
   "source": [
    "dataset.loc[dataset.sent_id==387,]"
   ]
  },
  {
   "cell_type": "code",
   "execution_count": null,
   "metadata": {
    "collapsed": true
   },
   "outputs": [],
   "source": []
  }
 ],
 "metadata": {
  "kernelspec": {
   "display_name": "Python 3",
   "language": "python",
   "name": "python3"
  },
  "language_info": {
   "codemirror_mode": {
    "name": "ipython",
    "version": 3
   },
   "file_extension": ".py",
   "mimetype": "text/x-python",
   "name": "python",
   "nbconvert_exporter": "python",
   "pygments_lexer": "ipython3",
   "version": "3.6.6"
  }
 },
 "nbformat": 4,
 "nbformat_minor": 2
}
