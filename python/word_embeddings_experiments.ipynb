{
 "cells": [
  {
   "cell_type": "markdown",
   "metadata": {},
   "source": [
    "# Word Embedding Experiments\n",
    "Here we implement all experiments for evaluating the classification performance of different kinds of pretrained word embeddings for complex word identification."
   ]
  },
  {
   "cell_type": "code",
   "execution_count": 68,
   "metadata": {
    "collapsed": true
   },
   "outputs": [],
   "source": [
    "import pandas as pd\n",
    "import numpy as np\n",
    "import matplotlib.pyplot as plt\n",
    "from nltk.corpus import wordnet as wn\n",
    "from nltk.corpus import sentiwordnet as swn\n",
    "from nltk.wsd import lesk\n",
    "import nltk\n",
    "from collections import namedtuple"
   ]
  },
  {
   "cell_type": "code",
   "execution_count": 69,
   "metadata": {},
   "outputs": [],
   "source": [
    "MAIN_PATH_DATASET = \"../cwishareddataset/traindevset/english/\"\n",
    "genres = ['Wikipedia', 'WikiNews', 'News']\n",
    "datasets = ['Train', 'Dev']\n",
    "columns = ['id', 'sentence', \"start\", \"end\", \"target\", \n",
    "           \"nat\", \"non_nat\", \"nat_marked\", \"non_nat_marked\", \"binary\", \"prob\"]\n",
    "\n",
    "Model = namedtuple('Model', 'type, name, dimension, corpus, model')\n",
    "Dataset = namedtuple('Dataset', 'name, train, test')\n",
    "\n",
    "datasets = [Dataset('Wikipedia', 'Train', 'Dev'),\n",
    "            Dataset('WikiNews', 'Train', 'Dev'),\n",
    "            Dataset('News', 'Train', 'Dev')]\n",
    "\n",
    "def load_df(path):\n",
    "    df = pd.read_csv(path, header=None, sep = \"\\t\")\n",
    "    df.columns = columns\n",
    "    return df.filter(['binary','target'], axis=1)\n",
    "\n",
    "datasets = [Dataset(d.name, load_df(MAIN_PATH_DATASET + d.name + '_' + d.train + '.tsv'),\n",
    "                            load_df(MAIN_PATH_DATASET + d.name + '_' + d.test + '.tsv'))\n",
    "                            for d in datasets]"
   ]
  },
  {
   "cell_type": "code",
   "execution_count": null,
   "metadata": {},
   "outputs": [],
   "source": [
    "from gensim.test.utils import datapath, get_tmpfile\n",
    "from gensim.models import KeyedVectors\n",
    "from gensim.scripts.glove2word2vec import glove2word2vec\n",
    "\n",
    "MAIN_PATH = 'D:/workspace_python/CoWoReId/python/resources/word-embeddings/'\n",
    "\n",
    "glove_file = datapath(MAIN_PATH + 'glove.42B.300d.txt')\n",
    "tmp_file = get_tmpfile(\"glove2word2vec.txt\")\n",
    "\n",
    "glove2word2vec(glove_file, tmp_file)\n",
    "\n",
    "model_glove_wiki_50d = KeyedVectors.load_word2vec_format(tmp_file)\n",
    "#model_word2vec_300d = KeyedVectors.load_word2vec_format(datapath(MAIN_PATH + 'GoogleNews-vectors-negative300.bin'), binary=True)"
   ]
  },
  {
   "cell_type": "markdown",
   "metadata": {},
   "source": [
    "## (1) Load GloVe embeddings"
   ]
  },
  {
   "cell_type": "code",
   "execution_count": 34,
   "metadata": {},
   "outputs": [
    {
     "name": "stdout",
     "output_type": "stream",
     "text": [
      "load model : glove.6B.50d.txt\n",
      "load model : glove.6B.100d.txt\n",
      "load model : glove.6B.200d.txt\n",
      "load model : glove.6B.300d.txt\n",
      "load model : glove.twitter.27B.25d.txt\n",
      "load model : glove.twitter.27B.50d.txt\n",
      "load model : glove.twitter.27B.100d.txt\n",
      "load model : glove.twitter.27B.200d.txt\n",
      "[Model(type='glove', name='glove.6B.50d.txt', dimension=50, corpus='wikipedia+gigaword5', model=<gensim.models.keyedvectors.Word2VecKeyedVectors object at 0x0000008EC772D6D8>), Model(type='glove', name='glove.6B.100d.txt', dimension=100, corpus='wikipedia+gigaword5', model=<gensim.models.keyedvectors.Word2VecKeyedVectors object at 0x0000008D8F45EEF0>), Model(type='glove', name='glove.6B.200d.txt', dimension=200, corpus='wikipedia+gigaword5', model=<gensim.models.keyedvectors.Word2VecKeyedVectors object at 0x0000008ECEE08AC8>), Model(type='glove', name='glove.6B.300d.txt', dimension=300, corpus='wikipedia+gigaword5', model=<gensim.models.keyedvectors.Word2VecKeyedVectors object at 0x0000008F112C21D0>), Model(type='glove', name='glove.twitter.27B.25d.txt', dimension=25, corpus='twitter', model=<gensim.models.keyedvectors.Word2VecKeyedVectors object at 0x0000008F36652EB8>), Model(type='glove', name='glove.twitter.27B.50d.txt', dimension=50, corpus='twitter', model=<gensim.models.keyedvectors.Word2VecKeyedVectors object at 0x0000008F56E21E48>), Model(type='glove', name='glove.twitter.27B.100d.txt', dimension=100, corpus='twitter', model=<gensim.models.keyedvectors.Word2VecKeyedVectors object at 0x0000008F36652CF8>), Model(type='glove', name='glove.twitter.27B.200d.txt', dimension=200, corpus='twitter', model=<gensim.models.keyedvectors.Word2VecKeyedVectors object at 0x0000008FB4545CF8>)]\n"
     ]
    }
   ],
   "source": [
    "from gensim.test.utils import datapath, get_tmpfile\n",
    "from gensim.models import KeyedVectors\n",
    "from gensim.scripts.glove2word2vec import glove2word2vec\n",
    "\n",
    "MAIN_PATH = 'D:/workspace_python/CoWoReId/python/resources/word-embeddings/'\n",
    "\n",
    "glove_defs = [Model('glove', 'glove.6B.50d.txt', 50, 'wikipedia+gigaword5', None), \n",
    "              Model('glove', 'glove.6B.100d.txt',100, 'wikipedia+gigaword5', None),\n",
    "              Model('glove', 'glove.6B.200d.txt', 200, 'wikipedia+gigaword5', None), \n",
    "              Model('glove', 'glove.6B.300d.txt', 300, 'wikipedia+gigaword5', None),\n",
    "               #'glove.42B.300d.txt',  'glove.840B.300d.txt', \n",
    "              Model('glove', 'glove.twitter.27B.25d.txt', 25, 'twitter', None), \n",
    "              Model('glove', 'glove.twitter.27B.50d.txt', 50, 'twitter', None), \n",
    "              Model('glove', 'glove.twitter.27B.100d.txt', 100, 'twitter', None), \n",
    "              Model('glove', 'glove.twitter.27B.200d.txt', 200, 'twitter', None)]\n",
    "\n",
    "glove_models = []\n",
    "for model in glove_defs:\n",
    "    glove_file = datapath(MAIN_PATH + model.name)\n",
    "    tmp_file = get_tmpfile(model.name + '-temp')\n",
    "    glove2word2vec(glove_file, tmp_file)\n",
    "    vecs = KeyedVectors.load_word2vec_format(tmp_file)\n",
    "    glove_models.append(Model(model.type, model.name, model.dimension, model.corpus, vecs))\n",
    "    print('load model : {}'.format(model.name))\n",
    "    \n",
    "print(glove_models)"
   ]
  },
  {
   "cell_type": "markdown",
   "metadata": {},
   "source": [
    "## (2) Load word2vec embeddings"
   ]
  },
  {
   "cell_type": "code",
   "execution_count": 35,
   "metadata": {
    "collapsed": true
   },
   "outputs": [],
   "source": [
    "from gensim.test.utils import datapath\n",
    "from gensim.models import KeyedVectors\n",
    "\n",
    "MAIN_PATH = 'D:/workspace_python/CoWoReId/python/resources/word-embeddings/'\n",
    "model_word2vec = Model('word2vec', 'GoogleNews-vectors-negative300.bin' , 300, 'GoogleNews', \\\n",
    "            KeyedVectors.load_word2vec_format(datapath(MAIN_PATH + 'GoogleNews-vectors-negative300.bin'), binary=True))"
   ]
  },
  {
   "cell_type": "markdown",
   "metadata": {},
   "source": [
    "## (3) Load FastText embeddings"
   ]
  },
  {
   "cell_type": "code",
   "execution_count": 36,
   "metadata": {},
   "outputs": [],
   "source": [
    "from gensim.test.utils import datapath\n",
    "from gensim.models import KeyedVectors\n",
    "from gensim.models.wrappers import FastText\n",
    "\n",
    "MAIN_PATH = 'D:/workspace_python/CoWoReId/python/resources/word-embeddings/'\n",
    "model_fastText = Model('FastText', 'wiki.en.vec', 300, 'Wikipedia', \\\n",
    "                 KeyedVectors.load_word2vec_format(MAIN_PATH + 'wiki.en.vec'))"
   ]
  },
  {
   "cell_type": "code",
   "execution_count": 37,
   "metadata": {},
   "outputs": [
    {
     "data": {
      "text/plain": [
       "[Model(type='glove', name='glove.6B.50d.txt', dimension=50, corpus='wikipedia+gigaword5', model=<gensim.models.keyedvectors.Word2VecKeyedVectors object at 0x0000008EC772D6D8>),\n",
       " Model(type='glove', name='glove.6B.100d.txt', dimension=100, corpus='wikipedia+gigaword5', model=<gensim.models.keyedvectors.Word2VecKeyedVectors object at 0x0000008D8F45EEF0>),\n",
       " Model(type='glove', name='glove.6B.200d.txt', dimension=200, corpus='wikipedia+gigaword5', model=<gensim.models.keyedvectors.Word2VecKeyedVectors object at 0x0000008ECEE08AC8>),\n",
       " Model(type='glove', name='glove.6B.300d.txt', dimension=300, corpus='wikipedia+gigaword5', model=<gensim.models.keyedvectors.Word2VecKeyedVectors object at 0x0000008F112C21D0>),\n",
       " Model(type='glove', name='glove.twitter.27B.25d.txt', dimension=25, corpus='twitter', model=<gensim.models.keyedvectors.Word2VecKeyedVectors object at 0x0000008F36652EB8>),\n",
       " Model(type='glove', name='glove.twitter.27B.50d.txt', dimension=50, corpus='twitter', model=<gensim.models.keyedvectors.Word2VecKeyedVectors object at 0x0000008F56E21E48>),\n",
       " Model(type='glove', name='glove.twitter.27B.100d.txt', dimension=100, corpus='twitter', model=<gensim.models.keyedvectors.Word2VecKeyedVectors object at 0x0000008F36652CF8>),\n",
       " Model(type='glove', name='glove.twitter.27B.200d.txt', dimension=200, corpus='twitter', model=<gensim.models.keyedvectors.Word2VecKeyedVectors object at 0x0000008FB4545CF8>),\n",
       " Model(type='word2vec', name='GoogleNews-vectors-negative300.bin', dimension=300, corpus='GoogleNews', model=<gensim.models.keyedvectors.Word2VecKeyedVectors object at 0x0000008EC772D978>),\n",
       " Model(type='FastText', name='wiki.en.vec', dimension=300, corpus='Wikipedia', model=<gensim.models.keyedvectors.Word2VecKeyedVectors object at 0x00000090FD081B00>)]"
      ]
     },
     "execution_count": 37,
     "metadata": {},
     "output_type": "execute_result"
    }
   ],
   "source": [
    "models = []\n",
    "models.extend(glove_models)\n",
    "models.append(model_word2vec)\n",
    "models.append(model_fastText)\n",
    "models"
   ]
  },
  {
   "cell_type": "markdown",
   "metadata": {},
   "source": [
    "## (4) Compute the embeddings"
   ]
  },
  {
   "cell_type": "code",
   "execution_count": 7,
   "metadata": {},
   "outputs": [],
   "source": [
    "from nltk import word_tokenize\n",
    "\n",
    "def word_embedding(target, model, missing_strat, ngram_repr, *args):\n",
    "    tokens = word_tokenize(target)\n",
    "    if len(tokens) > 1:\n",
    "        # First construct multi-word query\n",
    "        query = '_'.join(tokens)\n",
    "        if query in model.vocab:\n",
    "            return model[query]\n",
    "        query = '_'.join([token.strip().lower() for token in tokens])\n",
    "        if query in model.vocab:\n",
    "            return model[query]\n",
    "        all_embeddings = [model[word.strip().lower()] \n",
    "                              if word.strip().lower() in model.vocab \n",
    "                              else missing_strat(word, model.vector_size) \n",
    "                              for word in tokens]\n",
    "        return ngram_repr(all_embeddings, tokens)\n",
    "    else:\n",
    "        if target in model.vocab:\n",
    "            return model[target]\n",
    "        else:\n",
    "            return model[target.strip().lower()] \\\n",
    "                if target.strip().lower() in model.vocab \\\n",
    "                else missing_strat(target, model.vector_size)"
   ]
  },
  {
   "cell_type": "code",
   "execution_count": 7,
   "metadata": {
    "collapsed": true
   },
   "outputs": [],
   "source": [
    "from ngram_representation import ngram_repr_bag_of_words\n",
    "from ngram_representation import missing_strat_zeros\n",
    "\n",
    "model = model_glove_wiki_50d\n",
    "missing_strat = missing_strat_zeros\n",
    "ngram_repr = ngram_repr_bag_of_words\n",
    "\n",
    "df_train['word_embedding'] = df_train['target'].apply(lambda target : \\\n",
    "            word_embedding(target, model = model, missing_strat = missing_strat, ngram_repr = ngram_repr_bag_of_words))\n",
    "df_train['length'] = df_train.target.apply(lambda target : len(target))\n",
    "df_test['word_embedding'] = df_test['target'].apply(lambda target : \\\n",
    "            word_embedding(target, model = model, missing_strat = missing_strat, ngram_repr = ngram_repr_bag_of_words))\n",
    "df_test['length'] = df_test.target.apply(lambda target : len(target))\n",
    "\n",
    "df_train_embeddings = pd.DataFrame(df_train['word_embedding'].values.tolist())\n",
    "df_test_embeddings = pd.DataFrame(df_test['word_embedding'].values.tolist())\n",
    "df_f_train = pd.concat([df_train.loc[:,['binary', 'length']], df_train_embeddings], axis = 1)\n",
    "df_f_test = pd.concat([df_test.loc[:,['binary', 'length']], df_test_embeddings], axis = 1)"
   ]
  },
  {
   "cell_type": "code",
   "execution_count": 9,
   "metadata": {},
   "outputs": [],
   "source": [
    "def generate_embedding_feat(df, model, ngram_repr, missing_strat):\n",
    "    df_copy = df.copy()\n",
    "    df_copy['word_embedding'] = df_copy['target'].apply(lambda target : \\\n",
    "            word_embedding(target, model = model, missing_strat = missing_strat, \n",
    "            ngram_repr = ngram_repr))\n",
    "    df_embeddings = pd.DataFrame(df_copy['word_embedding'].values.tolist())\n",
    "    return pd.concat([df_copy.loc[:,['binary']], df_embeddings], axis = 1)\n",
    "\n",
    "def generate_embedding_feat_concat(df, models, ngram_repr, missing_strat):\n",
    "    df_copy = df.copy()\n",
    "    df_concat = df_copy.loc[:,['binary']]\n",
    "    for index, model in enumerate(models):\n",
    "        df_copy['word_embedding' + str(index)] = df_copy['target'].apply(lambda target : \\\n",
    "            word_embedding(target, model = model, missing_strat = missing_strat, ngram_repr = ngram_repr))\n",
    "        df_embeddings = pd.DataFrame(df_copy['word_embedding' + str(index)].values.tolist())\n",
    "        df_embeddings = df_embeddings.add_prefix(str(index) + '_')\n",
    "        df_concat = pd.concat([df_concat, df_embeddings], axis = 1)\n",
    "    return df_concat\n",
    "        \n",
    "#ds = [ds.train for ds in datasets if ds.name == 'Wikipedia'][0]\n",
    "#embed = generate_embedding_feat_concat(ds, [model_word2vec.model, model_word2vec.model, model_fastText.model], \\\n",
    "#                        ngram_repr_bow_mean, missing_strat_random)"
   ]
  },
  {
   "cell_type": "code",
   "execution_count": 68,
   "metadata": {
    "collapsed": true
   },
   "outputs": [],
   "source": [
    "from sklearn.neighbors import KNeighborsClassifier\n",
    "from sklearn import svm\n",
    "\n",
    "#Prepare training and test data\n",
    "x_train = df_f_train.loc[:, df_f_train.columns != 'binary']\n",
    "y_train = df_f_train.binary.values\n",
    "x_test = df_f_test.loc[:, df_f_test.columns != 'binary']\n",
    "y_test = df_f_test.binary.values\n",
    "\n",
    "#Prepare KNN\n",
    "knn = KNeighborsClassifier(algorithm='auto', leaf_size=30, metric='minkowski',\n",
    "           metric_params=None, n_jobs=1, n_neighbors=10, p=2,\n",
    "           weights='distance')\n",
    "knn.fit(x_train, y_train) \n",
    "prediction_knn = knn.predict(x_test)\n",
    "\n",
    "svc = svm.SVC(C=1.0, cache_size=200, class_weight=None, coef0=0.0,\n",
    "    decision_function_shape='ovr', degree=3, gamma='auto', kernel='linear',\n",
    "    max_iter=-1, probability=False, random_state=None, shrinking=True,\n",
    "    tol=0.001, verbose=False)\n",
    "svc.fit(x_train, y_train)   \n",
    "prediction_svm = svc.predict(x_test)\n",
    "\n",
    "from sklearn.datasets import load_iris\n",
    "from sklearn.model_selection import cross_val_score\n",
    "from sklearn.tree import DecisionTreeClassifier\n",
    "clf = DecisionTreeClassifier(random_state=0)\n",
    "iris = load_iris()\n",
    "cross_val_score(clf, iris.data, iris.target, cv=10)"
   ]
  },
  {
   "cell_type": "code",
   "execution_count": 10,
   "metadata": {
    "collapsed": true
   },
   "outputs": [],
   "source": [
    "from sklearn.neighbors import KNeighborsClassifier\n",
    "from sklearn import svm\n",
    "from sklearn.metrics import f1_score\n",
    "from sklearn.metrics import make_scorer\n",
    "from sklearn import model_selection\n",
    "from sklearn.neural_network import MLPClassifier\n",
    "\n",
    "\n",
    "def average_classification_f1(train, test):\n",
    "    print('average_classification')\n",
    "    x_train = train.loc[:, train.columns != 'binary']\n",
    "    y_train = train.binary.values\n",
    "    x_test = test.loc[:, test.columns != 'binary']\n",
    "    y_test = test.binary.values\n",
    "    seed = 7\n",
    "    #knn = MLPClassifier(activation='relu', alpha=1e-05, batch_size='auto',\n",
    "     #  beta_1=0.9, beta_2=0.999, early_stopping=False,\n",
    "    #   epsilon=1e-08, hidden_layer_sizes=(5, 100), learning_rate='constant',\n",
    "    #   learning_rate_init=0.001, max_iter=200, momentum=0.9,\n",
    "    #   nesterovs_momentum=True, power_t=0.5, random_state=1, shuffle=True,\n",
    "    #   solver='lbfgs', tol=0.0001, validation_fraction=0.1, verbose=False,\n",
    "    #   warm_start=False)\n",
    "    knn = svm.SVC(C=1.0, cache_size=200, class_weight=None, coef0=0.0,\n",
    "        decision_function_shape='ovr', degree=3, gamma='auto', kernel='rbf',\n",
    "        max_iter=-1, probability=False, random_state=None, shrinking=True,\n",
    "        tol=0.001, verbose=False)\n",
    "    knn.fit(x_train, y_train) \n",
    "    #prediction = knn.predict(x_test)\n",
    "    #f1score = f1_score(y_test, prediction)\n",
    "    kfold = model_selection.KFold(n_splits=2, random_state=seed)\n",
    "    cv_results = model_selection.cross_val_score(knn, x_train, y_train, cv=kfold, scoring=make_scorer(f1_score))\n",
    "    return cv_results"
   ]
  },
  {
   "cell_type": "code",
   "execution_count": 13,
   "metadata": {},
   "outputs": [
    {
     "name": "stdout",
     "output_type": "stream",
     "text": [
      "LR: 0.685225 (0.004390)\n",
      "LDA: 0.672045 (0.007320)\n",
      "KNN: 0.786196 (0.008104)\n",
      "DT: 0.766812 (0.001963)\n",
      "SVM: 0.796774 (0.002496)\n"
     ]
    },
    {
     "data": {
      "image/png": "[encoded data removed]",
      "text/plain": [
       "<Figure size 432x288 with 1 Axes>"
      ]
     },
     "metadata": {},
     "output_type": "display_data"
    }
   ],
   "source": [
    "import matplotlib.pyplot as plt\n",
    "from sklearn import model_selection\n",
    "from sklearn.linear_model import LogisticRegression\n",
    "from sklearn.tree import DecisionTreeClassifier\n",
    "from sklearn.neighbors import KNeighborsClassifier\n",
    "from sklearn.discriminant_analysis import LinearDiscriminantAnalysis\n",
    "from sklearn.naive_bayes import GaussianNB\n",
    "from sklearn.svm import SVC\n",
    "from sklearn.metrics import f1_score\n",
    "from sklearn.metrics import make_scorer\n",
    "\n",
    "#Prepare training and test data\n",
    "x_train = df_f_train.loc[:, df_f_train.columns != 'binary']\n",
    "y_train = df_f_train.binary.values\n",
    "x_test = df_f_test.loc[:, df_f_test.columns != 'binary']\n",
    "y_test = df_f_test.binary.values\n",
    "\n",
    "seed = 7\n",
    "# Build a collection of classification models to evaluate\n",
    "classifiers = []\n",
    "classifiers.append(('LR', LogisticRegression(penalty='l2', dual=False, tol=0.0001, C=1.0, \n",
    "                fit_intercept=True, intercept_scaling=1, class_weight=None, random_state=None, \n",
    "                solver='liblinear', max_iter=100, multi_class='ovr', verbose=0, warm_start=False,\n",
    "                n_jobs=1)))\n",
    "classifiers.append(('LDA', LinearDiscriminantAnalysis()))\n",
    "classifiers.append(('KNN', KNeighborsClassifier(algorithm='auto', leaf_size=30, metric='minkowski',\n",
    "           metric_params=None, n_jobs=1, n_neighbors=10, p=2,\n",
    "           weights='distance')))\n",
    "classifiers.append(('DT', DecisionTreeClassifier(criterion='gini', splitter='best', max_depth=None,\n",
    "           min_samples_split=2, min_samples_leaf=1, min_impurity_split=0 ,min_weight_fraction_leaf=0.0, max_features=None,\n",
    "           random_state=None, max_leaf_nodes=None, class_weight=None, presort=False)))\n",
    "classifiers.append(('SVM', SVC(C=1.0, cache_size=200, class_weight=None, coef0=0.0,\n",
    "    decision_function_shape='ovr', degree=3, gamma='auto', kernel='rbf',\n",
    "    max_iter=-1, probability=False, random_state=None, shrinking=True,\n",
    "    tol=0.001, verbose=False)))\n",
    "# evaluate each model in turn\n",
    "results = []\n",
    "names = []\n",
    "for name, model in classifiers:\n",
    "    kfold = model_selection.KFold(n_splits=2, random_state=seed)\n",
    "    cv_results = model_selection.cross_val_score(model, x_train, y_train, cv=kfold, scoring=make_scorer(f1_score))\n",
    "    results.append(cv_results)\n",
    "    names.append(name)\n",
    "    msg = \"%s: %f (%f)\" % (name, cv_results.mean(), cv_results.std())\n",
    "    print(msg)\n",
    "# boxplot results for different classification algorithms\n",
    "fig = plt.figure()\n",
    "fig.suptitle('Algorithm Comparison')\n",
    "ax = fig.add_subplot(111)\n",
    "plt.boxplot(results)\n",
    "ax.set_xticklabels(names)\n",
    "plt.show()"
   ]
  },
  {
   "cell_type": "code",
   "execution_count": 91,
   "metadata": {},
   "outputs": [
    {
     "ename": "NameError",
     "evalue": "name 'y_test' is not defined",
     "output_type": "error",
     "traceback": [
      "\u001b[0;31m---------------------------------------------------------------------------\u001b[0m",
      "\u001b[0;31mNameError\u001b[0m                                 Traceback (most recent call last)",
      "\u001b[0;32m<ipython-input-91-c3c3f922e2fe>\u001b[0m in \u001b[0;36m<module>\u001b[0;34m()\u001b[0m\n\u001b[1;32m      1\u001b[0m \u001b[1;32mfrom\u001b[0m \u001b[0msklearn\u001b[0m\u001b[1;33m.\u001b[0m\u001b[0mmetrics\u001b[0m \u001b[1;32mimport\u001b[0m \u001b[0mclassification_report\u001b[0m\u001b[1;33m\u001b[0m\u001b[0m\n\u001b[1;32m      2\u001b[0m \u001b[1;33m\u001b[0m\u001b[0m\n\u001b[0;32m----> 3\u001b[0;31m \u001b[0mprint\u001b[0m\u001b[1;33m(\u001b[0m\u001b[0mclassification_report\u001b[0m\u001b[1;33m(\u001b[0m\u001b[0my_test\u001b[0m\u001b[1;33m,\u001b[0m \u001b[0mprediction_knn\u001b[0m\u001b[1;33m)\u001b[0m\u001b[1;33m)\u001b[0m\u001b[1;33m\u001b[0m\u001b[0m\n\u001b[0m\u001b[1;32m      4\u001b[0m \u001b[0mprint\u001b[0m\u001b[1;33m(\u001b[0m\u001b[0mclassification_report\u001b[0m\u001b[1;33m(\u001b[0m\u001b[0my_test\u001b[0m\u001b[1;33m,\u001b[0m \u001b[0mprediction_svm\u001b[0m\u001b[1;33m)\u001b[0m\u001b[1;33m)\u001b[0m\u001b[1;33m\u001b[0m\u001b[0m\n",
      "\u001b[0;31mNameError\u001b[0m: name 'y_test' is not defined"
     ]
    }
   ],
   "source": [
    "from sklearn.metrics import classification_report\n",
    "\n",
    "print(classification_report(y_test, prediction_knn))\n",
    "print(classification_report(y_test, prediction_svm))"
   ]
  },
  {
   "cell_type": "markdown",
   "metadata": {
    "collapsed": true
   },
   "source": [
    "# Experiments\n",
    "Here we define all the experiments and compute the evaluation results of employing word representations to complex word identification."
   ]
  },
  {
   "cell_type": "code",
   "execution_count": 11,
   "metadata": {
    "collapsed": true
   },
   "outputs": [],
   "source": [
    "from collections import namedtuple\n",
    "Result = namedtuple('Result', 'model, dataset, measure')\n",
    "ResultParams = namedtuple('Result', 'model, dataset, params, measure')\n",
    "FeatureSet = namedtuple('FeatureSet', 'model, dataset, featTrain, featTest')\n",
    "FeatureSetParams = namedtuple('FeatureSet', 'model, dataset, params, featTrain, featTest')"
   ]
  },
  {
   "cell_type": "markdown",
   "metadata": {},
   "source": [
    "## (1) Dimension\n",
    "First, we want to evaluate the influence of the dimension of the word representation on the three datasets. Therefore we use GloVe embeddings computed on Wikipedia+Gigaword 5 also denoted by 6B (50, 100, 200, 300) and computed on Twitter (25, 50, 100, 200)."
   ]
  },
  {
   "cell_type": "code",
   "execution_count": 12,
   "metadata": {},
   "outputs": [
    {
     "name": "stdout",
     "output_type": "stream",
     "text": [
      "[ 1.5  2.5  3.5  4.5  5.5]\n",
      "Generating features...\n",
      "Evaluating features...\n",
      "average_classification\n",
      "average_classification\n",
      "average_classification\n"
     ]
    }
   ],
   "source": [
    "from ngram_representation import ngram_repr_bow_mean\n",
    "from ngram_representation import missing_strat_random\n",
    "\n",
    "d_models = [model for model in models\n",
    "              if ('wikipedia' in model.corpus or 'twitter' in model.corpus)]\n",
    "data = datasets\n",
    "\n",
    "ngram_repr = ngram_repr_bow_mean\n",
    "missing_strat = missing_strat_random\n",
    "\n",
    "print('Generating features...')\n",
    "\n",
    "features_data = [FeatureSet(model, d, \n",
    "                        generate_embedding_feat(d.train, model.model, ngram_repr, missing_strat),\n",
    "                        generate_embedding_feat(d.test, model.model, ngram_repr, missing_strat))\n",
    "                 for model in models \n",
    "                 for d in datasets]\n",
    "\n",
    "test_features = [fs for fs in features_data if fs.model.dimension==50 and fs.dataset.name == 'Wikipedia']\n",
    "\n",
    "print('Evaluating features...')\n",
    "results = [Result(fs.model, fs.dataset, average_classification_f1(fs.featTrain, fs.featTest)) for fs in features_data]"
   ]
  },
  {
   "cell_type": "code",
   "execution_count": 13,
   "metadata": {},
   "outputs": [
    {
     "data": {
      "text/plain": [
       "[]"
      ]
     },
     "execution_count": 13,
     "metadata": {},
     "output_type": "execute_result"
    }
   ],
   "source": [
    "d_models"
   ]
  },
  {
   "cell_type": "code",
   "execution_count": 104,
   "metadata": {},
   "outputs": [
    {
     "name": "stdout",
     "output_type": "stream",
     "text": [
      "      dataset  dimension  f1-score\n",
      "0   Wikipedia         50  0.721835\n",
      "1    WikiNews         50  0.693772\n",
      "2        News         50  0.766654\n",
      "3   Wikipedia        100  0.713281\n",
      "4    WikiNews        100  0.700641\n",
      "5        News        100  0.763308\n",
      "6   Wikipedia        200  0.685092\n",
      "7    WikiNews        200  0.677316\n",
      "8        News        200  0.736939\n",
      "9   Wikipedia        300  0.689111\n",
      "10   WikiNews        300  0.676716\n",
      "11       News        300  0.734603\n",
      "12  Wikipedia         25  0.739968\n",
      "13   WikiNews         25  0.706891\n",
      "14       News         25  0.743226\n",
      "15  Wikipedia         50  0.731062\n",
      "16   WikiNews         50  0.711757\n",
      "17       News         50  0.750367\n",
      "18  Wikipedia        100  0.719968\n",
      "19   WikiNews        100  0.707012\n",
      "20       News        100  0.763370\n",
      "21  Wikipedia        200  0.721649\n",
      "22   WikiNews        200  0.709904\n",
      "23       News        200  0.753613\n"
     ]
    },
    {
     "data": {
      "image/png": "[encoded data removed]",
      "text/plain": [
       "<Figure size 432x288 with 1 Axes>"
      ]
     },
     "metadata": {},
     "output_type": "display_data"
    }
   ],
   "source": [
    "import seaborn as sns\n",
    "import pandas as pd\n",
    "import matplotlib.pyplot as plt\n",
    "\n",
    "sns.set(style=\"darkgrid\")\n",
    "\n",
    "dimensions_data = [{'dimension' : result.model.dimension, \n",
    "                    'dataset' : result.dataset.name, 'f1-score' : result.measure[0]} \n",
    "                   for result in results]\n",
    "dimensions_data = pd.DataFrame.from_records(dimensions_data)\n",
    "\n",
    "dim_plot = sns.lineplot(x=\"dimension\", y=\"f1-score\",\n",
    "             hue=\"dataset\", style=\"dataset\", err_style = 'band',\n",
    "             data=dimensions_data)\n",
    "print(dimensions_data)\n",
    "plt.show(dim_plot)"
   ]
  },
  {
   "cell_type": "code",
   "execution_count": 101,
   "metadata": {
    "collapsed": true
   },
   "outputs": [],
   "source": [
    "dim_fig = dim_plot.get_figure()\n",
    "dim_fig.savefig('D:/workspace_python/CoWoReId/dim_plot_svm.pdf')"
   ]
  },
  {
   "cell_type": "markdown",
   "metadata": {},
   "source": [
    "## (2) Corpus\n",
    "Second, we want to evaluate the influence of the corpus of the word representation on the three datasets. Therefore we use GloVe embeddings computed on Wikipedia+Gigaword 5 also denoted by 6B (50, 100, 200) and computed on Twitter (50, 100, 200)."
   ]
  },
  {
   "cell_type": "code",
   "execution_count": 111,
   "metadata": {},
   "outputs": [
    {
     "name": "stdout",
     "output_type": "stream",
     "text": [
      "Generating features...\n",
      "Evaluating features...\n",
      "average_classification\n",
      "average_classification\n",
      "average_classification\n",
      "average_classification\n",
      "average_classification\n",
      "average_classification\n",
      "average_classification\n",
      "average_classification\n",
      "average_classification\n",
      "average_classification\n",
      "average_classification\n",
      "average_classification\n",
      "average_classification\n",
      "average_classification\n",
      "average_classification\n",
      "average_classification\n",
      "average_classification\n",
      "average_classification\n"
     ]
    }
   ],
   "source": [
    "from ngram_representation import ngram_repr_bow_mean\n",
    "from ngram_representation import missing_strat_random\n",
    "\n",
    "d_models = [model for model in models\n",
    "              if (('wikipedia' in model.corpus or 'twitter' in model.corpus) \n",
    "                  and (model.dimension>=50 and model.dimension <=200))]\n",
    "data = datasets\n",
    "\n",
    "ngram_repr = ngram_repr_bow_mean\n",
    "missing_strat = missing_strat_random\n",
    "\n",
    "print('Generating features...')\n",
    "\n",
    "features_data = [FeatureSet(model, d, \n",
    "                        generate_embedding_feat(d.train, model.model, ngram_repr, missing_strat),\n",
    "                        generate_embedding_feat(d.test, model.model, ngram_repr, missing_strat))\n",
    "                 for model in d_models \n",
    "                 for d in datasets]\n",
    "\n",
    "test_features = [fs for fs in features_data if fs.model.dimension==50 and fs.dataset.name == 'Wikipedia']\n",
    "\n",
    "print('Evaluating features...')\n",
    "results = [Result(fs.model, fs.dataset, average_classification_f1(fs.featTrain, fs.featTest)) for fs in features_data]"
   ]
  },
  {
   "cell_type": "code",
   "execution_count": 113,
   "metadata": {},
   "outputs": [
    {
     "name": "stdout",
     "output_type": "stream",
     "text": [
      "                 corpus    dataset  dimension  f1-score\n",
      "0   wikipedia+gigaword5  Wikipedia         50  0.721835\n",
      "1   wikipedia+gigaword5   WikiNews         50  0.693772\n",
      "2   wikipedia+gigaword5       News         50  0.766654\n",
      "3   wikipedia+gigaword5  Wikipedia        100  0.713281\n",
      "4   wikipedia+gigaword5   WikiNews        100  0.700641\n",
      "5   wikipedia+gigaword5       News        100  0.763308\n",
      "6   wikipedia+gigaword5  Wikipedia        200  0.685092\n",
      "7   wikipedia+gigaword5   WikiNews        200  0.677316\n",
      "8   wikipedia+gigaword5       News        200  0.736939\n",
      "9               twitter  Wikipedia         50  0.731062\n",
      "10              twitter   WikiNews         50  0.711757\n",
      "11              twitter       News         50  0.750367\n",
      "12              twitter  Wikipedia        100  0.719968\n",
      "13              twitter   WikiNews        100  0.707012\n",
      "14              twitter       News        100  0.763370\n",
      "15              twitter  Wikipedia        200  0.721649\n",
      "16              twitter   WikiNews        200  0.709904\n",
      "17              twitter       News        200  0.753613\n"
     ]
    },
    {
     "data": {
      "image/png": "[encoded data removed]",
      "text/plain": [
       "<Figure size 432x288 with 1 Axes>"
      ]
     },
     "metadata": {},
     "output_type": "display_data"
    }
   ],
   "source": [
    "import seaborn as sns\n",
    "import pandas as pd\n",
    "import matplotlib.pyplot as plt\n",
    "\n",
    "sns.set(style=\"darkgrid\")\n",
    "\n",
    "corpus_data = [{'dimension' : result.model.dimension, \n",
    "                    'dataset' : result.dataset.name, 'corpus': result.model.corpus , 'f1-score' : result.measure[0]} \n",
    "                   for result in results]\n",
    "corpus_data = pd.DataFrame.from_records(corpus_data)\n",
    "\n",
    "corpus_plot = sns.lineplot(x=\"dimension\", y=\"f1-score\",\n",
    "             hue=\"corpus\", style=\"dataset\", err_style = 'band',\n",
    "             data=corpus_data)\n",
    "print(corpus_data)\n",
    "plt.show(corpus_plot)"
   ]
  },
  {
   "cell_type": "code",
   "execution_count": 121,
   "metadata": {
    "collapsed": true
   },
   "outputs": [],
   "source": [
    "corpus_plot = corpus_plot.get_figure()\n",
    "corpus_plot.savefig('D:/workspace_python/CoWoReId/dim_plot_corpus.pdf')"
   ]
  },
  {
   "cell_type": "markdown",
   "metadata": {},
   "source": [
    "## (3) Model\n",
    "Third, we want to evaluate the influence of the model used to train the word representation on the three datasets. Therefore we use GloVe (300), word2Vec (300) and FastText (300)."
   ]
  },
  {
   "cell_type": "code",
   "execution_count": 125,
   "metadata": {},
   "outputs": [
    {
     "name": "stdout",
     "output_type": "stream",
     "text": [
      "Generating features...\n",
      "Evaluating features...\n",
      "average_classification\n",
      "average_classification\n",
      "average_classification\n",
      "average_classification\n",
      "average_classification\n",
      "average_classification\n",
      "average_classification\n",
      "average_classification\n",
      "average_classification\n"
     ]
    }
   ],
   "source": [
    "from ngram_representation import ngram_repr_bow_mean\n",
    "from ngram_representation import missing_strat_random\n",
    "\n",
    "d_models = [model for model in models\n",
    "              if (model.dimension == 300)]\n",
    "data = datasets\n",
    "\n",
    "ngram_repr = ngram_repr_bow_mean\n",
    "missing_strat = missing_strat_random\n",
    "\n",
    "print('Generating features...')\n",
    "\n",
    "features_data = [FeatureSet(model, d, \n",
    "                        generate_embedding_feat(d.train, model.model, ngram_repr, missing_strat),\n",
    "                        generate_embedding_feat(d.test, model.model, ngram_repr, missing_strat))\n",
    "                 for model in d_models \n",
    "                 for d in datasets]\n",
    "\n",
    "test_features = [fs for fs in features_data if fs.model.dimension==50 and fs.dataset.name == 'Wikipedia']\n",
    "\n",
    "print('Evaluating features...')\n",
    "results = [Result(fs.model, fs.dataset, average_classification_f1(fs.featTrain, fs.featTest)) for fs in features_data]"
   ]
  },
  {
   "cell_type": "code",
   "execution_count": 147,
   "metadata": {},
   "outputs": [
    {
     "name": "stdout",
     "output_type": "stream",
     "text": [
      "     dataset  dimension  f1-score     model\n",
      "0  Wikipedia        300  0.689111     glove\n",
      "1   WikiNews        300  0.676716     glove\n",
      "2       News        300  0.734603     glove\n",
      "3  Wikipedia        300  0.496983  word2vec\n",
      "4   WikiNews        300  0.488283  word2vec\n",
      "5       News        300  0.637511  word2vec\n",
      "6  Wikipedia        300  0.538182  FastText\n",
      "7   WikiNews        300  0.603957  FastText\n",
      "8       News        300  0.674527  FastText\n"
     ]
    },
    {
     "data": {
      "image/png": "[encoded data removed]",
      "text/plain": [
       "<Figure size 432x288 with 1 Axes>"
      ]
     },
     "metadata": {},
     "output_type": "display_data"
    }
   ],
   "source": [
    "import seaborn as sns\n",
    "import pandas as pd\n",
    "import matplotlib.pyplot as plt\n",
    "\n",
    "sns.set(style=\"darkgrid\", palette=\"GnBu_d\")\n",
    "\n",
    "model_data = [{'dimension' : result.model.dimension, \n",
    "                    'dataset' : result.dataset.name, 'model': result.model.type , 'f1-score' : result.measure[0]} \n",
    "                   for result in results]\n",
    "model_data = pd.DataFrame.from_records(model_data)\n",
    "\n",
    "model_plot = sns.barplot(x=\"model\", y=\"f1-score\", hue=\"dataset\", data=model_data)\n",
    "print(model_data)\n",
    "plt.show(model_plot)"
   ]
  },
  {
   "cell_type": "code",
   "execution_count": 148,
   "metadata": {
    "collapsed": true
   },
   "outputs": [],
   "source": [
    "model_plot = model_plot.get_figure()\n",
    "model_plot.savefig('D:/workspace_python/CoWoReId/model_plot.pdf')"
   ]
  },
  {
   "cell_type": "markdown",
   "metadata": {},
   "source": [
    "## (4) Concatenations\n",
    "Third, we want to evaluate the influence of the concatenating different kinds of word representations on the three datasets. Therefore we use GloVe (300), word2Vec (300) and FastText (300) word embeddings and experiment with different kinds of concatenations. First we focus on evaluating 2-combinations of word representations and generate the cross product. For example, we observe that concatenating glove50-wiki with glove50-twitter outperforms the single models with dimension 50 but also outperforms the single models with dimension 100 i.e. glove100-wiki and glove100-twitter."
   ]
  },
  {
   "cell_type": "code",
   "execution_count": 199,
   "metadata": {},
   "outputs": [
    {
     "name": "stdout",
     "output_type": "stream",
     "text": [
      "Generating features...\n",
      "Evaluating features...\n",
      "average_classification\n",
      "average_classification\n",
      "average_classification\n",
      "average_classification\n",
      "average_classification\n",
      "average_classification\n",
      "average_classification\n",
      "average_classification\n",
      "average_classification\n",
      "average_classification\n",
      "average_classification\n",
      "average_classification\n",
      "average_classification\n",
      "average_classification\n",
      "average_classification\n",
      "average_classification\n",
      "average_classification\n",
      "average_classification\n",
      "average_classification\n",
      "average_classification\n",
      "average_classification\n",
      "average_classification\n",
      "average_classification\n",
      "average_classification\n",
      "average_classification\n",
      "average_classification\n",
      "average_classification\n",
      "average_classification\n",
      "average_classification\n",
      "average_classification\n",
      "average_classification\n",
      "average_classification\n",
      "average_classification\n",
      "average_classification\n",
      "average_classification\n",
      "average_classification\n"
     ]
    }
   ],
   "source": [
    "from ngram_representation import ngram_repr_bow_mean\n",
    "from ngram_representation import missing_strat_random\n",
    "\n",
    "d_models = [model for model in models\n",
    "              if (model.dimension >= 50 and model.dimension <=100)]\n",
    "data = datasets\n",
    "\n",
    "ngram_repr = ngram_repr_bow_mean\n",
    "missing_strat = missing_strat_random\n",
    "\n",
    "print('Generating features...')\n",
    "\n",
    "#TODO consider using range for iterating the models to avoid double experiments\n",
    "features_data = [FeatureSet((model1, model2), d, \n",
    "                        generate_embedding_feat_concat(d.train, [model1.model, model2.model], ngram_repr, missing_strat),\n",
    "                        generate_embedding_feat_concat(d.test, [model1.model, model2.model], ngram_repr, missing_strat))\n",
    "                 for model1 in d_models\n",
    "                 for model2 in d_models\n",
    "                 for d in datasets if model1 != model2]\n",
    "\n",
    "print('Evaluating features...')\n",
    "results = [Result(fs.model, fs.dataset, average_classification_f1(fs.featTrain, fs.featTest)) for fs in features_data]"
   ]
  },
  {
   "cell_type": "code",
   "execution_count": 200,
   "metadata": {},
   "outputs": [
    {
     "data": {
      "text/plain": [
       "[Model(type='glove', name='glove.6B.50d.txt', dimension=50, corpus='wikipedia+gigaword5', model=<gensim.models.keyedvectors.Word2VecKeyedVectors object at 0x0000005A8A8CCF60>),\n",
       " Model(type='glove', name='glove.6B.100d.txt', dimension=100, corpus='wikipedia+gigaword5', model=<gensim.models.keyedvectors.Word2VecKeyedVectors object at 0x0000005AA3772550>),\n",
       " Model(type='glove', name='glove.twitter.27B.50d.txt', dimension=50, corpus='twitter', model=<gensim.models.keyedvectors.Word2VecKeyedVectors object at 0x0000005B1995DF60>),\n",
       " Model(type='glove', name='glove.twitter.27B.100d.txt', dimension=100, corpus='twitter', model=<gensim.models.keyedvectors.Word2VecKeyedVectors object at 0x0000005AF913DDD8>)]"
      ]
     },
     "execution_count": 200,
     "metadata": {},
     "output_type": "execute_result"
    }
   ],
   "source": [
    "d_models"
   ]
  },
  {
   "cell_type": "code",
   "execution_count": 201,
   "metadata": {},
   "outputs": [
    {
     "name": "stdout",
     "output_type": "stream",
     "text": [
      "      dataset  dimension  f1-score  \\\n",
      "0   Wikipedia        150  0.729056   \n",
      "1    WikiNews        150  0.708293   \n",
      "2        News        150  0.766483   \n",
      "3   Wikipedia        100  0.735751   \n",
      "4    WikiNews        100  0.718159   \n",
      "5        News        100  0.768974   \n",
      "6   Wikipedia        150  0.723558   \n",
      "7    WikiNews        150  0.720331   \n",
      "8        News        150  0.769860   \n",
      "9   Wikipedia        150  0.729056   \n",
      "10   WikiNews        150  0.708293   \n",
      "11       News        150  0.766483   \n",
      "12  Wikipedia        150  0.732394   \n",
      "13   WikiNews        150  0.725047   \n",
      "14       News        150  0.771968   \n",
      "15  Wikipedia        200  0.733709   \n",
      "16   WikiNews        200  0.721011   \n",
      "17       News        200  0.775503   \n",
      "18  Wikipedia        100  0.735751   \n",
      "19   WikiNews        100  0.718159   \n",
      "20       News        100  0.768974   \n",
      "21  Wikipedia        150  0.732394   \n",
      "22   WikiNews        150  0.725047   \n",
      "23       News        150  0.771968   \n",
      "24  Wikipedia        150  0.729242   \n",
      "25   WikiNews        150  0.707084   \n",
      "26       News        150  0.761208   \n",
      "27  Wikipedia        150  0.723558   \n",
      "28   WikiNews        150  0.720331   \n",
      "29       News        150  0.769860   \n",
      "30  Wikipedia        200  0.733709   \n",
      "31   WikiNews        200  0.721011   \n",
      "32       News        200  0.775503   \n",
      "33  Wikipedia        150  0.729242   \n",
      "34   WikiNews        150  0.707084   \n",
      "35       News        150  0.761208   \n",
      "\n",
      "                                                model  \n",
      "0   glove50wikipedia+gigaword5glove100wikipedia+gi...  \n",
      "1   glove50wikipedia+gigaword5glove100wikipedia+gi...  \n",
      "2   glove50wikipedia+gigaword5glove100wikipedia+gi...  \n",
      "3            glove50wikipedia+gigaword5glove50twitter  \n",
      "4            glove50wikipedia+gigaword5glove50twitter  \n",
      "5            glove50wikipedia+gigaword5glove50twitter  \n",
      "6           glove50wikipedia+gigaword5glove100twitter  \n",
      "7           glove50wikipedia+gigaword5glove100twitter  \n",
      "8           glove50wikipedia+gigaword5glove100twitter  \n",
      "9   glove100wikipedia+gigaword5glove50wikipedia+gi...  \n",
      "10  glove100wikipedia+gigaword5glove50wikipedia+gi...  \n",
      "11  glove100wikipedia+gigaword5glove50wikipedia+gi...  \n",
      "12          glove100wikipedia+gigaword5glove50twitter  \n",
      "13          glove100wikipedia+gigaword5glove50twitter  \n",
      "14          glove100wikipedia+gigaword5glove50twitter  \n",
      "15         glove100wikipedia+gigaword5glove100twitter  \n",
      "16         glove100wikipedia+gigaword5glove100twitter  \n",
      "17         glove100wikipedia+gigaword5glove100twitter  \n",
      "18           glove50twitterglove50wikipedia+gigaword5  \n",
      "19           glove50twitterglove50wikipedia+gigaword5  \n",
      "20           glove50twitterglove50wikipedia+gigaword5  \n",
      "21          glove50twitterglove100wikipedia+gigaword5  \n",
      "22          glove50twitterglove100wikipedia+gigaword5  \n",
      "23          glove50twitterglove100wikipedia+gigaword5  \n",
      "24                      glove50twitterglove100twitter  \n",
      "25                      glove50twitterglove100twitter  \n",
      "26                      glove50twitterglove100twitter  \n",
      "27          glove100twitterglove50wikipedia+gigaword5  \n",
      "28          glove100twitterglove50wikipedia+gigaword5  \n",
      "29          glove100twitterglove50wikipedia+gigaword5  \n",
      "30         glove100twitterglove100wikipedia+gigaword5  \n",
      "31         glove100twitterglove100wikipedia+gigaword5  \n",
      "32         glove100twitterglove100wikipedia+gigaword5  \n",
      "33                      glove100twitterglove50twitter  \n",
      "34                      glove100twitterglove50twitter  \n",
      "35                      glove100twitterglove50twitter  \n"
     ]
    },
    {
     "data": {
      "image/png": "[encoded data removed]",
      "text/plain": [
       "<Figure size 432x288 with 1 Axes>"
      ]
     },
     "metadata": {},
     "output_type": "display_data"
    }
   ],
   "source": [
    "import seaborn as sns\n",
    "import pandas as pd\n",
    "import matplotlib.pyplot as plt\n",
    "\n",
    "sns.set(style=\"darkgrid\")\n",
    "\n",
    "concat_model_data = [{'dimension' : (result.model[0].dimension + result.model[1].dimension),\n",
    "                      'dataset' : result.dataset.name, \n",
    "                      'model': (result.model[0].type + \\\n",
    "                                str(result.model[0].dimension) + result.model[0].corpus \\\n",
    "                                + result.model[1].type +\n",
    "                               str(result.model[1].dimension) + result.model[1].corpus) , \n",
    "                      'f1-score' : result.measure[0]} \n",
    "                      for result in results]\n",
    "concat_model_data = pd.DataFrame.from_records(concat_model_data)\n",
    "\n",
    "concat_model_plot = sns.barplot(x=\"model\", y=\"f1-score\", hue=\"dataset\", data=concat_model_data)\n",
    "print(concat_model_data)\n",
    "plt.show(concat_model_plot)"
   ]
  },
  {
   "cell_type": "markdown",
   "metadata": {},
   "source": [
    "## (5) NGram Representation\n",
    "Here we investigate the performance of different kinds of aggregation methods for constructing ngram vector representations for MWE. Here it may be meaningful to filter the data first to only include e.g. bigrams, trigrams or ngrams. Then we compute classification scores for multiple classifiers/datasets/models and maybe aggregate them. Then we can visualize the individual ngram aggregation method scores."
   ]
  },
  {
   "cell_type": "markdown",
   "metadata": {},
   "source": [
    "### (1) Overall Influence of Representation"
   ]
  },
  {
   "cell_type": "code",
   "execution_count": 71,
   "metadata": {},
   "outputs": [],
   "source": [
    "MAIN_PATH_DATASET = \"../cwishareddataset/traindevset/english/\"\n",
    "genres = ['Wikipedia', 'WikiNews', 'News']\n",
    "datasets = ['Train', 'Dev']\n",
    "columns = ['id', 'sentence', \"start\", \"end\", \"target\", \n",
    "           \"nat\", \"non_nat\", \"nat_marked\", \"non_nat_marked\", \"binary\", \"prob\"]\n",
    "\n",
    "Model = namedtuple('Model', 'type, name, dimension, corpus, model')\n",
    "Dataset = namedtuple('Dataset', 'name, train, test')\n",
    "\n",
    "datasets_init = [Dataset('Wikipedia', 'Train', 'Dev'),\n",
    "            Dataset('WikiNews', 'Train', 'Dev'),\n",
    "            Dataset('News', 'Train', 'Dev')]\n",
    "\n",
    "def load_df(path):\n",
    "    df = pd.read_csv(path, header=None, sep = \"\\t\")\n",
    "    df.columns = columns\n",
    "    df['length'] = df.target.apply(lambda target : len(target.split()))\n",
    "    return df.filter(['binary','target', 'length'], axis=1)\n",
    "\n",
    "datasets = [Dataset(d.name, load_df(MAIN_PATH_DATASET + d.name + '_' + d.train + '.tsv'),\n",
    "                            load_df(MAIN_PATH_DATASET + d.name + '_' + d.test + '.tsv')) for d in datasets_init]"
   ]
  },
  {
   "cell_type": "code",
   "execution_count": 72,
   "metadata": {},
   "outputs": [
    {
     "data": {
      "text/plain": [
       "[array([1, 3, 2, 4, 6, 8, 5], dtype=int64),\n",
       " array([1, 6, 3, 4, 2, 5], dtype=int64),\n",
       " array([1, 2, 3, 4, 5, 6], dtype=int64)]"
      ]
     },
     "execution_count": 72,
     "metadata": {},
     "output_type": "execute_result"
    }
   ],
   "source": [
    "def show_ngrams(dataframe):\n",
    "    #return dataframe.groupby('length').describe()\n",
    "    #return dataframe.loc[dataframe['length'] == 3,]\n",
    "    return dataframe.length.unique()\n",
    "    \n",
    "[show_ngrams(dataset.test) for dataset in datasets]"
   ]
  },
  {
   "cell_type": "code",
   "execution_count": 30,
   "metadata": {
    "collapsed": true
   },
   "outputs": [],
   "source": [
    "word_freq_wiki = {}\n",
    "sum_counts = 0\n",
    "with open(\"resources/word-freq-dumps/enwiki-20150602-words-frequency.txt\", encoding=\"utf8\") as file:\n",
    "    for line in file:\n",
    "        word, freq = line.partition(\" \")[::2]\n",
    "        sum_counts+=int(freq)\n",
    "        word_freq_wiki[word.strip()] = int(freq)\n",
    "        \n",
    "# This is with a laplace smoothing\n",
    "def get_unigram_probability(word):\n",
    "    if word not in word_freq_wiki:\n",
    "        word = word.strip().lower() \n",
    "    return word_freq_wiki.get(word, 1) / (sum_counts + len(word_freq_wiki))"
   ]
  },
  {
   "cell_type": "code",
   "execution_count": 32,
   "metadata": {},
   "outputs": [
    {
     "data": {
      "text/plain": [
       "1.681961691432931e-05"
      ]
     },
     "execution_count": 32,
     "metadata": {},
     "output_type": "execute_result"
    }
   ],
   "source": [
    "get_unigram_probability('aboriginal')"
   ]
  },
  {
   "cell_type": "code",
   "execution_count": 57,
   "metadata": {},
   "outputs": [
    {
     "name": "stdout",
     "output_type": "stream",
     "text": [
      "Generating features...\n",
      "Evaluating features...\n",
      "average_classification\n",
      "average_classification\n",
      "average_classification\n",
      "average_classification\n",
      "average_classification\n",
      "average_classification\n",
      "average_classification\n",
      "average_classification\n",
      "average_classification\n",
      "average_classification\n",
      "average_classification\n",
      "average_classification\n",
      "average_classification\n",
      "average_classification\n",
      "average_classification\n",
      "average_classification\n",
      "average_classification\n",
      "average_classification\n",
      "average_classification\n",
      "average_classification\n",
      "average_classification\n",
      "average_classification\n",
      "average_classification\n",
      "average_classification\n",
      "average_classification\n",
      "average_classification\n",
      "average_classification\n",
      "average_classification\n",
      "average_classification\n",
      "average_classification\n",
      "average_classification\n",
      "average_classification\n",
      "average_classification\n",
      "average_classification\n",
      "average_classification\n",
      "average_classification\n",
      "average_classification\n",
      "average_classification\n",
      "average_classification\n",
      "average_classification\n",
      "average_classification\n",
      "average_classification\n",
      "average_classification\n",
      "average_classification\n",
      "average_classification\n",
      "average_classification\n",
      "average_classification\n",
      "average_classification\n",
      "average_classification\n",
      "average_classification\n",
      "average_classification\n",
      "average_classification\n",
      "average_classification\n",
      "average_classification\n",
      "average_classification\n",
      "average_classification\n",
      "average_classification\n",
      "average_classification\n",
      "average_classification\n",
      "average_classification\n",
      "average_classification\n",
      "average_classification\n",
      "average_classification\n",
      "average_classification\n",
      "average_classification\n",
      "average_classification\n",
      "average_classification\n",
      "average_classification\n",
      "average_classification\n",
      "average_classification\n",
      "average_classification\n",
      "average_classification\n",
      "average_classification\n",
      "average_classification\n",
      "average_classification\n",
      "average_classification\n",
      "average_classification\n",
      "average_classification\n",
      "average_classification\n",
      "average_classification\n",
      "average_classification\n",
      "average_classification\n",
      "average_classification\n",
      "average_classification\n",
      "average_classification\n",
      "average_classification\n",
      "average_classification\n",
      "average_classification\n",
      "average_classification\n",
      "average_classification\n",
      "average_classification\n",
      "average_classification\n",
      "average_classification\n",
      "average_classification\n",
      "average_classification\n",
      "average_classification\n",
      "average_classification\n",
      "average_classification\n",
      "average_classification\n",
      "average_classification\n",
      "average_classification\n",
      "average_classification\n",
      "average_classification\n",
      "average_classification\n",
      "average_classification\n",
      "average_classification\n",
      "average_classification\n",
      "average_classification\n",
      "average_classification\n",
      "average_classification\n",
      "average_classification\n",
      "average_classification\n",
      "average_classification\n",
      "average_classification\n",
      "average_classification\n",
      "average_classification\n",
      "average_classification\n",
      "average_classification\n",
      "average_classification\n",
      "average_classification\n",
      "average_classification\n",
      "average_classification\n",
      "average_classification\n",
      "average_classification\n",
      "average_classification\n",
      "average_classification\n",
      "average_classification\n",
      "average_classification\n",
      "average_classification\n",
      "average_classification\n",
      "average_classification\n",
      "average_classification\n",
      "average_classification\n",
      "average_classification\n",
      "average_classification\n",
      "average_classification\n",
      "average_classification\n",
      "average_classification\n",
      "average_classification\n",
      "average_classification\n",
      "average_classification\n",
      "average_classification\n",
      "average_classification\n",
      "average_classification\n",
      "average_classification\n",
      "average_classification\n",
      "average_classification\n",
      "average_classification\n",
      "average_classification\n",
      "average_classification\n"
     ]
    }
   ],
   "source": [
    "from ngram_representation import ngram_repr_bow_mean\n",
    "from ngram_representation import ngram_repr_bow_median\n",
    "from ngram_representation import ngram_repr_bow_max\n",
    "from ngram_representation import ngram_repr_bow_min\n",
    "from ngram_representation import ngram_repr_weighted_bow\n",
    "\n",
    "from ngram_representation import missing_strat_random\n",
    "from ngram_representation import missing_strat_zeros\n",
    "\n",
    "d_models = [model for model in models\n",
    "              ]\n",
    "data = datasets\n",
    "\n",
    "NGramRepr = namedtuple('NGramRepr', 'name, repr')\n",
    "\n",
    "alpha = 0.0001\n",
    "ngram_weighted_bow_bind = lambda vecs, words : ngram_repr_weighted_bow(vecs, words, alpha, \\\n",
    "                                               get_unigram_probability, ngram_repr_bow_mean)\n",
    "ngram_reprs = [NGramRepr('BoW', ngram_repr_bow_mean), NGramRepr('median', ngram_repr_bow_median),\n",
    "               NGramRepr('max', ngram_repr_bow_max), NGramRepr('min', ngram_repr_bow_min) ,\n",
    "               NGramRepr('w-BoW', ngram_weighted_bow_bind)]\n",
    "missing_strat = missing_strat_random\n",
    "\n",
    "print('Generating features...')\n",
    "\n",
    "features_data = [FeatureSetParams(model, d, ngram_repr,\n",
    "                        generate_embedding_feat(d.train, model.model, ngram_repr.repr, missing_strat),\n",
    "                        generate_embedding_feat(d.test, model.model, ngram_repr.repr, missing_strat))\n",
    "                 for ngram_repr in ngram_reprs\n",
    "                 for model in d_models \n",
    "                 for d in datasets]\n",
    "\n",
    "\n",
    "print('Evaluating features...')\n",
    "results = [ResultParams(fs.model, fs.dataset, fs.params, average_classification_f1(fs.featTrain, fs.featTest)) for fs in features_data]"
   ]
  },
  {
   "cell_type": "code",
   "execution_count": 58,
   "metadata": {},
   "outputs": [
    {
     "name": "stdout",
     "output_type": "stream",
     "text": [
      "       dataset  dimension  f1-score     model ngram_repr\n",
      "0    Wikipedia         50  0.723841     glove        BoW\n",
      "1     WikiNews         50  0.695059     glove        BoW\n",
      "2         News         50  0.764322     glove        BoW\n",
      "3    Wikipedia        100  0.710296     glove        BoW\n",
      "4     WikiNews        100  0.701621     glove        BoW\n",
      "5         News        100  0.762150     glove        BoW\n",
      "6    Wikipedia        200  0.685046     glove        BoW\n",
      "7     WikiNews        200  0.678698     glove        BoW\n",
      "8         News        200  0.741163     glove        BoW\n",
      "9    Wikipedia        300  0.675676     glove        BoW\n",
      "10    WikiNews        300  0.677999     glove        BoW\n",
      "11        News        300  0.731247     glove        BoW\n",
      "12   Wikipedia         25  0.739306     glove        BoW\n",
      "13    WikiNews         25  0.711715     glove        BoW\n",
      "14        News         25  0.742433     glove        BoW\n",
      "15   Wikipedia         50  0.732800     glove        BoW\n",
      "16    WikiNews         50  0.710618     glove        BoW\n",
      "17        News         50  0.751416     glove        BoW\n",
      "18   Wikipedia        100  0.724719     glove        BoW\n",
      "19    WikiNews        100  0.706108     glove        BoW\n",
      "20        News        100  0.760890     glove        BoW\n",
      "21   Wikipedia        200  0.718663     glove        BoW\n",
      "22    WikiNews        200  0.709410     glove        BoW\n",
      "23        News        200  0.754689     glove        BoW\n",
      "24   Wikipedia        300  0.503007  word2vec        BoW\n",
      "25    WikiNews        300  0.476393  word2vec        BoW\n",
      "26        News        300  0.631142  word2vec        BoW\n",
      "27   Wikipedia        300  0.535211  FastText        BoW\n",
      "28    WikiNews        300  0.600450  FastText        BoW\n",
      "29        News        300  0.675041  FastText        BoW\n",
      "..         ...        ...       ...       ...        ...\n",
      "120  Wikipedia         50  0.749899     glove      w-BoW\n",
      "121   WikiNews         50  0.735000     glove      w-BoW\n",
      "122       News         50  0.798973     glove      w-BoW\n",
      "123  Wikipedia        100  0.746548     glove      w-BoW\n",
      "124   WikiNews        100  0.740080     glove      w-BoW\n",
      "125       News        100  0.792790     glove      w-BoW\n",
      "126  Wikipedia        200  0.720684     glove      w-BoW\n",
      "127   WikiNews        200  0.723195     glove      w-BoW\n",
      "128       News        200  0.769231     glove      w-BoW\n",
      "129  Wikipedia        300  0.706513     glove      w-BoW\n",
      "130   WikiNews        300  0.721763     glove      w-BoW\n",
      "131       News        300  0.768951     glove      w-BoW\n",
      "132  Wikipedia         25  0.773313     glove      w-BoW\n",
      "133   WikiNews         25  0.750817     glove      w-BoW\n",
      "134       News         25  0.789993     glove      w-BoW\n",
      "135  Wikipedia         50  0.759113     glove      w-BoW\n",
      "136   WikiNews         50  0.755462     glove      w-BoW\n",
      "137       News         50  0.792815     glove      w-BoW\n",
      "138  Wikipedia        100  0.756991     glove      w-BoW\n",
      "139   WikiNews        100  0.749018     glove      w-BoW\n",
      "140       News        100  0.792975     glove      w-BoW\n",
      "141  Wikipedia        200  0.751269     glove      w-BoW\n",
      "142   WikiNews        200  0.743847     glove      w-BoW\n",
      "143       News        200  0.781516     glove      w-BoW\n",
      "144  Wikipedia        300  0.466140  word2vec      w-BoW\n",
      "145   WikiNews        300  0.448155  word2vec      w-BoW\n",
      "146       News        300  0.625251  word2vec      w-BoW\n",
      "147  Wikipedia        300  0.576338  FastText      w-BoW\n",
      "148   WikiNews        300  0.627621  FastText      w-BoW\n",
      "149       News        300  0.733821  FastText      w-BoW\n",
      "\n",
      "[150 rows x 5 columns]\n"
     ]
    },
    {
     "data": {
      "image/png": "[encoded data removed]",
      "text/plain": [
       "<Figure size 432x288 with 1 Axes>"
      ]
     },
     "metadata": {},
     "output_type": "display_data"
    }
   ],
   "source": [
    "import seaborn as sns\n",
    "import pandas as pd\n",
    "import matplotlib.pyplot as plt\n",
    "\n",
    "sns.set(style=\"darkgrid\", palette=\"GnBu_d\")\n",
    "\n",
    "ngram_data = [{'dimension' : result.model.dimension, \n",
    "               'dataset' : result.dataset.name, 'model': result.model.type , \n",
    "               'ngram_repr': result.params.name, 'f1-score' : result.measure[0]} \n",
    "                for result in results]\n",
    "ngram_data = pd.DataFrame.from_records(ngram_data)\n",
    "\n",
    "ngram_plot = sns.lineplot(x=\"dimension\", y=\"f1-score\",\n",
    "             hue=\"ngram_repr\", style=\"ngram_repr\", err_style = 'band',\n",
    "             data=ngram_data)\n",
    "print(ngram_data)\n",
    "plt.show(ngram_plot)"
   ]
  },
  {
   "cell_type": "code",
   "execution_count": 63,
   "metadata": {
    "collapsed": true
   },
   "outputs": [],
   "source": [
    "ngram_plot_fig = ngram_plot.get_figure()\n",
    "ngram_plot_fig.savefig('D:/workspace_python/CoWoReId/ngram_plot_dim.pdf')"
   ]
  },
  {
   "cell_type": "code",
   "execution_count": 59,
   "metadata": {},
   "outputs": [
    {
     "data": {
      "image/png": "[encoded data removed]",
      "text/plain": [
       "<Figure size 432x288 with 1 Axes>"
      ]
     },
     "metadata": {},
     "output_type": "display_data"
    }
   ],
   "source": [
    "ngram_plot_per_dataset = sns.barplot(x=\"dataset\", y=\"f1-score\", hue=\"ngram_repr\", data=ngram_data)\n",
    "plt.show()"
   ]
  },
  {
   "cell_type": "code",
   "execution_count": 60,
   "metadata": {
    "collapsed": true
   },
   "outputs": [],
   "source": [
    "ngram_plot_per_dataset_fig = ngram_plot_per_dataset.get_figure()\n",
    "ngram_plot_per_dataset_fig.savefig('D:/workspace_python/CoWoReId/ngram_per_dataset_all.pdf')"
   ]
  },
  {
   "cell_type": "code",
   "execution_count": 61,
   "metadata": {},
   "outputs": [
    {
     "data": {
      "image/png": "[encoded data removed]",
      "text/plain": [
       "<Figure size 432x288 with 1 Axes>"
      ]
     },
     "metadata": {},
     "output_type": "display_data"
    }
   ],
   "source": [
    "ngram_plot_per_repr = sns.barplot(x=\"ngram_repr\", y=\"f1-score\", hue=\"dataset\", data=ngram_data)\n",
    "plt.show()"
   ]
  },
  {
   "cell_type": "code",
   "execution_count": 62,
   "metadata": {
    "collapsed": true
   },
   "outputs": [],
   "source": [
    "ngram_plot_per_repr_fig = ngram_plot_per_repr.get_figure()\n",
    "ngram_plot_per_repr_fig.savefig('D:/workspace_python/CoWoReId/ngram_per_repr_all.pdf')"
   ]
  },
  {
   "cell_type": "markdown",
   "metadata": {},
   "source": [
    "### (2) Influence on N-Gram level"
   ]
  },
  {
   "cell_type": "code",
   "execution_count": null,
   "metadata": {},
   "outputs": [
    {
     "name": "stdout",
     "output_type": "stream",
     "text": [
      "Generating features...\n",
      "160\n",
      "Evaluating features...\n",
      "average_classification\n",
      "average_classification\n",
      "average_classification\n",
      "average_classification\n",
      "average_classification\n",
      "average_classification\n",
      "average_classification\n",
      "average_classification\n",
      "average_classification\n",
      "average_classification\n",
      "average_classification\n",
      "average_classification\n",
      "average_classification\n",
      "average_classification\n",
      "average_classification\n",
      "average_classification\n",
      "average_classification\n",
      "average_classification\n",
      "average_classification\n",
      "average_classification\n",
      "average_classification\n",
      "average_classification\n",
      "average_classification\n",
      "average_classification\n",
      "average_classification\n",
      "average_classification\n",
      "average_classification\n",
      "average_classification\n",
      "average_classification\n",
      "average_classification\n",
      "average_classification\n",
      "average_classification\n",
      "average_classification\n",
      "average_classification\n",
      "average_classification\n",
      "average_classification\n",
      "average_classification\n",
      "average_classification\n",
      "average_classification\n",
      "average_classification\n",
      "average_classification\n",
      "average_classification\n",
      "average_classification\n",
      "average_classification\n",
      "average_classification\n",
      "average_classification\n",
      "average_classification\n",
      "average_classification\n",
      "average_classification\n",
      "average_classification\n",
      "average_classification\n",
      "average_classification\n",
      "average_classification\n",
      "average_classification\n",
      "average_classification\n",
      "average_classification\n",
      "average_classification\n",
      "average_classification\n",
      "average_classification\n",
      "average_classification\n",
      "average_classification\n",
      "average_classification\n",
      "average_classification\n",
      "average_classification\n",
      "average_classification\n",
      "average_classification\n",
      "average_classification\n",
      "average_classification\n",
      "average_classification\n",
      "average_classification\n",
      "average_classification\n",
      "average_classification\n",
      "average_classification\n",
      "average_classification\n",
      "average_classification\n",
      "average_classification\n",
      "average_classification\n",
      "average_classification\n",
      "average_classification\n",
      "average_classification\n",
      "average_classification\n",
      "average_classification\n",
      "average_classification\n",
      "average_classification\n",
      "average_classification\n",
      "average_classification\n",
      "average_classification\n",
      "average_classification\n",
      "average_classification\n",
      "average_classification\n",
      "average_classification\n",
      "average_classification\n",
      "average_classification\n",
      "average_classification\n",
      "average_classification\n",
      "average_classification\n",
      "average_classification\n",
      "average_classification\n",
      "average_classification\n",
      "average_classification\n",
      "average_classification\n",
      "average_classification\n",
      "average_classification\n",
      "average_classification\n",
      "average_classification\n",
      "average_classification\n",
      "average_classification\n",
      "average_classification\n",
      "average_classification\n",
      "average_classification\n",
      "average_classification\n",
      "average_classification\n",
      "average_classification\n",
      "average_classification\n",
      "average_classification\n",
      "average_classification\n",
      "average_classification\n",
      "average_classification\n",
      "average_classification\n",
      "average_classification\n",
      "average_classification\n",
      "average_classification\n",
      "average_classification\n",
      "average_classification\n",
      "average_classification\n",
      "average_classification\n",
      "average_classification\n",
      "average_classification\n"
     ]
    }
   ],
   "source": [
    "from ngram_representation import ngram_repr_bow_mean\n",
    "from ngram_representation import ngram_repr_bow_median\n",
    "from ngram_representation import ngram_repr_bow_max\n",
    "from ngram_representation import ngram_repr_bow_min\n",
    "from ngram_representation import ngram_repr_weighted_bow\n",
    "\n",
    "from ngram_representation import missing_strat_random\n",
    "from ngram_representation import missing_strat_zeros\n",
    "\n",
    "d_models = [model for model in models\n",
    "              if (model.dimension == 50)]\n",
    "data = datasets\n",
    "\n",
    "NGramRepr = namedtuple('NGramRepr', 'name, repr')\n",
    "\n",
    "alpha = 0.0001\n",
    "ngram_weighted_bow_bind = lambda vecs, words : ngram_repr_weighted_bow(vecs, words, alpha, \\\n",
    "                                               get_unigram_probability, ngram_repr_bow_mean)\n",
    "ngram_reprs = [NGramRepr('BoW', ngram_repr_bow_mean), NGramRepr('median', ngram_repr_bow_median),\n",
    "               NGramRepr('max', ngram_repr_bow_max), NGramRepr('min', ngram_repr_bow_min) ,\n",
    "               NGramRepr('w-BoW', ngram_weighted_bow_bind)]\n",
    "missing_strat = missing_strat_random\n",
    "\n",
    "print('Generating features...')\n",
    "\n",
    "features_data = [FeatureSetParams(model, d, (ngram_repr, n),\n",
    "                        generate_embedding_feat(d.train, model.model, ngram_repr.repr, missing_strat),\n",
    "                        generate_embedding_feat(d.test.loc[d.test.length == n,], model.model, ngram_repr.repr, missing_strat))\n",
    "                 for ngram_repr in ngram_reprs\n",
    "                 for model in d_models \n",
    "                 for d in datasets\n",
    "                 for n in d.test.length.unique() if n != 1]\n",
    "\n",
    "print(len(features_data))\n",
    "\n",
    "print('Evaluating features...')\n",
    "results = [ResultParams(fs.model, fs.dataset, fs.params, average_classification_f1(fs.featTrain, fs.featTest)) for fs in features_data]"
   ]
  },
  {
   "cell_type": "markdown",
   "metadata": {},
   "source": [
    "##### What happens with concatenations? What happens with varying alpha with the w-BoW approach, does it still outperform?"
   ]
  },
  {
   "cell_type": "code",
   "execution_count": null,
   "metadata": {
    "collapsed": true
   },
   "outputs": [],
   "source": []
  }
 ],
 "metadata": {
  "kernelspec": {
   "display_name": "Python 3",
   "language": "python",
   "name": "python3"
  },
  "language_info": {
   "codemirror_mode": {
    "name": "ipython",
    "version": 3
   },
   "file_extension": ".py",
   "mimetype": "text/x-python",
   "name": "python",
   "nbconvert_exporter": "python",
   "pygments_lexer": "ipython3",
   "version": "3.6.6"
  }
 },
 "nbformat": 4,
 "nbformat_minor": 2
}
