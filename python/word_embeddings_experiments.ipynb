{
 "cells": [
  {
   "cell_type": "markdown",
   "metadata": {},
   "source": [
    "# Word Embedding Experiments\n",
    "Here we implement all experiments for evaluating the classification performance of different kinds of pretrained word embeddings for complex word identification."
   ]
  },
  {
   "cell_type": "code",
   "execution_count": 1,
   "metadata": {},
   "outputs": [],
   "source": [
    "import pandas as pd\n",
    "import numpy as np\n",
    "import matplotlib.pyplot as plt\n",
    "from nltk.corpus import wordnet as wn\n",
    "from nltk.corpus import sentiwordnet as swn\n",
    "from nltk.wsd import lesk\n",
    "import nltk"
   ]
  },
  {
   "cell_type": "code",
   "execution_count": 2,
   "metadata": {},
   "outputs": [],
   "source": [
    "MAIN_RES = \"../cwishareddataset/traindevset/\"\n",
    "df_train = pd.read_csv(MAIN_RES + \"english/News_Train.tsv\", sep = \"\\t\")\n",
    "df_test = pd.read_csv(MAIN_RES + \"english/News_Dev.tsv\", sep = \"\\t\")\n",
    "columns = ['id', 'sentence', \"start\", \"end\", \"target\", \n",
    "              \"nat\", \"non_nat\", \"nat_marked\", \"non_nat_marked\", \"binary\", \"prob\"]\n",
    "df_train.columns = columns\n",
    "df_test.columns = columns"
   ]
  },
  {
   "cell_type": "code",
   "execution_count": 4,
   "metadata": {},
   "outputs": [
    {
     "name": "stderr",
     "output_type": "stream",
     "text": [
      "C:\\Users\\k_kol\\Anaconda3\\lib\\site-packages\\gensim\\utils.py:1197: UserWarning: detected Windows; aliasing chunkize to chunkize_serial\n",
      "  warnings.warn(\"detected Windows; aliasing chunkize to chunkize_serial\")\n"
     ]
    }
   ],
   "source": [
    "from gensim.test.utils import datapath, get_tmpfile\n",
    "from gensim.models import KeyedVectors\n",
    "from gensim.scripts.glove2word2vec import glove2word2vec\n",
    "\n",
    "MAIN_PATH = 'C:/Users/k_kol/workspace/CoWoReId/python/resources/word-embeddings/'\n",
    "\n",
    "glove_file = datapath(MAIN_PATH + 'glove.6B.50d.txt')\n",
    "tmp_file = get_tmpfile(\"glove2word2vec.txt\")\n",
    "\n",
    "glove2word2vec(glove_file, tmp_file)\n",
    "\n",
    "model_glove_wiki_50d = KeyedVectors.load_word2vec_format(tmp_file)\n",
    "model_word2vec_300d = KeyedVectors.load_word2vec_format(datapath(MAIN_PATH + 'GoogleNews-vectors-negative300.bin'), binary=True)"
   ]
  },
  {
   "cell_type": "markdown",
   "metadata": {},
   "source": [
    "## (1) Load GloVe embeddings"
   ]
  },
  {
   "cell_type": "code",
   "execution_count": 3,
   "metadata": {},
   "outputs": [
    {
     "name": "stderr",
     "output_type": "stream",
     "text": [
      "C:\\Users\\k_kol\\Anaconda3\\lib\\site-packages\\gensim\\utils.py:1197: UserWarning: detected Windows; aliasing chunkize to chunkize_serial\n",
      "  warnings.warn(\"detected Windows; aliasing chunkize to chunkize_serial\")\n"
     ]
    },
    {
     "name": "stdout",
     "output_type": "stream",
     "text": [
      "load model : glove.6B.50d.txt\n",
      "load model : glove.6B.100d.txt\n",
      "load model : glove.6B.200d.txt\n",
      "load model : glove.6B.300d.txt\n",
      "load model : glove.42B.300d.txt\n",
      "load model : glove.840B.300d.txt\n",
      "load model : glove.twitter.27B.25d.txt\n",
      "load model : glove.twitter.27B.50d.txt\n",
      "load model : glove.twitter.27B.100d.txt\n",
      "load model : glove.twitter.27B.200d.txt\n",
      "{'glove.6B.50d.txt': <gensim.models.keyedvectors.Word2VecKeyedVectors object at 0x00000204A675A080>, 'glove.6B.100d.txt': <gensim.models.keyedvectors.Word2VecKeyedVectors object at 0x00000204B4419EF0>, 'glove.6B.200d.txt': <gensim.models.keyedvectors.Word2VecKeyedVectors object at 0x00000204C665B470>, 'glove.6B.300d.txt': <gensim.models.keyedvectors.Word2VecKeyedVectors object at 0x00000204E2188940>, 'glove.42B.300d.txt': <gensim.models.keyedvectors.Word2VecKeyedVectors object at 0x000002048778D3C8>, 'glove.840B.300d.txt': <gensim.models.keyedvectors.Word2VecKeyedVectors object at 0x00000205AA5B3320>, 'glove.twitter.27B.25d.txt': <gensim.models.keyedvectors.Word2VecKeyedVectors object at 0x0000020674906A58>, 'glove.twitter.27B.50d.txt': <gensim.models.keyedvectors.Word2VecKeyedVectors object at 0x00000206950FAEB8>, 'glove.twitter.27B.100d.txt': <gensim.models.keyedvectors.Word2VecKeyedVectors object at 0x00000206BCAB4C88>, 'glove.twitter.27B.200d.txt': <gensim.models.keyedvectors.Word2VecKeyedVectors object at 0x00000206F282EF28>}\n"
     ]
    }
   ],
   "source": [
    "from gensim.test.utils import datapath, get_tmpfile\n",
    "from gensim.models import KeyedVectors\n",
    "from gensim.scripts.glove2word2vec import glove2word2vec\n",
    "\n",
    "MAIN_PATH = 'C:/Users/k_kol/workspace/CoWoReId/python/resources/word-embeddings/'\n",
    "\n",
    "glove_paths = ['glove.6B.50d.txt', 'glove.6B.100d.txt', 'glove.6B.200d.txt', 'glove.6B.300d.txt',\n",
    "               'glove.42B.300d.txt',  'glove.840B.300d.txt', 'glove.twitter.27B.25d.txt', \n",
    "               'glove.twitter.27B.50d.txt', 'glove.twitter.27B.100d.txt', 'glove.twitter.27B.200d.txt']\n",
    "\n",
    "glove_models = {}\n",
    "for model_path in glove_paths:\n",
    "    glove_file = datapath(MAIN_PATH + model_path)\n",
    "    tmp_file = get_tmpfile(model_path + '-temp')\n",
    "    glove2word2vec(glove_file, tmp_file)\n",
    "    glove_models[model_path] = KeyedVectors.load_word2vec_format(tmp_file)\n",
    "    print('load model : {}'.format(model_path))\n",
    "    \n",
    "print(glove_models)"
   ]
  },
  {
   "cell_type": "code",
   "execution_count": 6,
   "metadata": {},
   "outputs": [],
   "source": [
    "from ngram_representation import ngram_repr_bag_of_words\n",
    "from ngram_representation import missing_strat_zeros\n",
    "from nltk import word_tokenize\n",
    "\n",
    "def word_embedding(target, model, missing_strat, ngram_repr, *args):\n",
    "    tokens = word_tokenize(target)\n",
    "    if len(tokens) > 1:\n",
    "        # First construct multi-word query\n",
    "        query = '_'.join(tokens)\n",
    "        if query in model.vocab:\n",
    "            return model[query]\n",
    "        query = '_'.join([token.strip().lower() for token in tokens])\n",
    "        if query in model.vocab:\n",
    "            return model[query]\n",
    "        all_embeddings = [model[word.strip().lower()] \n",
    "                              if word.strip().lower() in model.vocab \n",
    "                              else missing_strat(word, model.vector_size) \n",
    "                              for word in tokens]\n",
    "        return ngram_repr(all_embeddings, *args)\n",
    "    else:\n",
    "        if target in model.vocab:\n",
    "            return model[target]\n",
    "        else:\n",
    "            return model[target.strip().lower()] \\\n",
    "                if target.strip().lower() in model.vocab \\\n",
    "                else missing_strat(target, model.vector_size)"
   ]
  },
  {
   "cell_type": "code",
   "execution_count": 7,
   "metadata": {},
   "outputs": [],
   "source": [
    "from ngram_representation import ngram_repr_bag_of_words\n",
    "from ngram_representation import missing_strat_zeros\n",
    "\n",
    "model = model_glove_wiki_50d\n",
    "missing_strat = missing_strat_zeros\n",
    "ngram_repr = ngram_repr_bag_of_words\n",
    "\n",
    "df_train['word_embedding'] = df_train['target'].apply(lambda target : \\\n",
    "            word_embedding(target, model = model, missing_strat = missing_strat, ngram_repr = ngram_repr_bag_of_words))\n",
    "df_train['length'] = df_train.target.apply(lambda target : len(target))\n",
    "df_test['word_embedding'] = df_test['target'].apply(lambda target : \\\n",
    "            word_embedding(target, model = model, missing_strat = missing_strat, ngram_repr = ngram_repr_bag_of_words))\n",
    "df_test['length'] = df_test.target.apply(lambda target : len(target))\n",
    "\n",
    "df_train_embeddings = pd.DataFrame(df_train['word_embedding'].values.tolist())\n",
    "df_test_embeddings = pd.DataFrame(df_test['word_embedding'].values.tolist())\n",
    "df_f_train = pd.concat([df_train.loc[:,['binary', 'length']], df_train_embeddings], axis = 1)\n",
    "df_f_test = pd.concat([df_test.loc[:,['binary', 'length']], df_test_embeddings], axis = 1)"
   ]
  },
  {
   "cell_type": "code",
   "execution_count": 68,
   "metadata": {},
   "outputs": [],
   "source": [
    "from sklearn.neighbors import KNeighborsClassifier\n",
    "from sklearn import svm\n",
    "\n",
    "#Prepare training and test data\n",
    "x_train = df_f_train.loc[:, df_f_train.columns != 'binary']\n",
    "y_train = df_f_train.binary.values\n",
    "x_test = df_f_test.loc[:, df_f_test.columns != 'binary']\n",
    "y_test = df_f_test.binary.values\n",
    "\n",
    "#Prepare KNN\n",
    "knn = KNeighborsClassifier(algorithm='auto', leaf_size=30, metric='minkowski',\n",
    "           metric_params=None, n_jobs=1, n_neighbors=10, p=2,\n",
    "           weights='distance')\n",
    "knn.fit(x_train, y_train) \n",
    "prediction_knn = knn.predict(x_test)\n",
    "\n",
    "svc = svm.SVC(C=1.0, cache_size=200, class_weight=None, coef0=0.0,\n",
    "    decision_function_shape='ovr', degree=3, gamma='auto', kernel='linear',\n",
    "    max_iter=-1, probability=False, random_state=None, shrinking=True,\n",
    "    tol=0.001, verbose=False)\n",
    "svc.fit(x_train, y_train)   \n",
    "prediction_svm = svc.predict(x_test)\n",
    "\n",
    "from sklearn.datasets import load_iris\n",
    "from sklearn.model_selection import cross_val_score\n",
    "from sklearn.tree import DecisionTreeClassifier\n",
    "clf = DecisionTreeClassifier(random_state=0)\n",
    "iris = load_iris()\n",
    "cross_val_score(clf, iris.data, iris.target, cv=10)"
   ]
  },
  {
   "cell_type": "code",
   "execution_count": 13,
   "metadata": {},
   "outputs": [
    {
     "name": "stdout",
     "output_type": "stream",
     "text": [
      "LR: 0.685225 (0.004390)\n",
      "LDA: 0.672045 (0.007320)\n",
      "KNN: 0.786196 (0.008104)\n",
      "DT: 0.766812 (0.001963)\n",
      "SVM: 0.796774 (0.002496)\n"
     ]
    },
    {
     "data": {
      "image/png": "[encoded data removed]",
      "text/plain": [
       "<Figure size 432x288 with 1 Axes>"
      ]
     },
     "metadata": {},
     "output_type": "display_data"
    }
   ],
   "source": [
    "import matplotlib.pyplot as plt\n",
    "from sklearn import model_selection\n",
    "from sklearn.linear_model import LogisticRegression\n",
    "from sklearn.tree import DecisionTreeClassifier\n",
    "from sklearn.neighbors import KNeighborsClassifier\n",
    "from sklearn.discriminant_analysis import LinearDiscriminantAnalysis\n",
    "from sklearn.naive_bayes import GaussianNB\n",
    "from sklearn.svm import SVC\n",
    "from sklearn.metrics import f1_score\n",
    "from sklearn.metrics import make_scorer\n",
    "\n",
    "#Prepare training and test data\n",
    "x_train = df_f_train.loc[:, df_f_train.columns != 'binary']\n",
    "y_train = df_f_train.binary.values\n",
    "x_test = df_f_test.loc[:, df_f_test.columns != 'binary']\n",
    "y_test = df_f_test.binary.values\n",
    "\n",
    "seed = 7\n",
    "# Build a collection of classification models to evaluate\n",
    "classifiers = []\n",
    "classifiers.append(('LR', LogisticRegression(penalty='l2', dual=False, tol=0.0001, C=1.0, \n",
    "                fit_intercept=True, intercept_scaling=1, class_weight=None, random_state=None, \n",
    "                solver='liblinear', max_iter=100, multi_class='ovr', verbose=0, warm_start=False,\n",
    "                n_jobs=1)))\n",
    "classifiers.append(('LDA', LinearDiscriminantAnalysis()))\n",
    "classifiers.append(('KNN', KNeighborsClassifier(algorithm='auto', leaf_size=30, metric='minkowski',\n",
    "           metric_params=None, n_jobs=1, n_neighbors=10, p=2,\n",
    "           weights='distance')))\n",
    "classifiers.append(('DT', DecisionTreeClassifier(criterion='gini', splitter='best', max_depth=None,\n",
    "           min_samples_split=2, min_samples_leaf=1, min_impurity_split=0 ,min_weight_fraction_leaf=0.0, max_features=None,\n",
    "           random_state=None, max_leaf_nodes=None, class_weight=None, presort=False)))\n",
    "classifiers.append(('SVM', SVC(C=1.0, cache_size=200, class_weight=None, coef0=0.0,\n",
    "    decision_function_shape='ovr', degree=3, gamma='auto', kernel='rbf',\n",
    "    max_iter=-1, probability=False, random_state=None, shrinking=True,\n",
    "    tol=0.001, verbose=False)))\n",
    "# evaluate each model in turn\n",
    "results = []\n",
    "names = []\n",
    "for name, model in classifiers:\n",
    "    kfold = model_selection.KFold(n_splits=2, random_state=seed)\n",
    "    cv_results = model_selection.cross_val_score(model, x_train, y_train, cv=kfold, scoring=make_scorer(f1_score))\n",
    "    results.append(cv_results)\n",
    "    names.append(name)\n",
    "    msg = \"%s: %f (%f)\" % (name, cv_results.mean(), cv_results.std())\n",
    "    print(msg)\n",
    "# boxplot results for different classification algorithms\n",
    "fig = plt.figure()\n",
    "fig.suptitle('Algorithm Comparison')\n",
    "ax = fig.add_subplot(111)\n",
    "plt.boxplot(results)\n",
    "ax.set_xticklabels(names)\n",
    "plt.show()"
   ]
  },
  {
   "cell_type": "code",
   "execution_count": 69,
   "metadata": {},
   "outputs": [
    {
     "name": "stdout",
     "output_type": "stream",
     "text": [
      "             precision    recall  f1-score   support\n",
      "\n",
      "          0       0.83      0.90      0.86      1067\n",
      "          1       0.83      0.71      0.76       696\n",
      "\n",
      "avg / total       0.83      0.83      0.82      1763\n",
      "\n",
      "             precision    recall  f1-score   support\n",
      "\n",
      "          0       0.84      0.88      0.86      1067\n",
      "          1       0.80      0.74      0.77       696\n",
      "\n",
      "avg / total       0.82      0.82      0.82      1763\n",
      "\n"
     ]
    }
   ],
   "source": [
    "from sklearn.metrics import classification_report\n",
    "\n",
    "print(classification_report(y_test, prediction_knn))\n",
    "print(classification_report(y_test, prediction_svm))"
   ]
  },
  {
   "cell_type": "code",
   "execution_count": null,
   "metadata": {},
   "outputs": [],
   "source": []
  }
 ],
 "metadata": {
  "kernelspec": {
   "display_name": "Python 3",
   "language": "python",
   "name": "python3"
  },
  "language_info": {
   "codemirror_mode": {
    "name": "ipython",
    "version": 3
   },
   "file_extension": ".py",
   "mimetype": "text/x-python",
   "name": "python",
   "nbconvert_exporter": "python",
   "pygments_lexer": "ipython3",
   "version": "3.6.6"
  }
 },
 "nbformat": 4,
 "nbformat_minor": 2
}
